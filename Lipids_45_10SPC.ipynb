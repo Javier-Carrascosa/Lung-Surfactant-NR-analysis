{
 "cells": [
  {
   "cell_type": "markdown",
   "metadata": {},
   "source": [
    "# Neutron reflectometry analysis of lipid monolayers"
   ]
  },
  {
   "cell_type": "markdown",
   "metadata": {},
   "source": [
    "This notebook allows the co-refinement of different contrasts of lipid monolayers:\n",
    "\n",
    " - A model of 2 layers is used: tails | heads\n",
    " - The possibility to include a guest molecule in heads and/or tails, a protein in this case, is implemented \n",
    " - Constraint to make sure the the surface excess of heads and tails is the same in the monolayer is applied\n",
    " - The tails SLD is fitted in order to consider tail compaction and/or loss of molecules into the bulk"
   ]
  },
  {
   "cell_type": "code",
   "execution_count": 1,
   "metadata": {},
   "outputs": [
    {
     "data": {
      "text/plain": [
       "('0.1.52', '1.14.1')"
      ]
     },
     "execution_count": 1,
     "metadata": {},
     "output_type": "execute_result"
    }
   ],
   "source": [
    "%matplotlib inline\n",
    "import matplotlib.pyplot as plt\n",
    "import numpy as np\n",
    "import os.path\n",
    "import glob\n",
    "\n",
    "\n",
    "import refnx, scipy\n",
    "\n",
    "# the analysis module contains the curvefitting engine\n",
    "from refnx.analysis import CurveFitter, Objective, Parameter, GlobalObjective, process_chain, Interval, Transform\n",
    "\n",
    "# the reflect module contains functionality relevant to reflectometry\n",
    "from refnx.reflect import SLD, ReflectModel, Structure, LipidLeaflet, Slab, create_occupancy\n",
    "\n",
    "# the ReflectDataset object will contain the data\n",
    "from refnx.dataset import ReflectDataset\n",
    "\n",
    "# version numbers used in this analysis\n",
    "refnx.version.version, scipy.version.version"
   ]
  },
  {
   "cell_type": "markdown",
   "metadata": {},
   "source": [
    "#### Loading the data"
   ]
  },
  {
   "cell_type": "code",
   "execution_count": 2,
   "metadata": {},
   "outputs": [],
   "source": [
    "pth = os.getcwd()\n",
    "\n",
    "data_dLip_acmw = ReflectDataset(os.path.join(pth, 'dLips_10SPC_ACMW_45.mft'))\n",
    "data_dLip_acmw.name = \"dLip_acmw\"\n",
    "\n",
    "data_dLip_d2o = ReflectDataset(os.path.join(pth, 'dLips_10SPC_D2O_45.mft'))\n",
    "data_dLip_d2o.name = \"dLip_d2o\"\n",
    "\n",
    "# data_hLip_acmw = ReflectDataset(os.path.join(pth, 'hLips_10SPC_ACMW_45.mft'))\n",
    "# data_hLip_acmw.name = \"hLip_acmw\"\n",
    "\n",
    "data_hLip_d2o = ReflectDataset(os.path.join(pth, 'hLips_10SPC_D2O_45.mft'))\n",
    "data_hLip_d2o.name = \"hLip_d2o\"\n"
   ]
  },
  {
   "cell_type": "markdown",
   "metadata": {},
   "source": [
    "### Define all the necessary parameters to create the `structure` for each contrast:\n",
    "Scattering lengths, molecular volume, SLD, roughness, thickness, volume fraction of solvent"
   ]
  },
  {
   "cell_type": "code",
   "execution_count": 3,
   "metadata": {},
   "outputs": [],
   "source": [
    "air = SLD(0 + 0j, 'air')\n",
    "\n",
    "# The following represent the solvent contrasts used in the experiment\n",
    "d2o_hlip = SLD(6.16 + 0j, 'd2o_hlip')\n",
    "d2o_dlip = SLD(5.87 + 0j, 'd2o_dlip')\n",
    "acmw = SLD(0 + 0j, 'acmw')\n",
    "\n",
    "# Define molecular volumes\n",
    "vm_tail = Parameter(869.01, name=\"vm_tail\")\n",
    "vm_head = 323.1\n",
    "vm_p = 500.53\n",
    "vm_lip = vm_tail + vm_head\n",
    "\n",
    "\n",
    "# Define scattering length (SL) of tails, heads, lipid molecule and protein\n",
    "dtail_SL = 414.79\n",
    "htail_SL = -29.95\n",
    "\n",
    "d_head_d2o_SL = 61.93\n",
    "d_head_acmw_SL = 61.93\n",
    "h_head_d2o_SL = 61.93\n",
    "# h_head_acmw_SL = 61.93\n",
    "\n",
    "d_lip_d2o_SL = dtail_SL + d_head_d2o_SL\n",
    "d_lip_acmw_SL = dtail_SL + d_head_acmw_SL\n",
    "h_lip_d2o_SL = htail_SL + h_head_d2o_SL\n",
    "# h_lip_acmw_SL = htail_SL + h_head_acmw_SL\n",
    "\n",
    "spc_acmw_SLD = 1.21\n",
    "spc_d2o_SLD = 2.14\n",
    "\n",
    "#Define scattering length density (SLD)\n",
    "d_lip_d2o_SLD = 10*d_lip_d2o_SL/vm_lip\n",
    "d_lip_acmw_SLD = 10*d_lip_acmw_SL/vm_lip\n",
    "h_lip_d2o_SLD = 10*h_lip_d2o_SL/vm_lip\n",
    "# h_lip_acmw_SLD = 10*h_lip_acmw_SL/vm_lip\n",
    "\n",
    "\n",
    "rough = Parameter(value=4.5, name='rough', vary=False, bounds=Interval(lb=3.9, ub=6))\n",
    "\n",
    "# Monolayer / tails layer\n",
    "tail_thick = Parameter(value=13, name='tail_thick', vary=True, bounds=Interval(lb=10, ub=25))\n",
    "htail_SLD = Parameter(value=-0.5, name='htail_SLD', vary=True, bounds=Interval(lb=10*htail_SL/vm_tail, ub=1.5*10*htail_SL/vm_tail))\n",
    "dtail_SLD = Parameter(value=4.5, name='dtail_SLD', vary=True, bounds=Interval(lb=10*dtail_SL/vm_tail, ub=1.5*10*dtail_SL/vm_tail))\n",
    "tail_vfsolv = Parameter(value=0.0, name='tail_vfsolv')\n",
    "\n",
    "# Monolayer / headgroups layer\n",
    "head_thick = Parameter(value=9, name='head_thick', vary=True, bounds=Interval(lb=8, ub=15))\n",
    "d_head_d2o_SLD = Parameter(value=10*d_head_d2o_SL/vm_head, name='d_head_d2o_SLD')\n",
    "d_head_acmw_SLD = Parameter(value=10*d_head_acmw_SL/vm_head, name='d_head_acmw_SLD')\n",
    "h_head_d2o_SLD = Parameter(value=10*h_head_d2o_SL/vm_head, name='h_head_d2o_SLD')\n",
    "# h_head_acmw_SLD = Parameter(value=10*h_head_acmw_SL/vm_head, name='h_head_acmw_SLD')\n",
    "head_vfsolv = Parameter(value=0.35, name='head_vfsolv', vary=True, bounds=Interval(lb=0, ub=0.7))\n",
    "\n",
    "# Based on the previously defined parameters, the slabs for the different contrasts are constructed\n",
    "htail = Slab(tail_thick, htail_SLD, rough, 'tail', tail_vfsolv)\n",
    "dtail = Slab(tail_thick, dtail_SLD, rough, 'dtail', tail_vfsolv)\n",
    "d_head_d2o = Slab(head_thick, d_head_d2o_SLD, rough, 'head', head_vfsolv)\n",
    "d_head_acmw = Slab(head_thick, d_head_acmw_SLD, rough, 'head', head_vfsolv)\n",
    "h_head_d2o = Slab(head_thick, h_head_d2o_SLD, rough, 'head', head_vfsolv)\n",
    "# h_head_acmw = Slab(head_thick, h_head_acmw_SLD, rough, 'head', head_vfsolv)\n",
    "\n",
    "# The following parameters define the volume fraction of the protein in heads (p_heads_vf) and tails (p_tails_vf).\n",
    "p_heads_vf = Parameter(value=0.0, name='p_head_vfsolv', vary=False, bounds=Interval(lb=0.0, ub=1.0))\n",
    "p_tails_vf = Parameter(value=0.0, name='p_tails_vfsolv', vary=False, bounds=Interval(lb=0.0, ub=1.0))\n",
    "\n",
    "# The surface excess and area per molecule of heads and tails in the monolayer and reservoirs is calculated\n",
    "Gamma_tails_monolayer = (tail_thick*dtail_SLD*(1 - p_tails_vf))/(dtail_SL*0.06023)\n",
    "Gamma_heads_monolayer = (head_thick*d_head_acmw_SLD*(1 - p_heads_vf - head_vfsolv))/(d_head_acmw_SL*0.06023)\n",
    "A_permolecule_tails_monolayer = 10**20/(Gamma_tails_monolayer*10**-6*6.022*10**23)\n",
    "A_permolecule_heads_monolayer =10**20/(Gamma_heads_monolayer*10**-6*6.022*10**23)"
   ]
  },
  {
   "cell_type": "markdown",
   "metadata": {},
   "source": [
    "#### Define the constraints to be applied in the fit"
   ]
  },
  {
   "cell_type": "code",
   "execution_count": 4,
   "metadata": {},
   "outputs": [],
   "source": [
    "# (1) The first constraint is ensuring that the surface excess of tails and heads in the monolayer is the same. The calculation is taking the account the\n",
    "# amount of protein in heads and/or tails that must be defined previously as p_heads_vf and/or p_tails_vf\n",
    "head_vfsolv.set_constraint(1 - p_heads_vf - ((tail_thick * ((d_head_acmw_SL * 0.06023 * dtail_SLD * (1 - p_tails_vf))))/(d_head_acmw_SLD * head_thick * 0.06023 * dtail_SL)))\n",
    "\n",
    "def calculate_heads_vf():\n",
    "    return 1 - head_vfsolv.value - p_heads_vf.value\n",
    "\n",
    "heads_vf = Parameter(name='heads_vf')\n",
    "heads_vf.set_constraint(calculate_heads_vf)\n",
    "\n",
    "# (2) A second constraint need to fit the SLD of the deuterated tails and hydrogenous tails to variate in teh same way.\n",
    "htail_SLD.set_constraint(\n",
    "    10*htail_SL/(10*dtail_SL/dtail_SLD))"
   ]
  },
  {
   "cell_type": "markdown",
   "metadata": {},
   "source": [
    "#### Define the `structure` of the different contrasts"
   ]
  },
  {
   "cell_type": "code",
   "execution_count": 5,
   "metadata": {},
   "outputs": [],
   "source": [
    "dLip_acmw = air | dtail | d_head_acmw | acmw(0, rough)\n",
    "dLip_d2o = air | dtail | d_head_d2o | d2o_dlip(0, rough)\n",
    "# hLip_acmw = air | htail_acmw | h_head_acmw | acmw(0, rough)\n",
    "hLip_d2o = air | htail | h_head_d2o | d2o_hlip(0, rough)"
   ]
  },
  {
   "cell_type": "markdown",
   "metadata": {},
   "source": [
    "#### Create a `model` for each dataset based on the `structure` previously defined"
   ]
  },
  {
   "cell_type": "code",
   "execution_count": 6,
   "metadata": {},
   "outputs": [],
   "source": [
    "scale = 1.0\n",
    "bkg = 1e-6\n",
    "name = 'model'\n",
    "dq = 7\n",
    "\n",
    "model_dLip_acmw = ReflectModel(dLip_acmw, scale, bkg, 'model_dLip_acmw', dq)\n",
    "model_dLip_d2o = ReflectModel(dLip_d2o, 0.974, bkg, 'model_dLip_d2o', dq)\n",
    "# model_hLip_acmw = ReflectModel(hLip_acmw, scale, bkg, 'model_hLip_acmw', dq)\n",
    "model_hLip_d2o = ReflectModel(hLip_d2o, 0.974, bkg, 'model_hLip_d2o', dq)"
   ]
  },
  {
   "cell_type": "markdown",
   "metadata": {},
   "source": [
    "#### Combine model and data into a `objective` for each contrast"
   ]
  },
  {
   "cell_type": "code",
   "execution_count": 7,
   "metadata": {},
   "outputs": [],
   "source": [
    "YX4 = Transform('YX4')\n",
    "\n",
    "objective_dLip_acmw = Objective(model_dLip_acmw, data_dLip_acmw, transform=YX4, name='dLip_acmw')\n",
    "objective_dLip_d2o = Objective(model_dLip_d2o, data_dLip_d2o, transform=YX4, name='dLip_d2o')\n",
    "# objective_hLip_acmw = Objective(model_hLip_acmw, data_hLip_acmw, transform=YX4, name='hLip_acmw')\n",
    "objective_hLip_d2o = Objective(model_hLip_d2o, data_hLip_d2o, transform=YX4, name='hLip_d2o')"
   ]
  },
  {
   "cell_type": "markdown",
   "metadata": {},
   "source": [
    "#### Combine multiple objectives into a `global objective` to corefine different contrasts"
   ]
  },
  {
   "cell_type": "code",
   "execution_count": 8,
   "metadata": {},
   "outputs": [],
   "source": [
    "objective_dLip_acmw.weighted = objective_dLip_d2o.weighted = objective_hLip_d2o.weighted = True \n",
    "global_objective = GlobalObjective([objective_dLip_acmw, objective_dLip_d2o, objective_hLip_d2o])"
   ]
  },
  {
   "cell_type": "markdown",
   "metadata": {},
   "source": [
    "#### Create and perform fitting routine"
   ]
  },
  {
   "cell_type": "code",
   "execution_count": 9,
   "metadata": {},
   "outputs": [
    {
     "name": "stderr",
     "output_type": "stream",
     "text": [
      "-6085.531959748851: : 15it [00:05,  2.69it/s]\n"
     ]
    },
    {
     "data": {
      "text/plain": [
       "             message: Optimization terminated successfully.\n",
       "             success: True\n",
       "                 fun: -6088.268648655332\n",
       "                   x: [ 1.456e+01  6.469e+00  1.317e+01]\n",
       "                 nit: 15\n",
       "                nfev: 776\n",
       "          population: [[ 1.459e+01  6.452e+00  1.306e+01]\n",
       "                       [ 1.441e+01  6.502e+00  1.291e+01]\n",
       "                       ...\n",
       "                       [ 1.442e+01  6.501e+00  1.373e+01]\n",
       "                       [ 1.476e+01  6.382e+00  1.260e+01]]\n",
       " population_energies: [-6.088e+03 -6.063e+03 ... -6.025e+03 -6.030e+03]\n",
       "                 jac: [ 1.910e-03 -2.365e-03  1.182e-03]\n",
       "               covar: [[ 1.336e-03 -5.021e-04  2.665e-04]\n",
       "                       [-5.021e-04  2.076e-04 -6.520e-05]\n",
       "                       [ 2.665e-04 -6.520e-05  4.664e-03]]\n",
       "              stderr: [ 3.656e-02  1.441e-02  6.830e-02]"
      ]
     },
     "execution_count": 9,
     "metadata": {},
     "output_type": "execute_result"
    }
   ],
   "source": [
    "fitter = CurveFitter(global_objective)\n",
    "fitter.fit(method = 'differential_evolution')"
   ]
  },
  {
   "cell_type": "markdown",
   "metadata": {},
   "source": [
    "#### Print chi2 and a summary of the fitted paremeters"
   ]
  },
  {
   "cell_type": "code",
   "execution_count": 10,
   "metadata": {},
   "outputs": [
    {
     "name": "stdout",
     "output_type": "stream",
     "text": [
      "chi2: 5.588331414628214\n",
      "________________________________________________________________________________\n",
      "Parameters:      None      \n",
      "<Parameter: 'tail_thick'  , value=14.5594 +/- 0.0366, bounds=[10.0, 25.0]>\n",
      "<Parameter:  'dtail_SLD'  , value=6.46948 +/- 0.0144, bounds=[4.773132645193957, 7.159698967790935]>\n",
      "<Parameter: 'head_thick'  , value=13.168 +/- 0.0683, bounds=[8.0, 15.0]>\n"
     ]
    }
   ],
   "source": [
    "print(f\"chi2: {global_objective.chisqr()/(global_objective.npoints - len(global_objective.varying_parameters()))}\")\n",
    "print(global_objective.parameters.varying_parameters())"
   ]
  },
  {
   "cell_type": "markdown",
   "metadata": {},
   "source": [
    "##### Print summary of the most relevant parameters"
   ]
  },
  {
   "cell_type": "code",
   "execution_count": 11,
   "metadata": {},
   "outputs": [
    {
     "name": "stdout",
     "output_type": "stream",
     "text": [
      "chi2: 5.588331414628214\n",
      "\n",
      "<Parameter: 'tail_thick'  , value=14.5594 +/- 0.0366, bounds=[10.0, 25.0]>\n",
      "<Parameter:'p_tails_vfsolv', value=0  (fixed) , bounds=[0.0, 1.0]>\n",
      "dtail_SLD: 6.469484647866484\n",
      "htail_SLD: 6.469484647866484\n",
      "Delta %SLD: 35.62860896994726\n",
      "\n",
      "<Parameter: 'head_thick'  , value=13.168 +/- 0.0683, bounds=[8.0, 15.0]>\n",
      "<Parameter: 'head_vfsolv' , value=0.44281          , bounds=[0.0, 0.7], constraint=<Parameter:     None      , value=0.44281  (fixed) , bounds=None>>\n",
      "<Parameter:'p_head_vfsolv', value=0  (fixed) , bounds=[0.0, 1.0]>\n",
      "<Parameter:    'rough'    , value=4.5  (fixed) , bounds=[3.9, 6.0]>\n",
      "\n",
      "Gamma_tails_monolayer: 3.770271679195931\n",
      "Gamma_heads_monolayer: 3.770271679195931\n",
      "A_permolecule_tails_monolayer: 44.04398468857204\n",
      "A_permolecule_heads_monolayer: 44.04398468857204\n"
     ]
    }
   ],
   "source": [
    "print(f\"chi2: {global_objective.chisqr()/(global_objective.npoints - len(global_objective.varying_parameters()))}\")\n",
    "print()\n",
    "print(tail_thick)\n",
    "print(p_tails_vf)\n",
    "print(f\"dtail_SLD: {dtail_SLD.value}\")\n",
    "print(f\"htail_SLD: {dtail_SLD.value}\")\n",
    "print(f\"Delta %SLD: {100*(dtail_SLD.value-4.77)/4.77}\")\n",
    "print()\n",
    "print(head_thick)\n",
    "print(head_vfsolv)\n",
    "print(p_heads_vf)\n",
    "print(rough)\n",
    "print()\n",
    "print(f\"Gamma_tails_monolayer: {Gamma_tails_monolayer.value}\")\n",
    "print(f\"Gamma_heads_monolayer: {Gamma_heads_monolayer.value}\")\n",
    "print(f\"A_permolecule_tails_monolayer: {A_permolecule_tails_monolayer.value}\")\n",
    "print(f\"A_permolecule_heads_monolayer: {A_permolecule_heads_monolayer.value}\")"
   ]
  },
  {
   "cell_type": "markdown",
   "metadata": {},
   "source": [
    "#### Vertification of applied constraints"
   ]
  },
  {
   "cell_type": "code",
   "execution_count": 12,
   "metadata": {},
   "outputs": [
    {
     "name": "stdout",
     "output_type": "stream",
     "text": [
      "Gamma_heads_monolayer_d_acmw: <Parameter:     None      , value=3.77027  (fixed) , bounds=None>\n",
      "Gamma_tails_monolayer_d_acmw: <Parameter:     None      , value=3.77027  (fixed) , bounds=None>\n",
      "\n",
      "Gamma_heads_monolayer_d_d2o: <Parameter:     None      , value=3.77027  (fixed) , bounds=None>\n",
      "Gamma_tails_monolayer_d_d2o: <Parameter:     None      , value=3.77027  (fixed) , bounds=None>\n",
      "\n",
      "Gamma_heads_monolayer_h_d2o: <Parameter:     None      , value=3.77027  (fixed) , bounds=None>\n",
      "Gamma_tails_monolayer_h_d2o: <Parameter:     None      , value=3.77027  (fixed) , bounds=None>\n",
      "\n"
     ]
    }
   ],
   "source": [
    "# Verify that the constraints are correctly applied across all contrasts\n",
    "\n",
    "# Constraint [Gamma_tails_monolayer = Gamma_heads_monolayer]\n",
    "print(f\"Gamma_heads_monolayer_d_acmw: {(head_thick*d_head_acmw_SLD*(1 - p_heads_vf - head_vfsolv))/(d_head_acmw_SL*0.06023)}\")\n",
    "print(f\"Gamma_tails_monolayer_d_acmw: {(tail_thick*dtail_SLD*(1 - p_tails_vf))/(dtail_SL*0.06023)}\")\n",
    "print()\n",
    "print(f\"Gamma_heads_monolayer_d_d2o: {(head_thick*d_head_d2o_SLD*(1 - p_heads_vf - head_vfsolv))/(d_head_d2o_SL*0.06023)}\")\n",
    "print(f\"Gamma_tails_monolayer_d_d2o: {(tail_thick*dtail_SLD*(1 - p_tails_vf))/(dtail_SL*0.06023)}\")\n",
    "print()\n",
    "# print(f\"Gamma_heads_monolayer_h_acmw: {(head_thick*h_head_acmw_SLD*(1 - p_heads_vf - head_vfsolv))/(h_head_acmw_SL*0.06023)}\")\n",
    "# print(f\"Gamma_tails_monolayer_h_acmw: {(tail_thick*htail_SLD*(1 - p_tails_vf))/(htail_SL*0.06023)}\")\n",
    "# print()\n",
    "print(f\"Gamma_heads_monolayer_h_d2o: {(head_thick*h_head_d2o_SLD*(1 - p_heads_vf - head_vfsolv))/(h_head_d2o_SL*0.06023)}\")\n",
    "print(f\"Gamma_tails_monolayer_h_d2o: {(tail_thick*htail_SLD*(1 - p_tails_vf))/(htail_SL*0.06023)}\")\n",
    "print()"
   ]
  },
  {
   "cell_type": "markdown",
   "metadata": {},
   "source": [
    "#### Plot the refletivity profiles and the obtained fits"
   ]
  },
  {
   "cell_type": "code",
   "execution_count": 23,
   "metadata": {},
   "outputs": [
    {
     "name": "stdout",
     "output_type": "stream",
     "text": [
      "chi2: 5.588334616989553\n"
     ]
    },
    {
     "name": "stderr",
     "output_type": "stream",
     "text": [
      "C:\\Users\\carrascosa-tejedor\\AppData\\Local\\Temp\\ipykernel_4744\\2765464128.py:18: UserWarning: set_ticklabels() should only be used with a fixed number of ticks, i.e. after set_ticks() or using a FixedLocator.\n",
      "  ax.set_xticklabels(ax.get_xticks(), fontsize=12, fontweight='bold')\n",
      "C:\\Users\\carrascosa-tejedor\\AppData\\Local\\Temp\\ipykernel_4744\\2765464128.py:19: UserWarning: set_ticklabels() should only be used with a fixed number of ticks, i.e. after set_ticks() or using a FixedLocator.\n",
      "  ax.set_yticklabels(ax.get_yticks(), fontsize=12, fontweight='bold')\n"
     ]
    },
    {
     "data": {
      "image/png": "[encoded data removed]",
      "text/plain": [
       "<Figure size 640x480 with 1 Axes>"
      ]
     },
     "metadata": {},
     "output_type": "display_data"
    }
   ],
   "source": [
    "print(f\"chi2: {global_objective.chisqr()/(global_objective.npoints - len(global_objective.varying_parameters()))}\")\n",
    "import numpy as np\n",
    "import matplotlib.pyplot as plt\n",
    "import matplotlib.ticker as ticker\n",
    "from matplotlib.lines import Line2D\n",
    "import matplotlib.colors as mcolors\n",
    "import colorsys\n",
    "\n",
    "\n",
    "# Plot using refnx built-in function\n",
    "fig, ax = global_objective.plot()\n",
    "\n",
    "# Set axis line thickness\n",
    "for spine in ax.spines.values():\n",
    "    spine.set_linewidth(1.5)\n",
    "\n",
    "# Font size and bold labels\n",
    "ax.set_xticklabels(ax.get_xticks(), fontsize=12, fontweight='bold')\n",
    "ax.set_yticklabels(ax.get_yticks(), fontsize=12, fontweight='bold')\n",
    "\n",
    "# Axis formatting\n",
    "ax.xaxis.set_major_formatter(ticker.FormatStrFormatter('%.2f'))\n",
    "ax.yaxis.set_major_formatter(\n",
    "    ticker.FuncFormatter(lambda x, _: f\"$10^{{{int(np.log10(x))}}}$\")\n",
    ")\n",
    "\n",
    "# Axes scaling and limits\n",
    "ax.set_yscale('log')\n",
    "ax.set_xlabel(r'$\\mathbf{Q}_\\mathbf{Z}$ $\\mathbf{(\\AA}^{\\mathbf{-1}}\\mathbf{)}$', fontsize=16)\n",
    "ax.set_ylabel(r'$\\mathbf{RQ}_{\\mathbf{Z}}^{\\ \\mathbf{4}}$ $\\mathbf{(\\AA}^{\\mathbf{-4}}\\mathbf{)}$', fontsize=16)\n",
    "ax.set_xlim(0, 0.25)\n",
    "ax.set_ylim(1E-10, 1E-7)\n",
    "\n",
    "def adjust_color_lightness(color, factor):\n",
    "    \"\"\"Adjust lightness of a matplotlib color using HLS.\"\"\"\n",
    "    r, g, b = mcolors.to_rgb(color)\n",
    "    h, l, s = colorsys.rgb_to_hls(r, g, b)\n",
    "    l = np.clip(l * factor, 0, 1)\n",
    "    r, g, b = colorsys.hls_to_rgb(h, l, s)\n",
    "    return (r, g, b)\n",
    "\n",
    "light_red = adjust_color_lightness('red', 1.4)    # lighter red\n",
    "dark_red  = adjust_color_lightness('red', 0.6)    # darker red\n",
    "light_blue = adjust_color_lightness('blue', 1.4)\n",
    "dark_blue  = adjust_color_lightness('blue', 0.6)\n",
    "light_orange = adjust_color_lightness('orange', 1.4)\n",
    "dark_orange  = adjust_color_lightness('orange', 0.6)\n",
    "\n",
    "# === Define custom colors for datasets === #\n",
    "data_styles = {\n",
    "    'dLip_acmw': {'color': light_red, 'line': dark_red},\n",
    "    'dLip_d2o': {'color': light_blue, 'line': dark_blue},\n",
    "    'hLip_d2o': {'color': light_orange, 'line': dark_orange},\n",
    "}\n",
    "\n",
    "# === Apply custom styles to data and fit lines === #\n",
    "lines = ax.get_lines()\n",
    "line_idx = 0\n",
    "\n",
    "for objective in global_objective.objectives:\n",
    "    label = objective.data.name\n",
    "    if label not in data_styles:\n",
    "        continue\n",
    "\n",
    "    # --- Data line (markers) ---\n",
    "    data_line = lines[line_idx]\n",
    "    data_line.set_color(data_styles[label]['color'])\n",
    "    data_line.set_marker('o')\n",
    "    data_line.set_markersize(6)\n",
    "    data_line.set_linestyle('None')\n",
    "    data_line.set_label(label)  # For legend\n",
    "\n",
    "    line_idx += 1\n",
    "\n",
    "    # --- Fit line ---\n",
    "    fit_line = lines[line_idx]\n",
    "    fit_line.set_color(data_styles[label]['line'])\n",
    "    fit_line.set_linewidth(2.5)\n",
    "    fit_line.set_label(f\"{label} fit\")\n",
    "\n",
    "    line_idx += 1\n",
    "\n",
    "# === Fix error bar colors to match data points === #\n",
    "# ax.collections are the error bars\n",
    "for col, objective in zip(ax.collections, global_objective.objectives):\n",
    "    label = objective.data.name\n",
    "    if label in data_styles:\n",
    "        col.set_color(data_styles[label]['color'])\n",
    "\n",
    "# === Add legend === #\n",
    "# ax.legend(frameon=True, prop={'weight': 'bold', 'size': 10})\n",
    "\n",
    "# === Optional: Save figure for publication === #\n",
    "fig.savefig(\"Ref_fit_SPC_45mNm.png\", dpi=600, bbox_inches='tight')"
   ]
  },
  {
   "cell_type": "markdown",
   "metadata": {},
   "source": [
    "#### Plot SLD profiles"
   ]
  },
  {
   "cell_type": "code",
   "execution_count": 14,
   "metadata": {},
   "outputs": [
    {
     "name": "stderr",
     "output_type": "stream",
     "text": [
      "C:\\Users\\carrascosa-tejedor\\AppData\\Local\\Temp\\ipykernel_4744\\3316731443.py:11: UserWarning: set_ticklabels() should only be used with a fixed number of ticks, i.e. after set_ticks() or using a FixedLocator.\n",
      "  ax.set_xticklabels(ax.get_xticks(), fontsize=12, fontweight='bold')\n",
      "C:\\Users\\carrascosa-tejedor\\AppData\\Local\\Temp\\ipykernel_4744\\3316731443.py:12: UserWarning: set_ticklabels() should only be used with a fixed number of ticks, i.e. after set_ticks() or using a FixedLocator.\n",
      "  ax.set_yticklabels(ax.get_yticks(), fontsize=12, fontweight='bold')\n"
     ]
    },
    {
     "data": {
      "image/png": "[encoded data removed]",
      "text/plain": [
       "<Figure size 640x480 with 1 Axes>"
      ]
     },
     "metadata": {},
     "output_type": "display_data"
    }
   ],
   "source": [
    "fig, ax = plt.subplots()\n",
    "\n",
    "ax = plt.gca()  # Get the current axis\n",
    "\n",
    "# Set the thickness of each axis line\n",
    "for spine in ax.spines.values():\n",
    "    spine.set_linewidth(1.5)\n",
    "import matplotlib.pyplot as plt\n",
    "\n",
    "# Set the size of the x and y labels\n",
    "ax.set_xticklabels(ax.get_xticks(), fontsize=12, fontweight='bold')\n",
    "ax.set_yticklabels(ax.get_yticks(), fontsize=12, fontweight='bold')\n",
    "\n",
    "# To round the values of x-axis to two decimal places\n",
    "import matplotlib.ticker as ticker\n",
    "ax.xaxis.set_major_formatter(ticker.FormatStrFormatter('%.0f'))\n",
    "ax.yaxis.set_major_formatter(ticker.FormatStrFormatter('%.1f'))\n",
    "\n",
    "def adjust_color_lightness(color, factor):\n",
    "    \"\"\"Adjust lightness of a matplotlib color using HLS.\"\"\"\n",
    "    r, g, b = mcolors.to_rgb(color)\n",
    "    h, l, s = colorsys.rgb_to_hls(r, g, b)\n",
    "    l = np.clip(l * factor, 0, 1)\n",
    "    r, g, b = colorsys.hls_to_rgb(h, l, s)\n",
    "    return (r, g, b)\n",
    "\n",
    "dark_red  = adjust_color_lightness('red', 0.6)    # darker red\n",
    "dark_blue  = adjust_color_lightness('blue', 0.6)\n",
    "dark_orange  = adjust_color_lightness('orange', 0.6)\n",
    "\n",
    "ax.plot(*dLip_acmw.sld_profile(), label='dLip_acmw', color='red', linewidth=2.5)\n",
    "ax.plot(*dLip_d2o.sld_profile(), label='dLip_d2o', color='blue', linewidth=2.5)\n",
    "# ax.plot(*hLip_acmw.sld_profile(), label='hLip_acmw', color='green', linewidth=2.5)\n",
    "ax.plot(*hLip_d2o.sld_profile(), label='hLip_d2o', color='orange', linewidth=2.5)\n",
    "\n",
    "ax.set_ylabel(r\"$\\mathbf{\\rho}$ $\\mathbf{(10}^{\\mathbf{-6}} \\mathbf{\\AA}^{\\mathbf{-2}}\\mathbf{)}$\", fontsize=16)\n",
    "ax.set_xlabel(r\"$\\mathbf{z}$ $\\mathbf{(\\AA)}$\", fontsize=16)\n",
    "plt.xlim(-30, 60)\n",
    "plt.ylim(-1, 7)\n",
    "# ax.legend(frameon=True, prop={'weight': 'bold', 'size': 10});\n",
    "\n",
    "fig.savefig(\"SLDprofile_SPC_45mNm.png\", dpi=600, bbox_inches='tight')"
   ]
  },
  {
   "cell_type": "markdown",
   "metadata": {},
   "source": [
    "#### Generate and plot the volume fraction profiles"
   ]
  },
  {
   "cell_type": "code",
   "execution_count": 15,
   "metadata": {},
   "outputs": [
    {
     "name": "stderr",
     "output_type": "stream",
     "text": [
      "C:\\Users\\carrascosa-tejedor\\AppData\\Local\\Temp\\ipykernel_4744\\1348863196.py:24: UserWarning: set_ticklabels() should only be used with a fixed number of ticks, i.e. after set_ticks() or using a FixedLocator.\n",
      "  ax.set_xticklabels(ax.get_xticks(), fontsize=12, fontweight='bold')\n",
      "C:\\Users\\carrascosa-tejedor\\AppData\\Local\\Temp\\ipykernel_4744\\1348863196.py:25: UserWarning: set_ticklabels() should only be used with a fixed number of ticks, i.e. after set_ticks() or using a FixedLocator.\n",
      "  ax.set_yticklabels(ax.get_yticks(), fontsize=12, fontweight='bold')\n"
     ]
    },
    {
     "data": {
      "image/png": "[encoded data removed]",
      "text/plain": [
       "<Figure size 640x480 with 1 Axes>"
      ]
     },
     "metadata": {},
     "output_type": "display_data"
    }
   ],
   "source": [
    "import matplotlib.pyplot as plt\n",
    "import numpy as np\n",
    "import matplotlib.ticker as ticker\n",
    "\n",
    "# Example of color choices\n",
    "color_map = {\n",
    "    \"tails\": \"red\",    # dark red\n",
    "    \"heads\": \"orange\",    # orange\n",
    "    \"solvent\": \"blue\",  # dark blue\n",
    "}\n",
    "\n",
    "z, vfps = create_occupancy(dLip_acmw)\n",
    "\n",
    "# Create plot\n",
    "fig, ax = plt.subplots()\n",
    "\n",
    "ax = plt.gca()\n",
    "\n",
    "# Axis thickness\n",
    "for spine in ax.spines.values():\n",
    "    spine.set_linewidth(1.5)\n",
    "\n",
    "# Tick labels\n",
    "ax.set_xticklabels(ax.get_xticks(), fontsize=12, fontweight='bold')\n",
    "ax.set_yticklabels(ax.get_yticks(), fontsize=12, fontweight='bold')\n",
    "\n",
    "# Tick formatting\n",
    "ax.xaxis.set_major_formatter(ticker.FormatStrFormatter('%.0f'))\n",
    "ax.yaxis.set_major_formatter(ticker.FormatStrFormatter('%.1f'))\n",
    "\n",
    "# VFP groups and labels\n",
    "groups = [(1), (2), (3,)]\n",
    "labels = [\"tails\", \"heads\", \"solvent\"]\n",
    "\n",
    "# Plot each group with color\n",
    "for g, label in zip(groups, labels):\n",
    "    vfp = np.take(vfps, g, axis=0)\n",
    "    if len(vfp.shape) > 1:\n",
    "        vfp = np.sum(vfp, axis=0)\n",
    "    plt.plot(z, vfp, label=label, linewidth=2.5, color=color_map[label])\n",
    "\n",
    "# Final touches\n",
    "plt.legend(frameon=True, prop={'weight': 'bold', 'size': 10})\n",
    "plt.ylabel(r'$\\mathbf{V}_\\mathbf{f}$', fontsize=16)\n",
    "plt.xlabel(r\"$\\mathbf{z}$ $\\mathbf{(\\AA)}$\", fontsize=16)\n",
    "plt.xlim(-30, 60)\n",
    "plt.ylim(-0.1, 1.1)\n",
    "\n",
    "fig.savefig(\"Vfprofile_SPC_45mNm.png\", dpi=600, bbox_inches='tight')"
   ]
  },
  {
   "cell_type": "code",
   "execution_count": 16,
   "metadata": {},
   "outputs": [
    {
     "name": "stderr",
     "output_type": "stream",
     "text": [
      "C:\\Users\\carrascosa-tejedor\\AppData\\Local\\Temp\\ipykernel_4744\\2080186505.py:23: UserWarning: set_ticklabels() should only be used with a fixed number of ticks, i.e. after set_ticks() or using a FixedLocator.\n",
      "  ax.set_xticklabels(ax.get_xticks(), fontsize=12, fontweight='bold')\n",
      "C:\\Users\\carrascosa-tejedor\\AppData\\Local\\Temp\\ipykernel_4744\\2080186505.py:24: UserWarning: set_ticklabels() should only be used with a fixed number of ticks, i.e. after set_ticks() or using a FixedLocator.\n",
      "  ax.set_yticklabels(ax.get_yticks(), fontsize=12, fontweight='bold')\n"
     ]
    },
    {
     "data": {
      "image/png": "[encoded data removed]",
      "text/plain": [
       "<Figure size 640x480 with 1 Axes>"
      ]
     },
     "metadata": {},
     "output_type": "display_data"
    }
   ],
   "source": [
    "import matplotlib.pyplot as plt\n",
    "import numpy as np\n",
    "import matplotlib.ticker as ticker\n",
    "\n",
    "# Define custom colors\n",
    "color_map = {\n",
    "    \"lipids\": \"red\",\n",
    "    \"SPC\": \"green\",\n",
    "    \"solvent\": \"blue\",\n",
    "}\n",
    "\n",
    "# Generate z and volume fraction profiles\n",
    "z, vfps = create_occupancy(dLip_acmw)\n",
    "\n",
    "# Create plot\n",
    "fig, ax = plt.subplots()\n",
    "\n",
    "# Set axis line thickness\n",
    "for spine in ax.spines.values():\n",
    "    spine.set_linewidth(1.5)\n",
    "\n",
    "# Set tick label font size and weight\n",
    "ax.set_xticklabels(ax.get_xticks(), fontsize=12, fontweight='bold')\n",
    "ax.set_yticklabels(ax.get_yticks(), fontsize=12, fontweight='bold')\n",
    "\n",
    "# Format tick labels\n",
    "ax.xaxis.set_major_formatter(ticker.FormatStrFormatter('%.0f'))\n",
    "ax.yaxis.set_major_formatter(ticker.FormatStrFormatter('%.1f'))\n",
    "\n",
    "# Plot combined lipid profile (heads + tails)\n",
    "vfp_lipids = vfps[1] + vfps[2]\n",
    "ax.plot(z, vfp_lipids, label=\"lipids\", linewidth=2.5, color=color_map[\"lipids\"])\n",
    "\n",
    "# Plot SPC: 10% of layers 1 and 2 + 100% of layer 3\n",
    "# vfp_spc = 0.0 * vfps[1] + 0.0 * vfps[2]\n",
    "# ax.plot(z, vfp_spc, label=\"SPC\", linewidth=2.5, color=color_map[\"SPC\"])\n",
    "\n",
    "# Plot solvent\n",
    "vfp_solvent = vfps[3]\n",
    "ax.plot(z, vfp_solvent, label=\"solvent\", linewidth=2.5, color=color_map[\"solvent\"])\n",
    "\n",
    "# Final plot settings\n",
    "ax.legend(frameon=True, prop={'weight': 'bold', 'size': 10})\n",
    "ax.set_ylabel(r'$\\mathbf{V}_\\mathbf{f}$', fontsize=16)\n",
    "ax.set_xlabel(r\"$\\mathbf{z}$ $\\mathbf{(\\AA)}$\", fontsize=16)\n",
    "ax.set_xlim(-30, 60)\n",
    "ax.set_ylim(-0.1, 1.1)\n",
    "\n",
    "plt.show()\n"
   ]
  },
  {
   "cell_type": "markdown",
   "metadata": {},
   "source": [
    "#### Perform MCMC analysis"
   ]
  },
  {
   "cell_type": "code",
   "execution_count": 17,
   "metadata": {},
   "outputs": [
    {
     "name": "stderr",
     "output_type": "stream",
     "text": [
      "100%|██████████| 100/100 [02:19<00:00,  1.39s/it]\n"
     ]
    }
   ],
   "source": [
    "fitter.reset()\n",
    "fitter.sample(100, pool=1)\n",
    "fitter.reset()"
   ]
  },
  {
   "cell_type": "code",
   "execution_count": 18,
   "metadata": {},
   "outputs": [
    {
     "name": "stderr",
     "output_type": "stream",
     "text": [
      "100%|██████████| 1000/1000 [20:03<00:00,  1.20s/it]\n"
     ]
    }
   ],
   "source": [
    "res = fitter.sample(100, nthin=10, pool=1)"
   ]
  },
  {
   "cell_type": "markdown",
   "metadata": {},
   "source": [
    "#### List of parameters of the Global Objective"
   ]
  },
  {
   "cell_type": "code",
   "execution_count": 19,
   "metadata": {},
   "outputs": [
    {
     "name": "stdout",
     "output_type": "stream",
     "text": [
      "________________________________________________________________________________\n",
      "\n",
      "\n",
      "--Global Objective--\n",
      "________________________________________________________________________________\n",
      "Objective - dLip_acmw\n",
      "Dataset = dLip_acmw\n",
      "datapoints = 103\n",
      "chi2 = 602.2631322700975\n",
      "Weighted = True\n",
      "Transform = Transform('YX4')\n",
      "________________________________________________________________________________\n",
      "Parameters: 'model_dLip_acmw'\n",
      "________________________________________________________________________________\n",
      "Parameters: 'instrument parameters'\n",
      "<Parameter:    'scale'    , value=1  (fixed) , bounds=[-inf, inf]>\n",
      "<Parameter:     'bkg'     , value=1e-06  (fixed) , bounds=[-inf, inf]>\n",
      "<Parameter:'dq - resolution', value=7  (fixed) , bounds=[-inf, inf]>\n",
      "<Parameter:  'q_offset'   , value=0  (fixed) , bounds=[-inf, inf]>\n",
      "________________________________________________________________________________\n",
      "Parameters: 'Structure - ' \n",
      "________________________________________________________________________________\n",
      "Parameters:      'air'     \n",
      "<Parameter: 'air - thick' , value=0  (fixed) , bounds=[-inf, inf]>\n",
      "________________________________________________________________________________\n",
      "Parameters:      'air'     \n",
      "<Parameter:  'air - sld'  , value=0  (fixed) , bounds=[-inf, inf]>\n",
      "<Parameter: 'air - isld'  , value=0  (fixed) , bounds=[-inf, inf]>\n",
      "<Parameter: 'air - rough' , value=0  (fixed) , bounds=[-inf, inf]>\n",
      "<Parameter:'air - volfrac solvent', value=0  (fixed) , bounds=[0.0, 1.0]>\n",
      "________________________________________________________________________________\n",
      "Parameters:     'dtail'    \n",
      "<Parameter: 'tail_thick'  , value=14.5585 +/- 0.0367, bounds=[10.0, 25.0]>\n",
      "________________________________________________________________________________\n",
      "Parameters:       ''       \n",
      "<Parameter:  'dtail_SLD'  , value=6.46984 +/- 0.0145, bounds=[4.773132645193957, 7.159698967790935]>\n",
      "<Parameter:   ' - isld'   , value=0  (fixed) , bounds=[-inf, inf]>\n",
      "<Parameter:    'rough'    , value=4.5  (fixed) , bounds=[3.9, 6.0]>\n",
      "<Parameter: 'tail_vfsolv' , value=0  (fixed) , bounds=[-inf, inf]>\n",
      "________________________________________________________________________________\n",
      "Parameters:     'head'     \n",
      "<Parameter: 'head_thick'  , value=13.1666 +/- 0.0664, bounds=[8.0, 15.0]>\n",
      "________________________________________________________________________________\n",
      "Parameters:       ''       \n",
      "<Parameter:'d_head_acmw_SLD', value=1.91674  (fixed) , bounds=[-inf, inf]>\n",
      "<Parameter:   ' - isld'   , value=0  (fixed) , bounds=[-inf, inf]>\n",
      "<Parameter:    'rough'    , value=4.5  (fixed) , bounds=[3.9, 6.0]>\n",
      "<Parameter: 'head_vfsolv' , value=0.442756 +/- 0.00276, bounds=[0.0, 0.7], constraint=<Parameter:     None      , value=0.442756  (fixed) , bounds=None>>\n",
      "________________________________________________________________________________\n",
      "Parameters:     'acmw'     \n",
      "<Parameter:'acmw - thick' , value=0  (fixed) , bounds=[-inf, inf]>\n",
      "________________________________________________________________________________\n",
      "Parameters:     'acmw'     \n",
      "<Parameter: 'acmw - sld'  , value=0  (fixed) , bounds=[-inf, inf]>\n",
      "<Parameter: 'acmw - isld' , value=0  (fixed) , bounds=[-inf, inf]>\n",
      "<Parameter:    'rough'    , value=4.5  (fixed) , bounds=[3.9, 6.0]>\n",
      "<Parameter:'acmw - volfrac solvent', value=0  (fixed) , bounds=[0.0, 1.0]>\n",
      "\n",
      "\n",
      "________________________________________________________________________________\n",
      "Objective - dLip_d2o\n",
      "Dataset = dLip_d2o\n",
      "datapoints = 107\n",
      "chi2 = 324.7846300000192\n",
      "Weighted = True\n",
      "Transform = Transform('YX4')\n",
      "________________________________________________________________________________\n",
      "Parameters: 'model_dLip_d2o'\n",
      "________________________________________________________________________________\n",
      "Parameters: 'instrument parameters'\n",
      "<Parameter:    'scale'    , value=0.974  (fixed) , bounds=[-inf, inf]>\n",
      "<Parameter:     'bkg'     , value=1e-06  (fixed) , bounds=[-inf, inf]>\n",
      "<Parameter:'dq - resolution', value=7  (fixed) , bounds=[-inf, inf]>\n",
      "<Parameter:  'q_offset'   , value=0  (fixed) , bounds=[-inf, inf]>\n",
      "________________________________________________________________________________\n",
      "Parameters: 'Structure - ' \n",
      "________________________________________________________________________________\n",
      "Parameters:      'air'     \n",
      "<Parameter: 'air - thick' , value=0  (fixed) , bounds=[-inf, inf]>\n",
      "________________________________________________________________________________\n",
      "Parameters:      'air'     \n",
      "<Parameter:  'air - sld'  , value=0  (fixed) , bounds=[-inf, inf]>\n",
      "<Parameter: 'air - isld'  , value=0  (fixed) , bounds=[-inf, inf]>\n",
      "<Parameter: 'air - rough' , value=0  (fixed) , bounds=[-inf, inf]>\n",
      "<Parameter:'air - volfrac solvent', value=0  (fixed) , bounds=[0.0, 1.0]>\n",
      "________________________________________________________________________________\n",
      "Parameters:     'dtail'    \n",
      "<Parameter: 'tail_thick'  , value=14.5585 +/- 0.0367, bounds=[10.0, 25.0]>\n",
      "________________________________________________________________________________\n",
      "Parameters:       ''       \n",
      "<Parameter:  'dtail_SLD'  , value=6.46984 +/- 0.0145, bounds=[4.773132645193957, 7.159698967790935]>\n",
      "<Parameter:   ' - isld'   , value=0  (fixed) , bounds=[-inf, inf]>\n",
      "<Parameter:    'rough'    , value=4.5  (fixed) , bounds=[3.9, 6.0]>\n",
      "<Parameter: 'tail_vfsolv' , value=0  (fixed) , bounds=[-inf, inf]>\n",
      "________________________________________________________________________________\n",
      "Parameters:     'head'     \n",
      "<Parameter: 'head_thick'  , value=13.1666 +/- 0.0664, bounds=[8.0, 15.0]>\n",
      "________________________________________________________________________________\n",
      "Parameters:       ''       \n",
      "<Parameter:'d_head_d2o_SLD', value=1.91674  (fixed) , bounds=[-inf, inf]>\n",
      "<Parameter:   ' - isld'   , value=0  (fixed) , bounds=[-inf, inf]>\n",
      "<Parameter:    'rough'    , value=4.5  (fixed) , bounds=[3.9, 6.0]>\n",
      "<Parameter: 'head_vfsolv' , value=0.442756 +/- 0.00276, bounds=[0.0, 0.7], constraint=<Parameter:     None      , value=0.442756  (fixed) , bounds=None>>\n",
      "________________________________________________________________________________\n",
      "Parameters:   'd2o_dlip'   \n",
      "<Parameter:'d2o_dlip - thick', value=0  (fixed) , bounds=[-inf, inf]>\n",
      "________________________________________________________________________________\n",
      "Parameters:   'd2o_dlip'   \n",
      "<Parameter:'d2o_dlip - sld', value=5.87  (fixed) , bounds=[-inf, inf]>\n",
      "<Parameter:'d2o_dlip - isld', value=0  (fixed) , bounds=[-inf, inf]>\n",
      "<Parameter:    'rough'    , value=4.5  (fixed) , bounds=[3.9, 6.0]>\n",
      "<Parameter:'d2o_dlip - volfrac solvent', value=0  (fixed) , bounds=[0.0, 1.0]>\n",
      "\n",
      "\n",
      "________________________________________________________________________________\n",
      "Objective - hLip_d2o\n",
      "Dataset = hLip_d2o\n",
      "datapoints = 107\n",
      "chi2 = 827.6893074646035\n",
      "Weighted = True\n",
      "Transform = Transform('YX4')\n",
      "________________________________________________________________________________\n",
      "Parameters: 'model_hLip_d2o'\n",
      "________________________________________________________________________________\n",
      "Parameters: 'instrument parameters'\n",
      "<Parameter:    'scale'    , value=0.974  (fixed) , bounds=[-inf, inf]>\n",
      "<Parameter:     'bkg'     , value=1e-06  (fixed) , bounds=[-inf, inf]>\n",
      "<Parameter:'dq - resolution', value=7  (fixed) , bounds=[-inf, inf]>\n",
      "<Parameter:  'q_offset'   , value=0  (fixed) , bounds=[-inf, inf]>\n",
      "________________________________________________________________________________\n",
      "Parameters: 'Structure - ' \n",
      "________________________________________________________________________________\n",
      "Parameters:      'air'     \n",
      "<Parameter: 'air - thick' , value=0  (fixed) , bounds=[-inf, inf]>\n",
      "________________________________________________________________________________\n",
      "Parameters:      'air'     \n",
      "<Parameter:  'air - sld'  , value=0  (fixed) , bounds=[-inf, inf]>\n",
      "<Parameter: 'air - isld'  , value=0  (fixed) , bounds=[-inf, inf]>\n",
      "<Parameter: 'air - rough' , value=0  (fixed) , bounds=[-inf, inf]>\n",
      "<Parameter:'air - volfrac solvent', value=0  (fixed) , bounds=[0.0, 1.0]>\n",
      "________________________________________________________________________________\n",
      "Parameters:     'tail'     \n",
      "<Parameter: 'tail_thick'  , value=14.5585 +/- 0.0367, bounds=[10.0, 25.0]>\n",
      "________________________________________________________________________________\n",
      "Parameters:       ''       \n",
      "<Parameter:  'htail_SLD'  , value=-0.467156 +/- 0.00105, bounds=[-0.5169675838022577, -0.34464505586817185], constraint=<Parameter:     None      , value=-0.467156  (fixed) , bounds=None>>\n",
      "<Parameter:   ' - isld'   , value=0  (fixed) , bounds=[-inf, inf]>\n",
      "<Parameter:    'rough'    , value=4.5  (fixed) , bounds=[3.9, 6.0]>\n",
      "<Parameter: 'tail_vfsolv' , value=0  (fixed) , bounds=[-inf, inf]>\n",
      "________________________________________________________________________________\n",
      "Parameters:     'head'     \n",
      "<Parameter: 'head_thick'  , value=13.1666 +/- 0.0664, bounds=[8.0, 15.0]>\n",
      "________________________________________________________________________________\n",
      "Parameters:       ''       \n",
      "<Parameter:'h_head_d2o_SLD', value=1.91674  (fixed) , bounds=[-inf, inf]>\n",
      "<Parameter:   ' - isld'   , value=0  (fixed) , bounds=[-inf, inf]>\n",
      "<Parameter:    'rough'    , value=4.5  (fixed) , bounds=[3.9, 6.0]>\n",
      "<Parameter: 'head_vfsolv' , value=0.442756 +/- 0.00276, bounds=[0.0, 0.7], constraint=<Parameter:     None      , value=0.442756  (fixed) , bounds=None>>\n",
      "________________________________________________________________________________\n",
      "Parameters:   'd2o_hlip'   \n",
      "<Parameter:'d2o_hlip - thick', value=0  (fixed) , bounds=[-inf, inf]>\n",
      "________________________________________________________________________________\n",
      "Parameters:   'd2o_hlip'   \n",
      "<Parameter:'d2o_hlip - sld', value=6.16  (fixed) , bounds=[-inf, inf]>\n",
      "<Parameter:'d2o_hlip - isld', value=0  (fixed) , bounds=[-inf, inf]>\n",
      "<Parameter:    'rough'    , value=4.5  (fixed) , bounds=[3.9, 6.0]>\n",
      "<Parameter:'d2o_hlip - volfrac solvent', value=0  (fixed) , bounds=[0.0, 1.0]>\n",
      "\n",
      "\n"
     ]
    }
   ],
   "source": [
    "print(global_objective)"
   ]
  },
  {
   "cell_type": "code",
   "execution_count": 21,
   "metadata": {},
   "outputs": [
    {
     "name": "stdout",
     "output_type": "stream",
     "text": [
      "chi2: 5.588334616989553\n",
      "________________________________________________________________________________\n",
      "Parameters:      None      \n",
      "<Parameter: 'tail_thick'  , value=14.5585 +/- 0.0367, bounds=[10.0, 25.0]>\n",
      "<Parameter:  'dtail_SLD'  , value=6.46984 +/- 0.0145, bounds=[4.773132645193957, 7.159698967790935]>\n",
      "<Parameter: 'head_thick'  , value=13.1666 +/- 0.0664, bounds=[8.0, 15.0]>\n"
     ]
    }
   ],
   "source": [
    "print(f\"chi2: {global_objective.chisqr()/(global_objective.npoints - len(global_objective.varying_parameters()))}\")\n",
    "print(global_objective.parameters.varying_parameters())"
   ]
  },
  {
   "cell_type": "code",
   "execution_count": 22,
   "metadata": {},
   "outputs": [
    {
     "name": "stdout",
     "output_type": "stream",
     "text": [
      "chi2: 5.588334616989553\n",
      "\n",
      "<Parameter: 'tail_thick'  , value=14.5585 +/- 0.0367, bounds=[10.0, 25.0]>\n",
      "<Parameter:'p_tails_vfsolv', value=0  (fixed) , bounds=[0.0, 1.0]>\n",
      "dtail_SLD: 6.4698430819278645\n",
      "htail_SLD: 6.4698430819278645\n",
      "Delta %SLD: 35.63612331085671\n",
      "\n",
      "<Parameter: 'head_thick'  , value=13.1666 +/- 0.0664, bounds=[8.0, 15.0]>\n",
      "<Parameter: 'head_vfsolv' , value=0.442756 +/- 0.00276, bounds=[0.0, 0.7], constraint=<Parameter:     None      , value=0.442756  (fixed) , bounds=None>>\n",
      "<Parameter:'p_head_vfsolv', value=0  (fixed) , bounds=[0.0, 1.0]>\n",
      "<Parameter:    'rough'    , value=4.5  (fixed) , bounds=[3.9, 6.0]>\n",
      "\n",
      "Gamma_tails_monolayer: 3.7702380563303874\n",
      "Gamma_heads_monolayer: 3.7702380563303874\n",
      "A_permolecule_tails_monolayer: 44.044377471455526\n",
      "A_permolecule_heads_monolayer: 44.044377471455526\n"
     ]
    }
   ],
   "source": [
    "print(f\"chi2: {global_objective.chisqr()/(global_objective.npoints - len(global_objective.varying_parameters()))}\")\n",
    "print()\n",
    "print(tail_thick)\n",
    "print(p_tails_vf)\n",
    "print(f\"dtail_SLD: {dtail_SLD.value}\")\n",
    "print(f\"htail_SLD: {dtail_SLD.value}\")\n",
    "print(f\"Delta %SLD: {100*(dtail_SLD.value-4.77)/4.77}\")\n",
    "print()\n",
    "print(head_thick)\n",
    "print(head_vfsolv)\n",
    "print(p_heads_vf)\n",
    "print(rough)\n",
    "print()\n",
    "print(f\"Gamma_tails_monolayer: {Gamma_tails_monolayer.value}\")\n",
    "print(f\"Gamma_heads_monolayer: {Gamma_heads_monolayer.value}\")\n",
    "print(f\"A_permolecule_tails_monolayer: {A_permolecule_tails_monolayer.value}\")\n",
    "print(f\"A_permolecule_heads_monolayer: {A_permolecule_heads_monolayer.value}\")"
   ]
  }
 ],
 "metadata": {
  "kernelspec": {
   "display_name": "Python 3",
   "language": "python",
   "name": "python3"
  },
  "language_info": {
   "codemirror_mode": {
    "name": "ipython",
    "version": 3
   },
   "file_extension": ".py",
   "mimetype": "text/x-python",
   "name": "python",
   "nbconvert_exporter": "python",
   "pygments_lexer": "ipython3",
   "version": "3.12.4"
  }
 },
 "nbformat": 4,
 "nbformat_minor": 2
}
