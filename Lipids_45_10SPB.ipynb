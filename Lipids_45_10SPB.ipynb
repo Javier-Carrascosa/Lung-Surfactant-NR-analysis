{
 "cells": [
  {
   "cell_type": "markdown",
   "metadata": {},
   "source": [
    "# Neutron reflectometry analysis of lipid monolayers with lipid bilayer reservoirs separated by a highly solvated gap"
   ]
  },
  {
   "cell_type": "markdown",
   "metadata": {},
   "source": [
    "This notebook allows the co-refinement of multiple contrasts of lipid monolayers presenting lipid reservoirs separated by a hihgly solvated gap\n",
    "\n",
    " - A model of 6 layers is used: tails | heads | gap | heads | tails | heads\n",
    " - The possibility to include a guest molecule in heads and/or tails, a protein in this case, is implemented \n",
    " - A constraint to make sure [surface excess of heads = surface excess of tails] in the monolayer is applied\n",
    " - Constraint to make sure [2 * surface excess of heads = surface excess of tails] in the reservoir is applied\n",
    " - The thickness of the headgroup layers in the monolayers and the reservoir is fitted to a common value\n",
    " - The tails SLD is fitted to account tail compaction and/or loss of molecules into the bulk"
   ]
  },
  {
   "cell_type": "code",
   "execution_count": 1,
   "metadata": {},
   "outputs": [
    {
     "data": {
      "text/plain": [
       "('0.1.52', '1.14.1')"
      ]
     },
     "execution_count": 1,
     "metadata": {},
     "output_type": "execute_result"
    }
   ],
   "source": [
    "%matplotlib inline\n",
    "import matplotlib.pyplot as plt\n",
    "import numpy as np\n",
    "import os.path\n",
    "import glob\n",
    "\n",
    "\n",
    "import refnx, scipy\n",
    "\n",
    "# the analysis module contains the curvefitting engine\n",
    "from refnx.analysis import CurveFitter, Objective, Parameter, GlobalObjective, process_chain, Interval, Transform\n",
    "\n",
    "# the reflect module contains functionality relevant to reflectometry\n",
    "from refnx.reflect import SLD, ReflectModel, Structure, LipidLeaflet, Slab, create_occupancy\n",
    "\n",
    "# the ReflectDataset object will contain the data\n",
    "from refnx.dataset import ReflectDataset\n",
    "\n",
    "# version numbers used in this analysis\n",
    "refnx.version.version, scipy.version.version"
   ]
  },
  {
   "cell_type": "markdown",
   "metadata": {},
   "source": [
    "#### Loading the data"
   ]
  },
  {
   "cell_type": "code",
   "execution_count": 2,
   "metadata": {},
   "outputs": [],
   "source": [
    "pth = os.getcwd()\n",
    "\n",
    "data_dLip_acmw = ReflectDataset(os.path.join(pth, 'dLips_10SPB_ACMW_45.mft'))\n",
    "data_dLip_acmw.name = \"dLip_acmw\"\n",
    "\n",
    "data_dLip_d2o = ReflectDataset(os.path.join(pth, 'dLips_10SPB_D2O_45.mft'))\n",
    "data_dLip_d2o.name = \"dLip_d2o\"\n",
    "\n",
    "# data_hLip_acmw = ReflectDataset(os.path.join(pth, 'hLips_10SPB_ACMW_45.mft'))\n",
    "# data_hLip_acmw.name = \"hLip_acmw\"\n",
    "\n",
    "data_hLip_d2o = ReflectDataset(os.path.join(pth, 'hLips_10SPB_D2O_45.mft'))\n",
    "data_hLip_d2o.name = \"hLip_d2o\"\n"
   ]
  },
  {
   "cell_type": "markdown",
   "metadata": {},
   "source": [
    "### Define all the necessary parameters to create the `structure` for each contrast:\n",
    "Scattering lengths, molecular volume, SLD, roughness, thickness, volume fraction of solvent"
   ]
  },
  {
   "cell_type": "code",
   "execution_count": null,
   "metadata": {},
   "outputs": [],
   "source": [
    "air = SLD(0 + 0j, 'air')\n",
    "\n",
    "# The following represent the solvent contrasts used in the experiment\n",
    "d2o_hlip = SLD(6.15 + 0j, 'd2o_hlip')\n",
    "d2o_dlip = SLD(6.15 + 0j, 'd2o_dlip')\n",
    "acmw = SLD(0 + 0j, 'acmw')\n",
    "\n",
    "# Define molecular volumes\n",
    "vm_tail = 871.37\n",
    "vm_head = 330.96\n",
    "vm_p = 1120\n",
    "vm_lip = vm_tail + vm_head\n",
    "vm_tail_reservoir = 871.37\n",
    "\n",
    "\n",
    "# Define scattering length (SL) of tails, heads, lipid molecule and proteins\n",
    "dtail_SL = 428.46 \n",
    "htail_SL = -13.6\n",
    "\n",
    "d_head_d2o_SL = 90.44\n",
    "d_head_acmw_SL = 79.31\n",
    "h_head_d2o_SL = 88.91\n",
    "h_head_acmw_SL = 78.34\n",
    "\n",
    "d_lip_d2o_SL = dtail_SL + d_head_d2o_SL\n",
    "d_lip_acmw_SL = dtail_SL + d_head_acmw_SL\n",
    "h_lip_d2o_SL = htail_SL + h_head_d2o_SL\n",
    "h_lip_acmw_SL = htail_SL + h_head_acmw_SL\n",
    "\n",
    "spb_acmw_SLD = 1.598\n",
    "spb_d2o_SLD = 2.591\n",
    "\n",
    "#Define scattering length density (SLD) of the lipid molecules\n",
    "\n",
    "d_lip_d2o_SLD = 10*d_lip_d2o_SL/vm_lip\n",
    "d_lip_acmw_SLD = 10*d_lip_acmw_SL/vm_lip\n",
    "h_lip_d2o_SLD = 10*h_lip_d2o_SL/vm_lip\n",
    "h_lip_acmw_SLD = 10*h_lip_acmw_SL/vm_lip\n",
    "\n",
    "\n",
    "# Monolayer / tails layer\n",
    "rough_monolayer = Parameter(value=4.5, name='rough_monolayer', vary=False, bounds=Interval(lb=4, ub=8))\n",
    "tail_thick = Parameter(value=19.5, name='tail_thick', vary=True, bounds=Interval(lb=10, ub=30))\n",
    "htail_SLD = Parameter(value=-0.5, name='htail_SLD', vary=True, bounds=Interval(lb=10*htail_SL/vm_tail, ub=1.5*10*htail_SL/vm_tail))\n",
    "dtail_SLD = Parameter(value=4.5, name='dtail_SLD', vary=True, bounds=Interval(lb=10*dtail_SL/vm_tail, ub=1.5*10*dtail_SL/vm_tail))\n",
    "tail_vfsolv = Parameter(value=0.0, name='tail_vfsolv')\n",
    "\n",
    "\n",
    "# Monolayer / headgroups layer\n",
    "head_thick = Parameter(value=10, name='head_thick', vary=True, bounds=Interval(lb=8, ub=15))\n",
    "d_head_d2o_SLD = Parameter(value=10*d_head_d2o_SL/vm_head, name='d_head_d2o_SLD')\n",
    "d_head_acmw_SLD = Parameter(value=10*d_head_acmw_SL/vm_head, name='d_head_acmw_SLD')\n",
    "h_head_d2o_SLD = Parameter(value=10*h_head_d2o_SL/vm_head, name='h_head_d2o_SLD')\n",
    "# h_head_acmw_SLD = Parameter(value=10*h_head_acmw_SL/vm_head, name='h_head_acmw_SLD')\n",
    "head_vfsolv = Parameter(value=0.35, name='head_vfsolv', vary=True, bounds=Interval(lb=0, ub=0.7))\n",
    "\n",
    "# Gap layer Solvent layer between monolayer and reservoirs\n",
    "# This layer must be included to fit the data. The SPB protein stablizes the formation of resersvoirs bridging the interfacial monolayer with\n",
    "# subsurface structrues\n",
    "gap_thick = Parameter(value=25, name='gap_thick', vary=True, bounds=Interval(lb=10, ub=50))\n",
    "gap_vfsolv_dlip_acmw = Parameter(value=1, name='gap_vfsolv_dlip_acmw', vary=True, bounds=Interval(lb=0, ub=1))\n",
    "gap_vfsolv_dlip_d2o = Parameter(value=1, name='gap_vfsolv_dlip_d2o', vary=True, bounds=Interval(lb=0, ub=1))\n",
    "gap_vfsolv_hlip_d2o = Parameter(value=1, name='gap_vfsolv_hlip_d2o', vary=True, bounds=Interval(lb=0, ub=1))\n",
    "# gap_vfsolv_hlip_acmw = Parameter(value=0.95, name='gap_vfsolv_dlip_acmw', vary=True, bounds=Interval(lb=0, ub=1))\n",
    "rough_reservoir = Parameter(value=4.5, name='rough_reservoir', vary=False, bounds=Interval(lb=4, ub=8))\n",
    "\n",
    "#Reservoir layer divided in headgroups/tails/headgroups\n",
    "# The thickness of the headgroups is a parameter shared with the monolayer\n",
    "headreservoir_vfsolv_dlip_acmw = Parameter(value=0.97, name='headreservoir_vfsolv_dlip_acmw', vary=True, bounds=Interval(lb=0.5, ub=0.99))\n",
    "headreservoir_vfsolv_dlip_d2o = Parameter(value=0.97, name='headreservoir_vfsolv_dlip_d2o', vary=True, bounds=Interval(lb=0.5, ub=0.99))\n",
    "headreservoir_vfsolv_hlip_d2o = Parameter(value=0.97, name='headreservoir_vfsolv_hlip_d2o', vary=True, bounds=Interval(lb=0.5, ub=0.99))\n",
    "# headreservoir_vfsolv_hlip_acmw = Parameter(value=0.95, name='headreservoir_vfsolv', vary=True, bounds=Interval(lb=0.5, ub=0.99))\n",
    "\n",
    "tailreservoir_thick = Parameter(value=25, name='tailreservoir_thick', vary=True, bounds=Interval(lb=20, ub=40))\n",
    "tailreservoir_vfsolv_dlip_acmw = Parameter(value=0.95, name='tailreservoir_vfsolv_dlip_acmw', vary=True, bounds=Interval(lb=0.2, ub=0.99))\n",
    "tailreservoir_vfsolv_dlip_d2o = Parameter(value=0.95, name='tailreservoir_vfsolv_dlip_d2o', vary=True, bounds=Interval(lb=0.2, ub=0.99))\n",
    "tailreservoir_vfsolv_hlip_d2o = Parameter(value=0.95, name='tailreservoir_vfsolv_dlip_d2o', vary=True, bounds=Interval(lb=0.2, ub=0.99))\n",
    "# tailreservoir_vfsolv_hlip_acmw = Parameter(value=0.95, name='tailreservoir_vfsolv_dlip_d2o', vary=True, bounds=Interval(lb=0.2, ub=0.99))\n",
    "# It is necessary to define the SLD of the tails in the reservoir, as the SLD in the monolayer is varied iteratively during fitting to account for acyl chain compaction and/or lipid loss to the bulk\n",
    "htail_SLD_reservoir = Parameter(value=10*htail_SL/vm_tail_reservoir, name='htail_SLD_reservoir', vary=False)\n",
    "dtail_SLD_reservoir = Parameter(value=10*dtail_SL/vm_tail_reservoir, name='dtail_SLD_reservoir', vary=False)\n",
    "\n",
    "# Based on the previously defined parameters, the slabs for the different contrasts are constructed\n",
    "htail_d2o = Slab(tail_thick, htail_SLD, rough_monolayer, 'tail', tail_vfsolv)\n",
    "# htail_acmw = Slab(tail_thick, htail_SLD, rough_monolayer, 'tail', tail_vfsolv)\n",
    "dtail_d2o = Slab(tail_thick, dtail_SLD, rough_monolayer, 'dtail', tail_vfsolv)\n",
    "dtail_acmw = Slab(tail_thick, dtail_SLD, rough_monolayer, 'dtail', tail_vfsolv)\n",
    "\n",
    "d_head_d2o = Slab(head_thick, d_head_d2o_SLD, rough_monolayer, 'head', head_vfsolv)\n",
    "d_head_acmw = Slab(head_thick, d_head_acmw_SLD, rough_monolayer, 'head', head_vfsolv)\n",
    "h_head_d2o = Slab(head_thick, h_head_d2o_SLD, rough_monolayer, 'head', head_vfsolv)\n",
    "# h_head_acmw = Slab(head_thick, h_head_acmw_SLD, rough_monolayer, 'head', head_vfsolv)\n",
    "\n",
    "gap_d_acmw = Slab(gap_thick, spb_acmw_SLD, rough_reservoir, 'gap_d_acmw', gap_vfsolv_dlip_acmw)\n",
    "gap_d_d2o = Slab(gap_thick, spb_d2o_SLD, rough_reservoir, 'gap_d_d2o', gap_vfsolv_dlip_d2o)\n",
    "gap_h_d2o = Slab(gap_thick, spb_d2o_SLD, rough_reservoir, 'gap_h_d2o', gap_vfsolv_hlip_d2o)\n",
    "# gap_h_acmw = Slab(gap_thick, spb_acmw_SLD, rough_reservoir, 'gap_h_acmw', gap_vfsolv_hlip_acmw)\n",
    "\n",
    "d_headreservoir_lip_d2o= Slab(head_thick, d_head_d2o_SLD, rough_reservoir, 'headreservoir', headreservoir_vfsolv_dlip_d2o)\n",
    "d_headreservoir_lip_acmw= Slab(head_thick, d_head_acmw_SLD, rough_reservoir, 'headreservoir', headreservoir_vfsolv_dlip_acmw)\n",
    "h_headreservoir_lip_d2o= Slab(head_thick, h_head_d2o_SLD, rough_reservoir, 'headreservoir', headreservoir_vfsolv_hlip_d2o)\n",
    "# h_headreservoir_lip_acmw= Slab(head_thick, h_head_acmw_SLD, rough_reservoir, 'headreservoir', headreservoir_vfsolv_hlip_acmw)\n",
    "tailreservoir_dlip_acmw = Slab(tailreservoir_thick, dtail_SLD_reservoir, rough_reservoir, 'tailreservoir', tailreservoir_vfsolv_dlip_acmw)\n",
    "tailreservoir_dlip_d2o = Slab(tailreservoir_thick, dtail_SLD_reservoir, rough_reservoir, 'tailreservoir', tailreservoir_vfsolv_dlip_d2o)\n",
    "tailreservoir_hlip_d2o = Slab(tailreservoir_thick, htail_SLD_reservoir, rough_reservoir, 'tailreservoir', tailreservoir_vfsolv_hlip_d2o)\n",
    "# tailreservoir_hlip_acmw = Slab(tailreservoir_thick, htail_SLD_reservoir, rough_reservoir, 'tailreservoir', tailreservoir_vfsolv_hlip_acmw)\n",
    "\n",
    "# The following parameters define the volume fraction of the protein in heads (p_heads_vf) and tails (p_tails_vf)\n",
    "p_heads_vf = Parameter(value=0.009494, name='p_head_vfsolv', vary=False, bounds=Interval(lb=0.0, ub=1.0))\n",
    "p_tails_vf = Parameter(value=0.009494, name='p_tails_vfsolv', vary=False, bounds=Interval(lb=0.0, ub=1.0))\n",
    "\n",
    "# The surface excess and area per molecule of heads and tails in the monolayer and reservoirs is calculated\n",
    "Gamma_tails_monolayer = (tail_thick*dtail_SLD*(1 - p_tails_vf))/(dtail_SL*0.06023)\n",
    "Gamma_heads_monolayer = (head_thick*d_head_acmw_SLD*(1 - p_heads_vf - head_vfsolv))/(d_head_acmw_SL*0.06023)\n",
    "A_permolecule_tails_monolayer = 10**20/(Gamma_tails_monolayer*10**-6*6.022*10**23)\n",
    "A_permolecule_heads_monolayer =10**20/(Gamma_heads_monolayer*10**-6*6.022*10**23)\n",
    "\n",
    "# The surface excess of tails and heads in the reservoirs is calculated\n",
    "Gamma_heads_reservoir_dlip_acmw = (head_thick*d_head_acmw_SLD*(1 - headreservoir_vfsolv_dlip_acmw))/(d_head_acmw_SL*0.06023)\n",
    "Gamma_tails_reservoir_dlip_acmw = (tailreservoir_thick*dtail_SLD_reservoir*(1 - tailreservoir_vfsolv_dlip_acmw))/(dtail_SL*0.06023)\n",
    "Gamma_heads_reservoir_dlip_d2o = (head_thick*d_head_d2o_SLD*(1 - headreservoir_vfsolv_dlip_d2o))/(d_head_d2o_SL*0.06023)\n",
    "Gamma_tails_reservoir_dlip_d2o = (tailreservoir_thick*dtail_SLD_reservoir*(1 - tailreservoir_vfsolv_dlip_d2o))/(dtail_SL*0.06023)\n",
    "Gamma_heads_reservoir_hlip_d2o = (head_thick*h_head_d2o_SLD*(1 - headreservoir_vfsolv_hlip_d2o))/(h_head_d2o_SL*0.06023)\n",
    "Gamma_tails_reservoir_hlip_d2o = (tailreservoir_thick*htail_SLD_reservoir*(1 - tailreservoir_vfsolv_hlip_d2o))/(dtail_SL*0.06023)"
   ]
  },
  {
   "cell_type": "markdown",
   "metadata": {},
   "source": [
    "#### Define the constraints to be applied in the fit"
   ]
  },
  {
   "cell_type": "code",
   "execution_count": 4,
   "metadata": {},
   "outputs": [],
   "source": [
    "# (1) The first constraint is ensuring that the surface excess of tails and heads in the monolayer is the same\n",
    "# The calculation is taking the account the amount of protein in heads and/or tails that must be defined previously as p_heads_vf and/or p_tails_vf\n",
    "\n",
    "head_vfsolv.set_constraint(1 - p_heads_vf - ((tail_thick * ((d_head_acmw_SL * 0.06023 * dtail_SLD * (1 - p_tails_vf))))/(d_head_acmw_SLD * head_thick * 0.06023 * dtail_SL)))\n",
    "\n",
    "def calculate_heads_vf():\n",
    "    return 1 - head_vfsolv.value - p_heads_vf.value\n",
    "\n",
    "heads_vf = Parameter(name='heads_vf')\n",
    "heads_vf.set_constraint(calculate_heads_vf)\n",
    "\n",
    "# (2) A second constraint is applied to ensure that the SLDs of the deuterated and hydrogenous tails vary in a consistent manner during fitting\n",
    "# htail_SLD = 10*htail_SL/vm_tail;  dtail_SLD = 10*dtail_SL/vm_tail --> vm_tail = 10*dtail_SL/dtail_SLD --> htail_SLD = 10*htail_SL/(10*dtail_SL/dtail_SLD)\n",
    "\n",
    "htail_SLD.set_constraint(\n",
    "    10*htail_SL/(10*dtail_SL/dtail_SLD))\n",
    "\n",
    "# (3) The third constraint applied to tailreservoir_vfsolv ensures that the surface excess of tails and headgroups in the reservoirs is the same\n",
    "# Note that, since there are two layers of headgroups but only one layer of tails, the surface excess of the tails must be twice that of the headgroups\n",
    "\n",
    "tailreservoir_vfsolv_dlip_acmw.set_constraint(\n",
    "    1- (2*head_thick * d_head_acmw_SLD * (1 - headreservoir_vfsolv_dlip_acmw) * dtail_SL) / (tailreservoir_thick* dtail_SLD_reservoir * d_head_acmw_SL))\n",
    "\n",
    "tailreservoir_vfsolv_dlip_d2o.set_constraint(\n",
    "    1- (2*head_thick * d_head_d2o_SLD * (1 - headreservoir_vfsolv_dlip_d2o) * dtail_SL) / (tailreservoir_thick* dtail_SLD_reservoir * d_head_d2o_SL))\n",
    "\n",
    "tailreservoir_vfsolv_hlip_d2o.set_constraint(\n",
    "    1- (2*head_thick * d_head_d2o_SLD * (1 - headreservoir_vfsolv_hlip_d2o) * dtail_SL) / (tailreservoir_thick* dtail_SLD_reservoir * d_head_d2o_SL))"
   ]
  },
  {
   "cell_type": "markdown",
   "metadata": {},
   "source": [
    "#### Define the `structure` of the different contrasts"
   ]
  },
  {
   "cell_type": "code",
   "execution_count": 5,
   "metadata": {},
   "outputs": [],
   "source": [
    "dLip_acmw = air | dtail_acmw | d_head_acmw | gap_d_acmw | d_headreservoir_lip_acmw | tailreservoir_dlip_acmw | d_headreservoir_lip_acmw | acmw(0, rough_reservoir)\n",
    "dLip_d2o = air | dtail_d2o | d_head_d2o | gap_d_d2o | d_headreservoir_lip_d2o |tailreservoir_dlip_d2o | d_headreservoir_lip_d2o | d2o_dlip(0, rough_reservoir)\n",
    "# hLip_acmw = air | htail_acmw | h_head_acmw | gap_h_acmw | h_headreservoir_lip_acmw | tailreservoir_hlip_acmw | h_headreservoir_lip_acmw |acmw(0, rough_reservoir)\n",
    "hLip_d2o = air | htail_d2o | h_head_d2o | gap_h_d2o | h_headreservoir_lip_d2o | tailreservoir_hlip_d2o | h_headreservoir_lip_d2o | d2o_hlip(0, rough_reservoir)"
   ]
  },
  {
   "cell_type": "markdown",
   "metadata": {},
   "source": [
    "#### Create a `model` for each dataset based on the `structure` previously defined"
   ]
  },
  {
   "cell_type": "code",
   "execution_count": 6,
   "metadata": {},
   "outputs": [],
   "source": [
    "scale = 1.0\n",
    "bkg = 1e-6\n",
    "name = 'model'\n",
    "dq = 7\n",
    "\n",
    "model_dLip_acmw = ReflectModel(dLip_acmw, scale, bkg, 'model_dLip_acmw', dq)\n",
    "model_dLip_d2o = ReflectModel(dLip_d2o, 0.986, bkg, 'model_dLip_d2o', dq)\n",
    "# model_hLip_acmw = ReflectModel(hLip_acmw, scale, bkg, 'model_hLip_acmw', dq)\n",
    "model_hLip_d2o = ReflectModel(hLip_d2o, 0.964, 1e-07, 'model_hLip_d2o', dq)"
   ]
  },
  {
   "cell_type": "markdown",
   "metadata": {},
   "source": [
    "#### Combine model and data into a `objective` for each contrast"
   ]
  },
  {
   "cell_type": "code",
   "execution_count": 7,
   "metadata": {},
   "outputs": [],
   "source": [
    "YX4 = Transform('YX4')\n",
    "\n",
    "objective_dLip_acmw = Objective(model_dLip_acmw, data_dLip_acmw, transform=YX4, name='dLip_acmw')\n",
    "objective_dLip_d2o = Objective(model_dLip_d2o, data_dLip_d2o, transform=YX4, name='dLip_d2o')\n",
    "# objective_hLip_acmw = Objective(model_hLip_acmw, data_hLip_acmw, transform=YX4, name='hLip_acmw')\n",
    "objective_hLip_d2o = Objective(model_hLip_d2o, data_hLip_d2o, transform=YX4, name='hLip_d2o')\n"
   ]
  },
  {
   "cell_type": "markdown",
   "metadata": {},
   "source": [
    "#### Combine multiple objectives into a `global objective` to corefine different contrasts"
   ]
  },
  {
   "cell_type": "code",
   "execution_count": 8,
   "metadata": {},
   "outputs": [],
   "source": [
    "objective_dLip_acmw.weighted = objective_dLip_d2o.weighted = objective_hLip_d2o.weighted = True \n",
    "global_objective = GlobalObjective([objective_dLip_acmw, objective_dLip_d2o, objective_hLip_d2o])"
   ]
  },
  {
   "cell_type": "markdown",
   "metadata": {},
   "source": [
    "#### Create and perform fitting routine"
   ]
  },
  {
   "cell_type": "code",
   "execution_count": 9,
   "metadata": {},
   "outputs": [
    {
     "name": "stderr",
     "output_type": "stream",
     "text": [
      "-6010.702648711399: : 68it [00:46,  1.47it/s] \n"
     ]
    },
    {
     "data": {
      "text/plain": [
       "             message: Optimization terminated successfully.\n",
       "             success: True\n",
       "                 fun: -6065.13071082804\n",
       "                   x: [ 1.599e+01  5.394e+00  1.159e+01  2.338e+01\n",
       "                        1.000e+00  9.715e-01  2.394e+01  9.975e-01\n",
       "                        9.171e-01  9.917e-01  9.838e-01]\n",
       "                 nit: 68\n",
       "                nfev: 9414\n",
       "          population: [[ 1.571e+01  5.454e+00 ...  9.852e-01  9.841e-01]\n",
       "                       [ 1.628e+01  5.295e+00 ...  9.941e-01  9.762e-01]\n",
       "                       ...\n",
       "                       [ 1.542e+01  5.544e+00 ...  9.807e-01  9.807e-01]\n",
       "                       [ 1.586e+01  5.414e+00 ...  9.905e-01  9.847e-01]]\n",
       " population_energies: [-6.065e+03 -5.766e+03 ... -5.916e+03 -5.943e+03]\n",
       "                 jac: [-1.275e-01 -3.642e-01  1.191e-02 -6.231e-01\n",
       "                       -9.129e+02  1.766e+00  9.252e-01  2.712e-01\n",
       "                       -1.365e+00 -2.865e-02  2.775e-01]\n",
       "               covar: [[ 8.407e-03 -1.835e-03 ...  2.980e-04  1.313e-05]\n",
       "                       [-1.835e-03  4.345e-04 ... -5.584e-05 -2.311e-06]\n",
       "                       ...\n",
       "                       [ 2.980e-04 -5.584e-05 ...  1.879e-05  1.093e-06]\n",
       "                       [ 1.313e-05 -2.311e-06 ...  1.093e-06  2.507e-07]]\n",
       "              stderr: [ 9.169e-02  2.085e-02  3.055e-01  1.243e+00\n",
       "                        9.506e-03  6.937e-04  8.889e-01  5.747e-03\n",
       "                        2.323e-03  4.335e-03  5.007e-04]"
      ]
     },
     "execution_count": 9,
     "metadata": {},
     "output_type": "execute_result"
    }
   ],
   "source": [
    "fitter = CurveFitter(global_objective)\n",
    "fitter.fit('differential_evolution', popsize=10)"
   ]
  },
  {
   "cell_type": "markdown",
   "metadata": {},
   "source": [
    "#### Print chi2 and a summary of the fitted paremeters"
   ]
  },
  {
   "cell_type": "code",
   "execution_count": 10,
   "metadata": {},
   "outputs": [
    {
     "name": "stdout",
     "output_type": "stream",
     "text": [
      "chi2: 4.280564136927514\n",
      "________________________________________________________________________________\n",
      "Parameters:      None      \n",
      "<Parameter: 'tail_thick'  , value=15.987 +/- 0.0917, bounds=[10.0, 30.0]>\n",
      "<Parameter:  'dtail_SLD'  , value=5.39432 +/- 0.0208, bounds=[4.917084590931521, 7.375626886397282]>\n",
      "<Parameter: 'head_thick'  , value=11.5948 +/- 0.306, bounds=[8.0, 15.0]>\n",
      "<Parameter:  'gap_thick'  , value=23.3832 +/- 1.24 , bounds=[10.0, 50.0]>\n",
      "<Parameter:'gap_vfsolv_dlip_acmw', value=1 +/- 0.00951, bounds=[0.0, 1.0]>\n",
      "<Parameter:'headreservoir_vfsolv', value=0.971461 +/- 0.000694, bounds=[0.5, 0.99]>\n",
      "<Parameter:'tailreservoir_thick', value=23.9381 +/- 0.889, bounds=[20.0, 40.0]>\n",
      "<Parameter:'gap_vfsolv_dlip_d2o', value=0.997483 +/- 0.00575, bounds=[0.0, 1.0]>\n",
      "<Parameter:'headreservoir_vfsolv_dlip_d2o', value=0.917112 +/- 0.00232, bounds=[0.5, 0.99]>\n",
      "<Parameter:'gap_vfsolv_hlip_d2o', value=0.991701 +/- 0.00434, bounds=[0.0, 1.0]>\n",
      "<Parameter:'headreservoir_vfsolv_dlip_d2o', value=0.98381 +/- 0.000501, bounds=[0.5, 0.99]>\n"
     ]
    }
   ],
   "source": [
    "print(f\"chi2: {global_objective.chisqr()/(global_objective.npoints - len(global_objective.varying_parameters()))}\")\n",
    "print(global_objective.parameters.varying_parameters())"
   ]
  },
  {
   "cell_type": "markdown",
   "metadata": {},
   "source": [
    "##### Print summary of the most relevant parameters"
   ]
  },
  {
   "cell_type": "code",
   "execution_count": 11,
   "metadata": {},
   "outputs": [
    {
     "name": "stdout",
     "output_type": "stream",
     "text": [
      "chi2: 4.280564136927514\n",
      "MONOLAYER\n",
      "<Parameter: 'tail_thick'  , value=15.987 +/- 0.0917, bounds=[10.0, 30.0]>\n",
      "<Parameter:'p_tails_vfsolv', value=0.009494  (fixed) , bounds=[0.0, 1.0]>\n",
      "<Parameter:  'dtail_SLD'  , value=5.39432 +/- 0.0208, bounds=[4.917084590931521, 7.375626886397282]>\n",
      "<Parameter:  'htail_SLD'  , value=-0.171224          , bounds=[-0.2341140961933507, -0.15607606412890046], constraint=<Parameter:     None      , value=-0.171224  (fixed) , bounds=None>>\n",
      "Delta %SLD: 9.640583816078507\n",
      "\n",
      "<Parameter: 'head_thick'  , value=11.5948 +/- 0.306, bounds=[8.0, 15.0]>\n",
      "<Parameter: 'head_vfsolv' , value=0.421437          , bounds=[0.0, 0.7], constraint=<Parameter:     None      , value=0.421437  (fixed) , bounds=None>>\n",
      "<Parameter:'p_head_vfsolv', value=0.009494  (fixed) , bounds=[0.0, 1.0]>\n",
      "<Parameter:'rough_monolayer', value=4.5  (fixed) , bounds=[4.0, 8.0]>\n",
      "\n",
      "Gamma_tails_monolayer: <Parameter:     None      , value=3.31008  (fixed) , bounds=None>\n",
      "Gamma_heads_monolayer: <Parameter:     None      , value=3.31008  (fixed) , bounds=None>\n",
      "A_permolecule_tails_monolayer: <Parameter:     None      , value=50.1673  (fixed) , bounds=None>\n",
      "A_permolecule_heads_monolayer: <Parameter:     None      , value=50.1673  (fixed) , bounds=None>\n",
      "\n",
      "GAP LAYER\n",
      "<Parameter:  'gap_thick'  , value=23.3832 +/- 1.24 , bounds=[10.0, 50.0]>\n",
      "<Parameter:'gap_vfsolv_dlip_acmw', value=1 +/- 0.00951, bounds=[0.0, 1.0]>\n",
      "<Parameter:'gap_vfsolv_dlip_d2o', value=0.997483 +/- 0.00575, bounds=[0.0, 1.0]>\n",
      "<Parameter:'gap_vfsolv_hlip_d2o', value=0.991701 +/- 0.00434, bounds=[0.0, 1.0]>\n",
      "\n",
      "RESERVOIR LAYER\n",
      "<Parameter: 'head_thick'  , value=11.5948 +/- 0.306, bounds=[8.0, 15.0]>\n",
      "<Parameter:'headreservoir_vfsolv', value=0.971461 +/- 0.000694, bounds=[0.5, 0.99]>\n",
      "<Parameter:'headreservoir_vfsolv_dlip_d2o', value=0.917112 +/- 0.00232, bounds=[0.5, 0.99]>\n",
      "<Parameter:'headreservoir_vfsolv_dlip_d2o', value=0.98381 +/- 0.000501, bounds=[0.5, 0.99]>\n",
      "<Parameter:'tailreservoir_thick', value=23.9381 +/- 0.889, bounds=[20.0, 40.0]>\n",
      "<Parameter:'tailreservoir_vfsolv_dlip_acmw', value=0.92721          , bounds=[0.2, 0.99], constraint=<Parameter:     None      , value=0.92721  (fixed) , bounds=None>>\n",
      "<Parameter:'tailreservoir_vfsolv_dlip_d2o', value=0.788593          , bounds=[0.2, 0.99], constraint=<Parameter:     None      , value=0.788593  (fixed) , bounds=None>>\n",
      "<Parameter:'tailreservoir_vfsolv_dlip_d2o', value=0.958708          , bounds=[0.2, 0.99], constraint=<Parameter:     None      , value=0.958708  (fixed) , bounds=None>>\n",
      "<Parameter:'rough_reservoir', value=4.5  (fixed) , bounds=[4.0, 8.0]>\n",
      "<Parameter:     None      , value=0.166004  (fixed) , bounds=None>\n",
      "<Parameter:     None      , value=0.332007  (fixed) , bounds=None>\n",
      "<Parameter:     None      , value=0.48213  (fixed) , bounds=None>\n",
      "<Parameter:     None      , value=0.964261  (fixed) , bounds=None>\n",
      "<Parameter:     None      , value=0.0941701  (fixed) , bounds=None>\n",
      "<Parameter:     None      , value=-0.00597822  (fixed) , bounds=None>\n",
      "\n"
     ]
    }
   ],
   "source": [
    "print(f\"chi2: {global_objective.chisqr()/(global_objective.npoints - len(global_objective.varying_parameters()))}\")\n",
    "print(\"MONOLAYER\")\n",
    "print(tail_thick)\n",
    "print(p_tails_vf)\n",
    "print(dtail_SLD)\n",
    "print(htail_SLD)\n",
    "print(f\"Delta %SLD: {100*(dtail_SLD.value-4.92)/4.92}\")\n",
    "print()\n",
    "print(head_thick)\n",
    "print(head_vfsolv)\n",
    "print(p_heads_vf)\n",
    "print(rough_monolayer)\n",
    "print()\n",
    "print(f\"Gamma_tails_monolayer: {Gamma_tails_monolayer}\")\n",
    "print(f\"Gamma_heads_monolayer: {Gamma_heads_monolayer}\")\n",
    "print(f\"A_permolecule_tails_monolayer: {A_permolecule_tails_monolayer}\")\n",
    "print(f\"A_permolecule_heads_monolayer: {A_permolecule_heads_monolayer}\")\n",
    "print()\n",
    "print(\"GAP LAYER\")\n",
    "print(gap_thick)\n",
    "print(gap_vfsolv_dlip_acmw)\n",
    "print(gap_vfsolv_dlip_d2o)\n",
    "print(gap_vfsolv_hlip_d2o)\n",
    "print()\n",
    "print(\"RESERVOIR LAYER\")\n",
    "print(head_thick)\n",
    "print(headreservoir_vfsolv_dlip_acmw)\n",
    "print(headreservoir_vfsolv_dlip_d2o)\n",
    "print(headreservoir_vfsolv_hlip_d2o)\n",
    "print(tailreservoir_thick)\n",
    "print(tailreservoir_vfsolv_dlip_acmw)\n",
    "print(tailreservoir_vfsolv_dlip_d2o)\n",
    "print(tailreservoir_vfsolv_hlip_d2o)\n",
    "print(rough_reservoir)\n",
    "print(Gamma_heads_reservoir_dlip_acmw)\n",
    "print(Gamma_tails_reservoir_dlip_acmw)\n",
    "print(Gamma_heads_reservoir_dlip_d2o)\n",
    "print(Gamma_tails_reservoir_dlip_d2o)\n",
    "print(Gamma_heads_reservoir_hlip_d2o)\n",
    "print(Gamma_tails_reservoir_hlip_d2o)\n",
    "print()\n"
   ]
  },
  {
   "cell_type": "markdown",
   "metadata": {},
   "source": [
    "#### Plot the refletivity profiles and the obtained fits"
   ]
  },
  {
   "cell_type": "code",
   "execution_count": 12,
   "metadata": {},
   "outputs": [
    {
     "name": "stdout",
     "output_type": "stream",
     "text": [
      "chi2: 4.280564136927514\n"
     ]
    },
    {
     "name": "stderr",
     "output_type": "stream",
     "text": [
      "C:\\Users\\carrascosa-tejedor\\AppData\\Local\\Temp\\ipykernel_16228\\2156097081.py:18: UserWarning: set_ticklabels() should only be used with a fixed number of ticks, i.e. after set_ticks() or using a FixedLocator.\n",
      "  ax.set_xticklabels(ax.get_xticks(), fontsize=12, fontweight='bold')\n",
      "C:\\Users\\carrascosa-tejedor\\AppData\\Local\\Temp\\ipykernel_16228\\2156097081.py:19: UserWarning: set_ticklabels() should only be used with a fixed number of ticks, i.e. after set_ticks() or using a FixedLocator.\n",
      "  ax.set_yticklabels(ax.get_yticks(), fontsize=12, fontweight='bold')\n"
     ]
    },
    {
     "data": {
      "image/png": "[encoded data removed]",
      "text/plain": [
       "<Figure size 640x480 with 1 Axes>"
      ]
     },
     "metadata": {},
     "output_type": "display_data"
    }
   ],
   "source": [
    "print(f\"chi2: {global_objective.chisqr()/(global_objective.npoints - len(global_objective.varying_parameters()))}\")\n",
    "import numpy as np\n",
    "import matplotlib.pyplot as plt\n",
    "import matplotlib.ticker as ticker\n",
    "from matplotlib.lines import Line2D\n",
    "import matplotlib.colors as mcolors\n",
    "import colorsys\n",
    "\n",
    "\n",
    "# Plot using refnx built-in function\n",
    "fig, ax = global_objective.plot()\n",
    "\n",
    "# Set axis line thickness\n",
    "for spine in ax.spines.values():\n",
    "    spine.set_linewidth(1.5)\n",
    "\n",
    "# Font size and bold labels\n",
    "ax.set_xticklabels(ax.get_xticks(), fontsize=12, fontweight='bold')\n",
    "ax.set_yticklabels(ax.get_yticks(), fontsize=12, fontweight='bold')\n",
    "\n",
    "# Axis formatting\n",
    "ax.xaxis.set_major_formatter(ticker.FormatStrFormatter('%.2f'))\n",
    "ax.yaxis.set_major_formatter(\n",
    "    ticker.FuncFormatter(lambda x, _: f\"$10^{{{int(np.log10(x))}}}$\")\n",
    ")\n",
    "\n",
    "# Axes scaling and limits\n",
    "ax.set_yscale('log')\n",
    "ax.set_xlabel(r'$\\mathbf{Q}_\\mathbf{Z}$ $\\mathbf{(\\AA}^{\\mathbf{-1}}\\mathbf{)}$', fontsize=16)\n",
    "ax.set_ylabel(r'$\\mathbf{RQ}_{\\mathbf{Z}}^{\\ \\mathbf{4}}$ $\\mathbf{(\\AA}^{\\mathbf{-4}}\\mathbf{)}$', fontsize=16)\n",
    "ax.set_xlim(0, 0.25)\n",
    "ax.set_ylim(1E-10, 1E-7)\n",
    "\n",
    "def adjust_color_lightness(color, factor):\n",
    "    \"\"\"Adjust lightness of a matplotlib color using HLS.\"\"\"\n",
    "    r, g, b = mcolors.to_rgb(color)\n",
    "    h, l, s = colorsys.rgb_to_hls(r, g, b)\n",
    "    l = np.clip(l * factor, 0, 1)\n",
    "    r, g, b = colorsys.hls_to_rgb(h, l, s)\n",
    "    return (r, g, b)\n",
    "\n",
    "light_red = adjust_color_lightness('red', 1.4)    # lighter red\n",
    "dark_red  = adjust_color_lightness('red', 0.6)    # darker red\n",
    "light_blue = adjust_color_lightness('blue', 1.4)\n",
    "dark_blue  = adjust_color_lightness('blue', 0.6)\n",
    "light_orange = adjust_color_lightness('orange', 1.4)\n",
    "dark_orange  = adjust_color_lightness('orange', 0.6)\n",
    "\n",
    "# === Define custom colors for datasets === #\n",
    "data_styles = {\n",
    "    'dLip_acmw': {'color': light_red, 'line': dark_red},\n",
    "    'dLip_d2o': {'color': light_blue, 'line': dark_blue},\n",
    "    'hLip_d2o': {'color': light_orange, 'line': dark_orange},\n",
    "}\n",
    "\n",
    "# === Apply custom styles to data and fit lines === #\n",
    "lines = ax.get_lines()\n",
    "line_idx = 0\n",
    "\n",
    "for objective in global_objective.objectives:\n",
    "    label = objective.data.name\n",
    "    if label not in data_styles:\n",
    "        continue\n",
    "\n",
    "    # --- Data line (markers) ---\n",
    "    data_line = lines[line_idx]\n",
    "    data_line.set_color(data_styles[label]['color'])\n",
    "    data_line.set_marker('o')\n",
    "    data_line.set_markersize(6)\n",
    "    data_line.set_linestyle('None')\n",
    "    data_line.set_label(label)  # For legend\n",
    "\n",
    "    line_idx += 1\n",
    "\n",
    "    # --- Fit line ---\n",
    "    fit_line = lines[line_idx]\n",
    "    fit_line.set_color(data_styles[label]['line'])\n",
    "    fit_line.set_linewidth(2.5)\n",
    "    fit_line.set_label(f\"{label} fit\")\n",
    "\n",
    "    line_idx += 1\n",
    "\n",
    "# === Fix error bar colors to match data points === #\n",
    "# ax.collections are the error bars\n",
    "for col, objective in zip(ax.collections, global_objective.objectives):\n",
    "    label = objective.data.name\n",
    "    if label in data_styles:\n",
    "        col.set_color(data_styles[label]['color'])\n",
    "\n",
    "# === Add legend === #\n",
    "# ax.legend(frameon=True, prop={'weight': 'bold', 'size': 10})\n",
    "\n",
    "# === Optional: Save figure for publication === #\n",
    "fig.savefig(\"Ref_fit_SPB_45mNm.png\", dpi=600, bbox_inches='tight')"
   ]
  },
  {
   "cell_type": "markdown",
   "metadata": {},
   "source": [
    "#### Plot SLD profiles"
   ]
  },
  {
   "cell_type": "code",
   "execution_count": 13,
   "metadata": {},
   "outputs": [
    {
     "name": "stderr",
     "output_type": "stream",
     "text": [
      "C:\\Users\\carrascosa-tejedor\\AppData\\Local\\Temp\\ipykernel_16228\\3723533269.py:11: UserWarning: set_ticklabels() should only be used with a fixed number of ticks, i.e. after set_ticks() or using a FixedLocator.\n",
      "  ax.set_xticklabels(ax.get_xticks(), fontsize=12, fontweight='bold')\n",
      "C:\\Users\\carrascosa-tejedor\\AppData\\Local\\Temp\\ipykernel_16228\\3723533269.py:12: UserWarning: set_ticklabels() should only be used with a fixed number of ticks, i.e. after set_ticks() or using a FixedLocator.\n",
      "  ax.set_yticklabels(ax.get_yticks(), fontsize=12, fontweight='bold')\n"
     ]
    },
    {
     "data": {
      "text/plain": [
       "<function matplotlib.pyplot.show(close=None, block=None)>"
      ]
     },
     "execution_count": 13,
     "metadata": {},
     "output_type": "execute_result"
    },
    {
     "data": {
      "image/png": "[encoded data removed]",
      "text/plain": [
       "<Figure size 640x480 with 1 Axes>"
      ]
     },
     "metadata": {},
     "output_type": "display_data"
    }
   ],
   "source": [
    "fig, ax = plt.subplots()\n",
    "\n",
    "ax = plt.gca()  # Get the current axis\n",
    "\n",
    "# Set the thickness of each axis line\n",
    "for spine in ax.spines.values():\n",
    "    spine.set_linewidth(1.5)\n",
    "import matplotlib.pyplot as plt\n",
    "\n",
    "# Set the size of the x and y labels\n",
    "ax.set_xticklabels(ax.get_xticks(), fontsize=12, fontweight='bold')\n",
    "ax.set_yticklabels(ax.get_yticks(), fontsize=12, fontweight='bold')\n",
    "\n",
    "# To round the values of x-axis to two decimal places\n",
    "import matplotlib.ticker as ticker\n",
    "ax.xaxis.set_major_formatter(ticker.FormatStrFormatter('%.0f'))\n",
    "ax.yaxis.set_major_formatter(ticker.FormatStrFormatter('%.1f'))\n",
    "\n",
    "def adjust_color_lightness(color, factor):\n",
    "    \"\"\"Adjust lightness of a matplotlib color using HLS.\"\"\"\n",
    "    r, g, b = mcolors.to_rgb(color)\n",
    "    h, l, s = colorsys.rgb_to_hls(r, g, b)\n",
    "    l = np.clip(l * factor, 0, 1)\n",
    "    r, g, b = colorsys.hls_to_rgb(h, l, s)\n",
    "    return (r, g, b)\n",
    "\n",
    "dark_red  = adjust_color_lightness('red', 0.6)    # darker red\n",
    "dark_blue  = adjust_color_lightness('blue', 0.6)\n",
    "dark_orange  = adjust_color_lightness('orange', 0.6)\n",
    "\n",
    "ax.plot(*dLip_acmw.sld_profile(), label='dLip_acmw', color='red', linewidth=2.5)\n",
    "ax.plot(*dLip_d2o.sld_profile(), label='dLip_d2o', color='blue', linewidth=2.5)\n",
    "# ax.plot(*hLip_acmw.sld_profile(), label='hLip_acmw', color='green', linewidth=2.5)\n",
    "ax.plot(*hLip_d2o.sld_profile(), label='hLip_d2o', color='orange', linewidth=2.5)\n",
    "\n",
    "ax.set_ylabel(r\"$\\mathbf{\\rho}$ $\\mathbf{(10}^{\\mathbf{-6}} \\mathbf{\\AA}^{\\mathbf{-2}}\\mathbf{)}$\", fontsize=16)\n",
    "ax.set_xlabel(r\"$\\mathbf{z}$ $\\mathbf{(\\AA)}$\", fontsize=16)\n",
    "plt.xlim(-30, 140)\n",
    "plt.ylim(-1, 7)\n",
    "# ax.legend(frameon=True, prop={'weight': 'bold', 'size': 10});\n",
    "plt.show\n",
    "# fig.savefig(\"SLD_profile_SPB_45mNm.png\", dpi=600, bbox_inches='tight')"
   ]
  },
  {
   "cell_type": "markdown",
   "metadata": {},
   "source": [
    "#### Generate and plot the volume fraction profiles\n",
    "In this case, a volume fraction profile has been generated for each contrast, as the reservoir coverage varies between contrasts"
   ]
  },
  {
   "cell_type": "code",
   "execution_count": 14,
   "metadata": {},
   "outputs": [
    {
     "name": "stderr",
     "output_type": "stream",
     "text": [
      "C:\\Users\\carrascosa-tejedor\\AppData\\Local\\Temp\\ipykernel_16228\\3053595394.py:23: UserWarning: set_ticklabels() should only be used with a fixed number of ticks, i.e. after set_ticks() or using a FixedLocator.\n",
      "  ax.set_xticklabels(ax.get_xticks(), fontsize=12, fontweight='bold')\n",
      "C:\\Users\\carrascosa-tejedor\\AppData\\Local\\Temp\\ipykernel_16228\\3053595394.py:24: UserWarning: set_ticklabels() should only be used with a fixed number of ticks, i.e. after set_ticks() or using a FixedLocator.\n",
      "  ax.set_yticklabels(ax.get_yticks(), fontsize=12, fontweight='bold')\n"
     ]
    },
    {
     "data": {
      "text/plain": [
       "(-0.1, 1.1)"
      ]
     },
     "execution_count": 14,
     "metadata": {},
     "output_type": "execute_result"
    },
    {
     "data": {
      "image/png": "[encoded data removed]",
      "text/plain": [
       "<Figure size 640x480 with 1 Axes>"
      ]
     },
     "metadata": {},
     "output_type": "display_data"
    }
   ],
   "source": [
    "import matplotlib.pyplot as plt\n",
    "import numpy as np\n",
    "import matplotlib.ticker as ticker\n",
    "\n",
    "# Example of color choices\n",
    "color_map = {\n",
    "    \"tails\": \"red\",\n",
    "    \"heads\": \"orange\",\n",
    "    \"SPB\": \"green\",\n",
    "    \"solvent\": \"blue\",\n",
    "}\n",
    "\n",
    "z, vfps = create_occupancy(dLip_acmw)\n",
    "\n",
    "ax = plt.gca()  # Get the current axis\n",
    "\n",
    "# Set the thickness of each axis line\n",
    "for spine in ax.spines.values():\n",
    "    spine.set_linewidth(1.5)\n",
    "import matplotlib.pyplot as plt\n",
    "\n",
    "# Set the size of the x and y labels\n",
    "ax.set_xticklabels(ax.get_xticks(), fontsize=12, fontweight='bold')\n",
    "ax.set_yticklabels(ax.get_yticks(), fontsize=12, fontweight='bold')\n",
    "\n",
    "# To round the values of x-axis to two decimal places\n",
    "import matplotlib.ticker as ticker\n",
    "ax.xaxis.set_major_formatter(ticker.FormatStrFormatter('%.0f'))\n",
    "ax.yaxis.set_major_formatter(ticker.FormatStrFormatter('%.1f'))\n",
    "\n",
    "# groups = [(1,5), (3), (2, 4, 6), (7,)]\n",
    "# labels = [\"tails\", \"solvent\", \"heads\", \"acmw\"]\n",
    "groups = [(1,5), (2, 4, 6), (3,7,)]\n",
    "labels = [\"tails\", \"heads\", \"solvent\"]\n",
    "\n",
    "for g, label in zip(groups, labels):\n",
    "    vfp = np.take(\n",
    "        vfps, g, axis=0\n",
    "    )  # the take function is used to extract indices from a numpy array.\n",
    "    if len(vfp.shape) > 1:\n",
    "        vfp = np.sum(vfp, axis=0)\n",
    "    plt.plot(z, vfp, label=label, linewidth=2.5, color=color_map[label])\n",
    "\n",
    "# Plot SPB separately: 10% of layers 1 and 2, 100% of layer 3\n",
    "vfp_spb = 0.009494 * vfps[1] + 0.009494 * vfps[2] + vfps[3] + 0.009494*vfps[4]  + 0.009494*vfps[5]  + 0.009494*vfps[6]\n",
    "ax.plot(z, vfp_spb, label=\"SPB\", linewidth=2.5, color=color_map[\"SPB\"])\n",
    "    \n",
    "\n",
    "plt.legend(frameon=True, prop={'weight': 'bold', 'size': 10}, loc=\"upper left\")\n",
    "plt.ylabel(r'$\\mathbf{V}_\\mathbf{f}$', fontsize=16)\n",
    "plt.xlabel(r\"$\\mathbf{z}$ $\\mathbf{(\\AA)}$\", fontsize=16);\n",
    "plt.xlim(-40, 140)\n",
    "plt.ylim(-0.1, 1.1)"
   ]
  },
  {
   "cell_type": "code",
   "execution_count": 15,
   "metadata": {},
   "outputs": [
    {
     "name": "stderr",
     "output_type": "stream",
     "text": [
      "C:\\Users\\carrascosa-tejedor\\AppData\\Local\\Temp\\ipykernel_16228\\672388177.py:26: UserWarning: set_ticklabels() should only be used with a fixed number of ticks, i.e. after set_ticks() or using a FixedLocator.\n",
      "  ax.set_xticklabels(ax.get_xticks(), fontsize=12, fontweight='bold')\n",
      "C:\\Users\\carrascosa-tejedor\\AppData\\Local\\Temp\\ipykernel_16228\\672388177.py:27: UserWarning: set_ticklabels() should only be used with a fixed number of ticks, i.e. after set_ticks() or using a FixedLocator.\n",
      "  ax.set_yticklabels(ax.get_yticks(), fontsize=12, fontweight='bold')\n"
     ]
    },
    {
     "data": {
      "image/png": "[encoded data removed]",
      "text/plain": [
       "<Figure size 640x480 with 1 Axes>"
      ]
     },
     "metadata": {},
     "output_type": "display_data"
    }
   ],
   "source": [
    "import matplotlib.pyplot as plt\n",
    "import numpy as np\n",
    "import matplotlib.ticker as ticker\n",
    "\n",
    "# Example of color choices\n",
    "color_map = {\n",
    "    \"tails\": \"red\",\n",
    "    \"heads\": \"orange\",\n",
    "    \"SPB\": \"green\",\n",
    "    \"solvent\": \"blue\",\n",
    "}\n",
    "\n",
    "z, vfps = create_occupancy(dLip_d2o)\n",
    "\n",
    "# Create plot\n",
    "fig, ax = plt.subplots()\n",
    "\n",
    "ax = plt.gca()  # Get the current axis\n",
    "\n",
    "# Set the thickness of each axis line\n",
    "for spine in ax.spines.values():\n",
    "    spine.set_linewidth(1.5)\n",
    "import matplotlib.pyplot as plt\n",
    "\n",
    "# Set the size of the x and y labels\n",
    "ax.set_xticklabels(ax.get_xticks(), fontsize=12, fontweight='bold')\n",
    "ax.set_yticklabels(ax.get_yticks(), fontsize=12, fontweight='bold')\n",
    "\n",
    "# To round the values of x-axis to two decimal places\n",
    "import matplotlib.ticker as ticker\n",
    "ax.xaxis.set_major_formatter(ticker.FormatStrFormatter('%.0f'))\n",
    "ax.yaxis.set_major_formatter(ticker.FormatStrFormatter('%.1f'))\n",
    "\n",
    "# groups = [(1,5), (3), (2, 4, 6), (7,)]\n",
    "# labels = [\"tails\", \"solvent\", \"heads\", \"acmw\"]\n",
    "groups = [(1,5), (2, 4, 6), (3,7,)]\n",
    "labels = [\"tails\", \"heads\", \"solvent\"]\n",
    "\n",
    "for g, label in zip(groups, labels):\n",
    "    vfp = np.take(\n",
    "        vfps, g, axis=0\n",
    "    )  # the take function is used to extract indices from a numpy array.\n",
    "    if len(vfp.shape) > 1:\n",
    "        vfp = np.sum(vfp, axis=0)\n",
    "    plt.plot(z, vfp, label=label, linewidth=2.5, color=color_map[label])\n",
    "\n",
    "# Plot SPB separately: 10% of layers 1 and 2, 100% of layer 3\n",
    "vfp_spb = 0.009494 * vfps[1] + 0.009494 * vfps[2] + vfps[3] + 0.009494*vfps[4]  + 0.009494*vfps[5]  + 0.009494*vfps[6]\n",
    "ax.plot(z, vfp_spb, label=\"SPB\", linewidth=2.5, color=color_map[\"SPB\"])\n",
    "    \n",
    "\n",
    "plt.legend(frameon=True, prop={'weight': 'bold', 'size': 10}, loc=\"upper left\")\n",
    "plt.ylabel(r'$\\mathbf{V}_\\mathbf{f}$', fontsize=16)\n",
    "plt.xlabel(r\"$\\mathbf{z}$ $\\mathbf{(\\AA)}$\", fontsize=16);\n",
    "plt.xlim(-40, 140)\n",
    "plt.ylim(-0.1, 1.1)\n",
    "\n",
    "# plt.show\n",
    "\n",
    "fig.savefig(\"Vfprofile_SPB_45mNm.png\", dpi=600, bbox_inches='tight')"
   ]
  },
  {
   "cell_type": "code",
   "execution_count": 16,
   "metadata": {},
   "outputs": [
    {
     "name": "stderr",
     "output_type": "stream",
     "text": [
      "C:\\Users\\carrascosa-tejedor\\AppData\\Local\\Temp\\ipykernel_16228\\1481031226.py:23: UserWarning: set_ticklabels() should only be used with a fixed number of ticks, i.e. after set_ticks() or using a FixedLocator.\n",
      "  ax.set_xticklabels(ax.get_xticks(), fontsize=12, fontweight='bold')\n",
      "C:\\Users\\carrascosa-tejedor\\AppData\\Local\\Temp\\ipykernel_16228\\1481031226.py:24: UserWarning: set_ticklabels() should only be used with a fixed number of ticks, i.e. after set_ticks() or using a FixedLocator.\n",
      "  ax.set_yticklabels(ax.get_yticks(), fontsize=12, fontweight='bold')\n"
     ]
    },
    {
     "data": {
      "text/plain": [
       "(-0.1, 1.1)"
      ]
     },
     "execution_count": 16,
     "metadata": {},
     "output_type": "execute_result"
    },
    {
     "data": {
      "image/png": "[encoded data removed]",
      "text/plain": [
       "<Figure size 640x480 with 1 Axes>"
      ]
     },
     "metadata": {},
     "output_type": "display_data"
    }
   ],
   "source": [
    "import matplotlib.pyplot as plt\n",
    "import numpy as np\n",
    "import matplotlib.ticker as ticker\n",
    "\n",
    "# Example of color choices\n",
    "color_map = {\n",
    "    \"tails\": \"red\",\n",
    "    \"heads\": \"orange\",\n",
    "    \"SPB\": \"green\",\n",
    "    \"solvent\": \"blue\",\n",
    "}\n",
    "\n",
    "z, vfps = create_occupancy(hLip_d2o)\n",
    "\n",
    "ax = plt.gca()  # Get the current axis\n",
    "\n",
    "# Set the thickness of each axis line\n",
    "for spine in ax.spines.values():\n",
    "    spine.set_linewidth(1.5)\n",
    "import matplotlib.pyplot as plt\n",
    "\n",
    "# Set the size of the x and y labels\n",
    "ax.set_xticklabels(ax.get_xticks(), fontsize=12, fontweight='bold')\n",
    "ax.set_yticklabels(ax.get_yticks(), fontsize=12, fontweight='bold')\n",
    "\n",
    "# To round the values of x-axis to two decimal places\n",
    "import matplotlib.ticker as ticker\n",
    "ax.xaxis.set_major_formatter(ticker.FormatStrFormatter('%.0f'))\n",
    "ax.yaxis.set_major_formatter(ticker.FormatStrFormatter('%.1f'))\n",
    "\n",
    "# groups = [(1,5), (3), (2, 4, 6), (7,)]\n",
    "# labels = [\"tails\", \"solvent\", \"heads\", \"acmw\"]\n",
    "groups = [(1,5), (2, 4, 6), (3,7,)]\n",
    "labels = [\"tails\", \"heads\", \"solvent\"]\n",
    "\n",
    "for g, label in zip(groups, labels):\n",
    "    vfp = np.take(\n",
    "        vfps, g, axis=0\n",
    "    )  # the take function is used to extract indices from a numpy array.\n",
    "    if len(vfp.shape) > 1:\n",
    "        vfp = np.sum(vfp, axis=0)\n",
    "    plt.plot(z, vfp, label=label, linewidth=2.5, color=color_map[label])\n",
    "\n",
    "# Plot SPB separately: 10% of layers 1 and 2, 100% of layer 3\n",
    "vfp_spb = 0.009494 * vfps[1] + 0.009494 * vfps[2] + vfps[3] + 0.009494*vfps[4]  + 0.009494*vfps[5]  + 0.009494*vfps[6]\n",
    "ax.plot(z, vfp_spb, label=\"SPB\", linewidth=2.5, color=color_map[\"SPB\"])\n",
    "    \n",
    "\n",
    "plt.legend(frameon=True, prop={'weight': 'bold', 'size': 10}, loc=\"upper left\")\n",
    "plt.ylabel(r'$\\mathbf{V}_\\mathbf{f}$', fontsize=16)\n",
    "plt.xlabel(r\"$\\mathbf{z}$ $\\mathbf{(\\AA)}$\", fontsize=16);\n",
    "plt.xlim(-40, 140)\n",
    "plt.ylim(-0.1, 1.1)"
   ]
  },
  {
   "cell_type": "markdown",
   "metadata": {},
   "source": [
    "#### Perform MCMC analysis"
   ]
  },
  {
   "cell_type": "code",
   "execution_count": 17,
   "metadata": {},
   "outputs": [
    {
     "name": "stderr",
     "output_type": "stream",
     "text": [
      "100%|██████████| 100/100 [01:29<00:00,  1.12it/s]\n"
     ]
    }
   ],
   "source": [
    "fitter.reset()\n",
    "fitter.sample(100, pool=1)\n",
    "fitter.reset()"
   ]
  },
  {
   "cell_type": "code",
   "execution_count": 18,
   "metadata": {},
   "outputs": [
    {
     "name": "stderr",
     "output_type": "stream",
     "text": [
      "100%|██████████| 1000/1000 [18:32<00:00,  1.11s/it]\n"
     ]
    }
   ],
   "source": [
    "res = fitter.sample(100, nthin=10, pool=1)"
   ]
  },
  {
   "cell_type": "markdown",
   "metadata": {},
   "source": [
    "#### Print chi2 and a summary of the fitted paremeters"
   ]
  },
  {
   "cell_type": "code",
   "execution_count": 19,
   "metadata": {},
   "outputs": [
    {
     "name": "stdout",
     "output_type": "stream",
     "text": [
      "chi2: 4.283622655354556\n",
      "________________________________________________________________________________\n",
      "Parameters:      None      \n",
      "<Parameter: 'tail_thick'  , value=15.976 +/- 0.0447, bounds=[10.0, 30.0]>\n",
      "<Parameter:  'dtail_SLD'  , value=5.3967 +/- 0.0136, bounds=[4.917084590931521, 7.375626886397282]>\n",
      "<Parameter: 'head_thick'  , value=11.5567 +/- 0.145, bounds=[8.0, 15.0]>\n",
      "<Parameter:  'gap_thick'  , value=23.8186 +/- 0.43 , bounds=[10.0, 50.0]>\n",
      "<Parameter:'gap_vfsolv_dlip_acmw', value=0.999075 +/- 0.00108, bounds=[0.0, 1.0]>\n",
      "<Parameter:'headreservoir_vfsolv', value=0.971598 +/- 0.000579, bounds=[0.5, 0.99]>\n",
      "<Parameter:'tailreservoir_thick', value=23.3689 +/- 0.684, bounds=[20.0, 40.0]>\n",
      "<Parameter:'gap_vfsolv_dlip_d2o', value=0.996231 +/- 0.00229, bounds=[0.0, 1.0]>\n",
      "<Parameter:'headreservoir_vfsolv_dlip_d2o', value=0.917704 +/- 0.00221, bounds=[0.5, 0.99]>\n",
      "<Parameter:'gap_vfsolv_hlip_d2o', value=0.991072 +/- 0.00219, bounds=[0.0, 1.0]>\n",
      "<Parameter:'headreservoir_vfsolv_dlip_d2o', value=0.983863 +/- 0.000471, bounds=[0.5, 0.99]>\n"
     ]
    }
   ],
   "source": [
    "print(f\"chi2: {global_objective.chisqr()/(global_objective.npoints - len(global_objective.varying_parameters()))}\")\n",
    "print(global_objective.parameters.varying_parameters())"
   ]
  },
  {
   "cell_type": "markdown",
   "metadata": {},
   "source": [
    "##### Print summary of the most relevant parameters"
   ]
  },
  {
   "cell_type": "code",
   "execution_count": 20,
   "metadata": {},
   "outputs": [
    {
     "name": "stdout",
     "output_type": "stream",
     "text": [
      "chi2: 4.283622655354556\n",
      "MONOLAYER\n",
      "<Parameter: 'tail_thick'  , value=15.976 +/- 0.0447, bounds=[10.0, 30.0]>\n",
      "<Parameter:'p_tails_vfsolv', value=0.009494  (fixed) , bounds=[0.0, 1.0]>\n",
      "<Parameter:  'dtail_SLD'  , value=5.3967 +/- 0.0136, bounds=[4.917084590931521, 7.375626886397282]>\n",
      "<Parameter:  'htail_SLD'  , value=-0.1713 +/- 0.000431, bounds=[-0.2341140961933507, -0.15607606412890046], constraint=<Parameter:     None      , value=-0.1713  (fixed) , bounds=None>>\n",
      "Delta %SLD: 9.689078590120452\n",
      "\n",
      "<Parameter: 'head_thick'  , value=11.5567 +/- 0.145, bounds=[8.0, 15.0]>\n",
      "<Parameter: 'head_vfsolv' , value=0.419704 +/- 0.00699, bounds=[0.0, 0.7], constraint=<Parameter:     None      , value=0.419704  (fixed) , bounds=None>>\n",
      "<Parameter:'p_head_vfsolv', value=0.009494  (fixed) , bounds=[0.0, 1.0]>\n",
      "<Parameter:'rough_monolayer', value=4.5  (fixed) , bounds=[4.0, 8.0]>\n",
      "\n",
      "Gamma_tails_monolayer: 3.3092627857363786\n",
      "Gamma_heads_monolayer: 3.309262785736379\n",
      "A_permolecule_tails_monolayer: 50.1796922341757\n",
      "A_permolecule_heads_monolayer: 50.17969223417569\n",
      "\n",
      "GAP LAYER\n",
      "<Parameter:  'gap_thick'  , value=23.8186 +/- 0.43 , bounds=[10.0, 50.0]>\n",
      "<Parameter:'gap_vfsolv_dlip_acmw', value=0.999075 +/- 0.00108, bounds=[0.0, 1.0]>\n",
      "<Parameter:'gap_vfsolv_dlip_d2o', value=0.996231 +/- 0.00229, bounds=[0.0, 1.0]>\n",
      "<Parameter:'gap_vfsolv_hlip_d2o', value=0.991072 +/- 0.00219, bounds=[0.0, 1.0]>\n",
      "\n",
      "RESERVOIR LAYER\n",
      "<Parameter: 'head_thick'  , value=11.5567 +/- 0.145, bounds=[8.0, 15.0]>\n",
      "<Parameter:'headreservoir_vfsolv', value=0.971598 +/- 0.000579, bounds=[0.5, 0.99]>\n",
      "<Parameter:'headreservoir_vfsolv_dlip_d2o', value=0.917704 +/- 0.00221, bounds=[0.5, 0.99]>\n",
      "<Parameter:'headreservoir_vfsolv_dlip_d2o', value=0.983863 +/- 0.000471, bounds=[0.5, 0.99]>\n",
      "<Parameter:'tailreservoir_thick', value=23.3689 +/- 0.684, bounds=[20.0, 40.0]>\n",
      "<Parameter:'tailreservoir_vfsolv_dlip_acmw', value=0.926038 +/- 0.00195, bounds=[0.2, 0.99], constraint=<Parameter:     None      , value=0.926038  (fixed) , bounds=None>>\n",
      "<Parameter:'tailreservoir_vfsolv_dlip_d2o', value=0.785695 +/- 0.00567, bounds=[0.2, 0.99], constraint=<Parameter:     None      , value=0.785695  (fixed) , bounds=None>>\n",
      "<Parameter:'tailreservoir_vfsolv_dlip_d2o', value=0.957978 +/- 0.00135, bounds=[0.2, 0.99], constraint=<Parameter:     None      , value=0.957978  (fixed) , bounds=None>>\n",
      "<Parameter:'rough_reservoir', value=4.5  (fixed) , bounds=[4.0, 8.0]>\n",
      "<Parameter:     None      , value=0.164665  (fixed) , bounds=None>\n",
      "<Parameter:     None      , value=0.329331  (fixed) , bounds=None>\n",
      "<Parameter:     None      , value=0.477117  (fixed) , bounds=None>\n",
      "<Parameter:     None      , value=0.954234  (fixed) , bounds=None>\n",
      "<Parameter:     None      , value=0.093556  (fixed) , bounds=None>\n",
      "<Parameter:     None      , value=-0.00593923  (fixed) , bounds=None>\n",
      "\n"
     ]
    }
   ],
   "source": [
    "print(f\"chi2: {global_objective.chisqr()/(global_objective.npoints - len(global_objective.varying_parameters()))}\")\n",
    "print(\"MONOLAYER\")\n",
    "print(tail_thick)\n",
    "print(p_tails_vf)\n",
    "print(dtail_SLD)\n",
    "print(htail_SLD)\n",
    "print(f\"Delta %SLD: {100*(dtail_SLD.value-4.92)/4.92}\")\n",
    "print()\n",
    "print(head_thick)\n",
    "print(head_vfsolv)\n",
    "print(p_heads_vf)\n",
    "print(rough_monolayer)\n",
    "print()\n",
    "print(f\"Gamma_tails_monolayer: {Gamma_tails_monolayer.value}\")\n",
    "print(f\"Gamma_heads_monolayer: {Gamma_heads_monolayer.value}\")\n",
    "print(f\"A_permolecule_tails_monolayer: {A_permolecule_tails_monolayer.value}\")\n",
    "print(f\"A_permolecule_heads_monolayer: {A_permolecule_heads_monolayer.value}\")\n",
    "print()\n",
    "print(\"GAP LAYER\")\n",
    "print(gap_thick)\n",
    "print(gap_vfsolv_dlip_acmw)\n",
    "print(gap_vfsolv_dlip_d2o)\n",
    "print(gap_vfsolv_hlip_d2o)\n",
    "print()\n",
    "print(\"RESERVOIR LAYER\")\n",
    "print(head_thick)\n",
    "print(headreservoir_vfsolv_dlip_acmw)\n",
    "print(headreservoir_vfsolv_dlip_d2o)\n",
    "print(headreservoir_vfsolv_hlip_d2o)\n",
    "print(tailreservoir_thick)\n",
    "print(tailreservoir_vfsolv_dlip_acmw)\n",
    "print(tailreservoir_vfsolv_dlip_d2o)\n",
    "print(tailreservoir_vfsolv_hlip_d2o)\n",
    "print(rough_reservoir)\n",
    "print(Gamma_heads_reservoir_dlip_acmw)\n",
    "print(Gamma_tails_reservoir_dlip_acmw)\n",
    "print(Gamma_heads_reservoir_dlip_d2o)\n",
    "print(Gamma_tails_reservoir_dlip_d2o)\n",
    "print(Gamma_heads_reservoir_hlip_d2o)\n",
    "print(Gamma_tails_reservoir_hlip_d2o)\n",
    "print()\n"
   ]
  },
  {
   "cell_type": "markdown",
   "metadata": {},
   "source": [
    "#### Vertification of applied constraints"
   ]
  },
  {
   "cell_type": "code",
   "execution_count": 21,
   "metadata": {},
   "outputs": [
    {
     "name": "stdout",
     "output_type": "stream",
     "text": [
      "Gamma_heads_monolayer_d_acmw: <Parameter:     None      , value=3.30926  (fixed) , bounds=None>\n",
      "Gamma_tails_monolayer_d_acmw: <Parameter:     None      , value=3.30926  (fixed) , bounds=None>\n",
      "\n",
      "Gamma_heads_monolayer_d_d2o: <Parameter:     None      , value=3.30926  (fixed) , bounds=None>\n",
      "Gamma_tails_monolayer_d_d2o: <Parameter:     None      , value=3.30926  (fixed) , bounds=None>\n",
      "\n",
      "Gamma_heads_monolayer_h_d2o: <Parameter:     None      , value=3.30926  (fixed) , bounds=None>\n",
      "Gamma_tails_monolayer_h_d2o: <Parameter:     None      , value=3.30926  (fixed) , bounds=None>\n",
      "\n",
      "Gamma_heads_reserovir_d_acmw: <Parameter:     None      , value=0.164665  (fixed) , bounds=None>\n",
      "Gamma_tails_reserovir_d_acmw: <Parameter:     None      , value=0.329331  (fixed) , bounds=None>\n",
      "\n",
      "Gamma_heads_reserovir_d_d2o: <Parameter:     None      , value=0.477117  (fixed) , bounds=None>\n",
      "Gamma_tails_reserovir_d_d2o: <Parameter:     None      , value=0.954234  (fixed) , bounds=None>\n",
      "\n",
      "Gamma_heads_reserovir_h_d2o: <Parameter:     None      , value=0.093556  (fixed) , bounds=None>\n",
      "Gamma_tails_reserovir_h_d2o: <Parameter:     None      , value=0.187112  (fixed) , bounds=None>\n",
      "\n",
      "Vm_dtail: <Parameter:     None      , value=793.929  (fixed) , bounds=None>\n",
      "Vm_htail: <Parameter:     None      , value=793.929  (fixed) , bounds=None>\n"
     ]
    }
   ],
   "source": [
    "# Verify that the constraints are correctly applied across all contrasts\n",
    "\n",
    "# (1) Constraint [Gamma_tails_monolayer = Gamma_heads_monolayer]\n",
    "print(f\"Gamma_heads_monolayer_d_acmw: {(head_thick*d_head_acmw_SLD*(1 - p_heads_vf - head_vfsolv))/(d_head_acmw_SL*0.06023)}\")\n",
    "print(f\"Gamma_tails_monolayer_d_acmw: {(tail_thick*dtail_SLD*(1 - p_tails_vf))/(dtail_SL*0.06023)}\")\n",
    "print()\n",
    "print(f\"Gamma_heads_monolayer_d_d2o: {(head_thick*d_head_d2o_SLD*(1 - p_heads_vf - head_vfsolv))/(d_head_d2o_SL*0.06023)}\")\n",
    "print(f\"Gamma_tails_monolayer_d_d2o: {(tail_thick*dtail_SLD*(1 - p_tails_vf))/(dtail_SL*0.06023)}\")\n",
    "print()\n",
    "# print(f\"Gamma_heads_monolayer_h_acmw: {(head_thick*h_head_acmw_SLD*(1 - p_heads_vf - head_vfsolv))/(h_head_acmw_SL*0.06023)}\")\n",
    "# print(f\"Gamma_tails_monolayer_h_acmw: {(tail_thick*htail_SLD*(1 - p_tails_vf))/(htail_SL*0.06023)}\")\n",
    "# print()\n",
    "print(f\"Gamma_heads_monolayer_h_d2o: {(head_thick*h_head_d2o_SLD*(1 - p_heads_vf - head_vfsolv))/(h_head_d2o_SL*0.06023)}\")\n",
    "print(f\"Gamma_tails_monolayer_h_d2o: {(tail_thick*htail_SLD*(1 - p_tails_vf))/(htail_SL*0.06023)}\")\n",
    "print()\n",
    "\n",
    "# (2) Constraint [Gamma_tails_reservoirs = 2 * Gamma_heads_reservoirs]\n",
    "print(f\"Gamma_heads_reserovir_d_acmw: {(head_thick*d_head_acmw_SLD*(1-headreservoir_vfsolv_dlip_acmw))/(d_head_acmw_SL*0.06023)}\")\n",
    "print(f\"Gamma_tails_reserovir_d_acmw: {(tailreservoir_thick*dtail_SLD_reservoir*(1-tailreservoir_vfsolv_dlip_acmw))/(dtail_SL*0.06023)}\")\n",
    "print()\n",
    "print(f\"Gamma_heads_reserovir_d_d2o: {(head_thick*d_head_d2o_SLD*(1-headreservoir_vfsolv_dlip_d2o))/(d_head_d2o_SL*0.06023)}\")\n",
    "print(f\"Gamma_tails_reserovir_d_d2o: {(tailreservoir_thick*dtail_SLD_reservoir*(1-tailreservoir_vfsolv_dlip_d2o))/(dtail_SL*0.06023)}\")\n",
    "# print()\n",
    "# print(f\"Gamma_heads_reserovir_h_acmw: {(head_thick*h_head_acmw_SLD*(1-headreservoir_vfsolv))/(h_head_acmw_SL*0.06023)}\")\n",
    "# print(f\"Gamma_tails_reserovir_h_acmw: {(tailreservoir_thick*htail_SLD_reservoir*(1-tailreservoir_vfsolv))/(htail_SL*0.06023)}\")\n",
    "print()\n",
    "print(f\"Gamma_heads_reserovir_h_d2o: {(head_thick*h_head_d2o_SLD*(1-headreservoir_vfsolv_hlip_d2o))/(h_head_d2o_SL*0.06023)}\")\n",
    "print(f\"Gamma_tails_reserovir_h_d2o: {(tailreservoir_thick*htail_SLD_reservoir*(1-tailreservoir_vfsolv_hlip_d2o))/(htail_SL*0.06023)}\")\n",
    "print()\n",
    "# (3) The constraint between dtail_SLD and htail_SLD must be verified by calculating the molecular volume of the tail for both, ensuring that they yield the same value\n",
    "print(f\"Vm_dtail: {(10*dtail_SL/dtail_SLD)}\")\n",
    "print(f\"Vm_htail: {(10*htail_SL/htail_SLD)}\")"
   ]
  },
  {
   "cell_type": "markdown",
   "metadata": {},
   "source": [
    "#### List of parameters of the Global Objective"
   ]
  },
  {
   "cell_type": "code",
   "execution_count": 22,
   "metadata": {},
   "outputs": [
    {
     "name": "stdout",
     "output_type": "stream",
     "text": [
      "________________________________________________________________________________\n",
      "\n",
      "\n",
      "--Global Objective--\n",
      "________________________________________________________________________________\n",
      "Objective - dLip_acmw\n",
      "Dataset = dLip_acmw\n",
      "datapoints = 97\n",
      "chi2 = 239.32828523678174\n",
      "Weighted = True\n",
      "Transform = Transform('YX4')\n",
      "________________________________________________________________________________\n",
      "Parameters: 'model_dLip_acmw'\n",
      "________________________________________________________________________________\n",
      "Parameters: 'instrument parameters'\n",
      "<Parameter:    'scale'    , value=1  (fixed) , bounds=[-inf, inf]>\n",
      "<Parameter:     'bkg'     , value=1e-06  (fixed) , bounds=[-inf, inf]>\n",
      "<Parameter:'dq - resolution', value=7  (fixed) , bounds=[-inf, inf]>\n",
      "<Parameter:  'q_offset'   , value=0  (fixed) , bounds=[-inf, inf]>\n",
      "________________________________________________________________________________\n",
      "Parameters: 'Structure - ' \n",
      "________________________________________________________________________________\n",
      "Parameters:      'air'     \n",
      "<Parameter: 'air - thick' , value=0  (fixed) , bounds=[-inf, inf]>\n",
      "________________________________________________________________________________\n",
      "Parameters:      'air'     \n",
      "<Parameter:  'air - sld'  , value=0  (fixed) , bounds=[-inf, inf]>\n",
      "<Parameter: 'air - isld'  , value=0  (fixed) , bounds=[-inf, inf]>\n",
      "<Parameter: 'air - rough' , value=0  (fixed) , bounds=[-inf, inf]>\n",
      "<Parameter:'air - volfrac solvent', value=0  (fixed) , bounds=[0.0, 1.0]>\n",
      "________________________________________________________________________________\n",
      "Parameters:     'dtail'    \n",
      "<Parameter: 'tail_thick'  , value=15.976 +/- 0.0447, bounds=[10.0, 30.0]>\n",
      "________________________________________________________________________________\n",
      "Parameters:       ''       \n",
      "<Parameter:  'dtail_SLD'  , value=5.3967 +/- 0.0136, bounds=[4.917084590931521, 7.375626886397282]>\n",
      "<Parameter:   ' - isld'   , value=0  (fixed) , bounds=[-inf, inf]>\n",
      "<Parameter:'rough_monolayer', value=4.5  (fixed) , bounds=[4.0, 8.0]>\n",
      "<Parameter: 'tail_vfsolv' , value=0  (fixed) , bounds=[-inf, inf]>\n",
      "________________________________________________________________________________\n",
      "Parameters:     'head'     \n",
      "<Parameter: 'head_thick'  , value=11.5567 +/- 0.145, bounds=[8.0, 15.0]>\n",
      "________________________________________________________________________________\n",
      "Parameters:       ''       \n",
      "<Parameter:'d_head_acmw_SLD', value=2.39636  (fixed) , bounds=[-inf, inf]>\n",
      "<Parameter:   ' - isld'   , value=0  (fixed) , bounds=[-inf, inf]>\n",
      "<Parameter:'rough_monolayer', value=4.5  (fixed) , bounds=[4.0, 8.0]>\n",
      "<Parameter: 'head_vfsolv' , value=0.419704 +/- 0.00699, bounds=[0.0, 0.7], constraint=<Parameter:     None      , value=0.419704  (fixed) , bounds=None>>\n",
      "________________________________________________________________________________\n",
      "Parameters:  'gap_d_acmw'  \n",
      "<Parameter:  'gap_thick'  , value=23.8186 +/- 0.43 , bounds=[10.0, 50.0]>\n",
      "________________________________________________________________________________\n",
      "Parameters:       ''       \n",
      "<Parameter:   ' - sld'    , value=1.598  (fixed) , bounds=[-inf, inf]>\n",
      "<Parameter:   ' - isld'   , value=0  (fixed) , bounds=[-inf, inf]>\n",
      "<Parameter:'rough_reservoir', value=4.5  (fixed) , bounds=[4.0, 8.0]>\n",
      "<Parameter:'gap_vfsolv_dlip_acmw', value=0.999075 +/- 0.00108, bounds=[0.0, 1.0]>\n",
      "________________________________________________________________________________\n",
      "Parameters: 'headreservoir'\n",
      "<Parameter: 'head_thick'  , value=11.5567 +/- 0.145, bounds=[8.0, 15.0]>\n",
      "________________________________________________________________________________\n",
      "Parameters:       ''       \n",
      "<Parameter:'d_head_acmw_SLD', value=2.39636  (fixed) , bounds=[-inf, inf]>\n",
      "<Parameter:   ' - isld'   , value=0  (fixed) , bounds=[-inf, inf]>\n",
      "<Parameter:'rough_reservoir', value=4.5  (fixed) , bounds=[4.0, 8.0]>\n",
      "<Parameter:'headreservoir_vfsolv', value=0.971598 +/- 0.000579, bounds=[0.5, 0.99]>\n",
      "________________________________________________________________________________\n",
      "Parameters: 'tailreservoir'\n",
      "<Parameter:'tailreservoir_thick', value=23.3689 +/- 0.684, bounds=[20.0, 40.0]>\n",
      "________________________________________________________________________________\n",
      "Parameters:       ''       \n",
      "<Parameter:'dtail_SLD_reservoir', value=4.91708  (fixed) , bounds=[-inf, inf]>\n",
      "<Parameter:   ' - isld'   , value=0  (fixed) , bounds=[-inf, inf]>\n",
      "<Parameter:'rough_reservoir', value=4.5  (fixed) , bounds=[4.0, 8.0]>\n",
      "<Parameter:'tailreservoir_vfsolv_dlip_acmw', value=0.926038 +/- 0.00195, bounds=[0.2, 0.99], constraint=<Parameter:     None      , value=0.926038  (fixed) , bounds=None>>\n",
      "________________________________________________________________________________\n",
      "Parameters: 'headreservoir'\n",
      "<Parameter: 'head_thick'  , value=11.5567 +/- 0.145, bounds=[8.0, 15.0]>\n",
      "________________________________________________________________________________\n",
      "Parameters:       ''       \n",
      "<Parameter:'d_head_acmw_SLD', value=2.39636  (fixed) , bounds=[-inf, inf]>\n",
      "<Parameter:   ' - isld'   , value=0  (fixed) , bounds=[-inf, inf]>\n",
      "<Parameter:'rough_reservoir', value=4.5  (fixed) , bounds=[4.0, 8.0]>\n",
      "<Parameter:'headreservoir_vfsolv', value=0.971598 +/- 0.000579, bounds=[0.5, 0.99]>\n",
      "________________________________________________________________________________\n",
      "Parameters:     'acmw'     \n",
      "<Parameter:'acmw - thick' , value=0  (fixed) , bounds=[-inf, inf]>\n",
      "________________________________________________________________________________\n",
      "Parameters:     'acmw'     \n",
      "<Parameter: 'acmw - sld'  , value=0  (fixed) , bounds=[-inf, inf]>\n",
      "<Parameter: 'acmw - isld' , value=0  (fixed) , bounds=[-inf, inf]>\n",
      "<Parameter:'rough_reservoir', value=4.5  (fixed) , bounds=[4.0, 8.0]>\n",
      "<Parameter:'acmw - volfrac solvent', value=0  (fixed) , bounds=[0.0, 1.0]>\n",
      "\n",
      "\n",
      "________________________________________________________________________________\n",
      "Objective - dLip_d2o\n",
      "Dataset = dLip_d2o\n",
      "datapoints = 104\n",
      "chi2 = 403.3070776960574\n",
      "Weighted = True\n",
      "Transform = Transform('YX4')\n",
      "________________________________________________________________________________\n",
      "Parameters: 'model_dLip_d2o'\n",
      "________________________________________________________________________________\n",
      "Parameters: 'instrument parameters'\n",
      "<Parameter:    'scale'    , value=0.986  (fixed) , bounds=[-inf, inf]>\n",
      "<Parameter:     'bkg'     , value=1e-06  (fixed) , bounds=[-inf, inf]>\n",
      "<Parameter:'dq - resolution', value=7  (fixed) , bounds=[-inf, inf]>\n",
      "<Parameter:  'q_offset'   , value=0  (fixed) , bounds=[-inf, inf]>\n",
      "________________________________________________________________________________\n",
      "Parameters: 'Structure - ' \n",
      "________________________________________________________________________________\n",
      "Parameters:      'air'     \n",
      "<Parameter: 'air - thick' , value=0  (fixed) , bounds=[-inf, inf]>\n",
      "________________________________________________________________________________\n",
      "Parameters:      'air'     \n",
      "<Parameter:  'air - sld'  , value=0  (fixed) , bounds=[-inf, inf]>\n",
      "<Parameter: 'air - isld'  , value=0  (fixed) , bounds=[-inf, inf]>\n",
      "<Parameter: 'air - rough' , value=0  (fixed) , bounds=[-inf, inf]>\n",
      "<Parameter:'air - volfrac solvent', value=0  (fixed) , bounds=[0.0, 1.0]>\n",
      "________________________________________________________________________________\n",
      "Parameters:     'dtail'    \n",
      "<Parameter: 'tail_thick'  , value=15.976 +/- 0.0447, bounds=[10.0, 30.0]>\n",
      "________________________________________________________________________________\n",
      "Parameters:       ''       \n",
      "<Parameter:  'dtail_SLD'  , value=5.3967 +/- 0.0136, bounds=[4.917084590931521, 7.375626886397282]>\n",
      "<Parameter:   ' - isld'   , value=0  (fixed) , bounds=[-inf, inf]>\n",
      "<Parameter:'rough_monolayer', value=4.5  (fixed) , bounds=[4.0, 8.0]>\n",
      "<Parameter: 'tail_vfsolv' , value=0  (fixed) , bounds=[-inf, inf]>\n",
      "________________________________________________________________________________\n",
      "Parameters:     'head'     \n",
      "<Parameter: 'head_thick'  , value=11.5567 +/- 0.145, bounds=[8.0, 15.0]>\n",
      "________________________________________________________________________________\n",
      "Parameters:       ''       \n",
      "<Parameter:'d_head_d2o_SLD', value=2.73266  (fixed) , bounds=[-inf, inf]>\n",
      "<Parameter:   ' - isld'   , value=0  (fixed) , bounds=[-inf, inf]>\n",
      "<Parameter:'rough_monolayer', value=4.5  (fixed) , bounds=[4.0, 8.0]>\n",
      "<Parameter: 'head_vfsolv' , value=0.419704 +/- 0.00699, bounds=[0.0, 0.7], constraint=<Parameter:     None      , value=0.419704  (fixed) , bounds=None>>\n",
      "________________________________________________________________________________\n",
      "Parameters:   'gap_d_d2o'  \n",
      "<Parameter:  'gap_thick'  , value=23.8186 +/- 0.43 , bounds=[10.0, 50.0]>\n",
      "________________________________________________________________________________\n",
      "Parameters:       ''       \n",
      "<Parameter:   ' - sld'    , value=2.591  (fixed) , bounds=[-inf, inf]>\n",
      "<Parameter:   ' - isld'   , value=0  (fixed) , bounds=[-inf, inf]>\n",
      "<Parameter:'rough_reservoir', value=4.5  (fixed) , bounds=[4.0, 8.0]>\n",
      "<Parameter:'gap_vfsolv_dlip_d2o', value=0.996231 +/- 0.00229, bounds=[0.0, 1.0]>\n",
      "________________________________________________________________________________\n",
      "Parameters: 'headreservoir'\n",
      "<Parameter: 'head_thick'  , value=11.5567 +/- 0.145, bounds=[8.0, 15.0]>\n",
      "________________________________________________________________________________\n",
      "Parameters:       ''       \n",
      "<Parameter:'d_head_d2o_SLD', value=2.73266  (fixed) , bounds=[-inf, inf]>\n",
      "<Parameter:   ' - isld'   , value=0  (fixed) , bounds=[-inf, inf]>\n",
      "<Parameter:'rough_reservoir', value=4.5  (fixed) , bounds=[4.0, 8.0]>\n",
      "<Parameter:'headreservoir_vfsolv_dlip_d2o', value=0.917704 +/- 0.00221, bounds=[0.5, 0.99]>\n",
      "________________________________________________________________________________\n",
      "Parameters: 'tailreservoir'\n",
      "<Parameter:'tailreservoir_thick', value=23.3689 +/- 0.684, bounds=[20.0, 40.0]>\n",
      "________________________________________________________________________________\n",
      "Parameters:       ''       \n",
      "<Parameter:'dtail_SLD_reservoir', value=4.91708  (fixed) , bounds=[-inf, inf]>\n",
      "<Parameter:   ' - isld'   , value=0  (fixed) , bounds=[-inf, inf]>\n",
      "<Parameter:'rough_reservoir', value=4.5  (fixed) , bounds=[4.0, 8.0]>\n",
      "<Parameter:'tailreservoir_vfsolv_dlip_d2o', value=0.785695 +/- 0.00567, bounds=[0.2, 0.99], constraint=<Parameter:     None      , value=0.785695  (fixed) , bounds=None>>\n",
      "________________________________________________________________________________\n",
      "Parameters: 'headreservoir'\n",
      "<Parameter: 'head_thick'  , value=11.5567 +/- 0.145, bounds=[8.0, 15.0]>\n",
      "________________________________________________________________________________\n",
      "Parameters:       ''       \n",
      "<Parameter:'d_head_d2o_SLD', value=2.73266  (fixed) , bounds=[-inf, inf]>\n",
      "<Parameter:   ' - isld'   , value=0  (fixed) , bounds=[-inf, inf]>\n",
      "<Parameter:'rough_reservoir', value=4.5  (fixed) , bounds=[4.0, 8.0]>\n",
      "<Parameter:'headreservoir_vfsolv_dlip_d2o', value=0.917704 +/- 0.00221, bounds=[0.5, 0.99]>\n",
      "________________________________________________________________________________\n",
      "Parameters:   'd2o_dlip'   \n",
      "<Parameter:'d2o_dlip - thick', value=0  (fixed) , bounds=[-inf, inf]>\n",
      "________________________________________________________________________________\n",
      "Parameters:   'd2o_dlip'   \n",
      "<Parameter:'d2o_dlip - sld', value=6.15  (fixed) , bounds=[-inf, inf]>\n",
      "<Parameter:'d2o_dlip - isld', value=0  (fixed) , bounds=[-inf, inf]>\n",
      "<Parameter:'rough_reservoir', value=4.5  (fixed) , bounds=[4.0, 8.0]>\n",
      "<Parameter:'d2o_dlip - volfrac solvent', value=0  (fixed) , bounds=[0.0, 1.0]>\n",
      "\n",
      "\n",
      "________________________________________________________________________________\n",
      "Objective - hLip_d2o\n",
      "Dataset = hLip_d2o\n",
      "datapoints = 103\n",
      "chi2 = 612.4660750860457\n",
      "Weighted = True\n",
      "Transform = Transform('YX4')\n",
      "________________________________________________________________________________\n",
      "Parameters: 'model_hLip_d2o'\n",
      "________________________________________________________________________________\n",
      "Parameters: 'instrument parameters'\n",
      "<Parameter:    'scale'    , value=0.964  (fixed) , bounds=[-inf, inf]>\n",
      "<Parameter:     'bkg'     , value=1e-07  (fixed) , bounds=[-inf, inf]>\n",
      "<Parameter:'dq - resolution', value=7  (fixed) , bounds=[-inf, inf]>\n",
      "<Parameter:  'q_offset'   , value=0  (fixed) , bounds=[-inf, inf]>\n",
      "________________________________________________________________________________\n",
      "Parameters: 'Structure - ' \n",
      "________________________________________________________________________________\n",
      "Parameters:      'air'     \n",
      "<Parameter: 'air - thick' , value=0  (fixed) , bounds=[-inf, inf]>\n",
      "________________________________________________________________________________\n",
      "Parameters:      'air'     \n",
      "<Parameter:  'air - sld'  , value=0  (fixed) , bounds=[-inf, inf]>\n",
      "<Parameter: 'air - isld'  , value=0  (fixed) , bounds=[-inf, inf]>\n",
      "<Parameter: 'air - rough' , value=0  (fixed) , bounds=[-inf, inf]>\n",
      "<Parameter:'air - volfrac solvent', value=0  (fixed) , bounds=[0.0, 1.0]>\n",
      "________________________________________________________________________________\n",
      "Parameters:     'tail'     \n",
      "<Parameter: 'tail_thick'  , value=15.976 +/- 0.0447, bounds=[10.0, 30.0]>\n",
      "________________________________________________________________________________\n",
      "Parameters:       ''       \n",
      "<Parameter:  'htail_SLD'  , value=-0.1713 +/- 0.000431, bounds=[-0.2341140961933507, -0.15607606412890046], constraint=<Parameter:     None      , value=-0.1713  (fixed) , bounds=None>>\n",
      "<Parameter:   ' - isld'   , value=0  (fixed) , bounds=[-inf, inf]>\n",
      "<Parameter:'rough_monolayer', value=4.5  (fixed) , bounds=[4.0, 8.0]>\n",
      "<Parameter: 'tail_vfsolv' , value=0  (fixed) , bounds=[-inf, inf]>\n",
      "________________________________________________________________________________\n",
      "Parameters:     'head'     \n",
      "<Parameter: 'head_thick'  , value=11.5567 +/- 0.145, bounds=[8.0, 15.0]>\n",
      "________________________________________________________________________________\n",
      "Parameters:       ''       \n",
      "<Parameter:'h_head_d2o_SLD', value=2.68643  (fixed) , bounds=[-inf, inf]>\n",
      "<Parameter:   ' - isld'   , value=0  (fixed) , bounds=[-inf, inf]>\n",
      "<Parameter:'rough_monolayer', value=4.5  (fixed) , bounds=[4.0, 8.0]>\n",
      "<Parameter: 'head_vfsolv' , value=0.419704 +/- 0.00699, bounds=[0.0, 0.7], constraint=<Parameter:     None      , value=0.419704  (fixed) , bounds=None>>\n",
      "________________________________________________________________________________\n",
      "Parameters:   'gap_h_d2o'  \n",
      "<Parameter:  'gap_thick'  , value=23.8186 +/- 0.43 , bounds=[10.0, 50.0]>\n",
      "________________________________________________________________________________\n",
      "Parameters:       ''       \n",
      "<Parameter:   ' - sld'    , value=2.591  (fixed) , bounds=[-inf, inf]>\n",
      "<Parameter:   ' - isld'   , value=0  (fixed) , bounds=[-inf, inf]>\n",
      "<Parameter:'rough_reservoir', value=4.5  (fixed) , bounds=[4.0, 8.0]>\n",
      "<Parameter:'gap_vfsolv_hlip_d2o', value=0.991072 +/- 0.00219, bounds=[0.0, 1.0]>\n",
      "________________________________________________________________________________\n",
      "Parameters: 'headreservoir'\n",
      "<Parameter: 'head_thick'  , value=11.5567 +/- 0.145, bounds=[8.0, 15.0]>\n",
      "________________________________________________________________________________\n",
      "Parameters:       ''       \n",
      "<Parameter:'h_head_d2o_SLD', value=2.68643  (fixed) , bounds=[-inf, inf]>\n",
      "<Parameter:   ' - isld'   , value=0  (fixed) , bounds=[-inf, inf]>\n",
      "<Parameter:'rough_reservoir', value=4.5  (fixed) , bounds=[4.0, 8.0]>\n",
      "<Parameter:'headreservoir_vfsolv_dlip_d2o', value=0.983863 +/- 0.000471, bounds=[0.5, 0.99]>\n",
      "________________________________________________________________________________\n",
      "Parameters: 'tailreservoir'\n",
      "<Parameter:'tailreservoir_thick', value=23.3689 +/- 0.684, bounds=[20.0, 40.0]>\n",
      "________________________________________________________________________________\n",
      "Parameters:       ''       \n",
      "<Parameter:'htail_SLD_reservoir', value=-0.156076  (fixed) , bounds=[-inf, inf]>\n",
      "<Parameter:   ' - isld'   , value=0  (fixed) , bounds=[-inf, inf]>\n",
      "<Parameter:'rough_reservoir', value=4.5  (fixed) , bounds=[4.0, 8.0]>\n",
      "<Parameter:'tailreservoir_vfsolv_dlip_d2o', value=0.957978 +/- 0.00135, bounds=[0.2, 0.99], constraint=<Parameter:     None      , value=0.957978  (fixed) , bounds=None>>\n",
      "________________________________________________________________________________\n",
      "Parameters: 'headreservoir'\n",
      "<Parameter: 'head_thick'  , value=11.5567 +/- 0.145, bounds=[8.0, 15.0]>\n",
      "________________________________________________________________________________\n",
      "Parameters:       ''       \n",
      "<Parameter:'h_head_d2o_SLD', value=2.68643  (fixed) , bounds=[-inf, inf]>\n",
      "<Parameter:   ' - isld'   , value=0  (fixed) , bounds=[-inf, inf]>\n",
      "<Parameter:'rough_reservoir', value=4.5  (fixed) , bounds=[4.0, 8.0]>\n",
      "<Parameter:'headreservoir_vfsolv_dlip_d2o', value=0.983863 +/- 0.000471, bounds=[0.5, 0.99]>\n",
      "________________________________________________________________________________\n",
      "Parameters:   'd2o_hlip'   \n",
      "<Parameter:'d2o_hlip - thick', value=0  (fixed) , bounds=[-inf, inf]>\n",
      "________________________________________________________________________________\n",
      "Parameters:   'd2o_hlip'   \n",
      "<Parameter:'d2o_hlip - sld', value=6.15  (fixed) , bounds=[-inf, inf]>\n",
      "<Parameter:'d2o_hlip - isld', value=0  (fixed) , bounds=[-inf, inf]>\n",
      "<Parameter:'rough_reservoir', value=4.5  (fixed) , bounds=[4.0, 8.0]>\n",
      "<Parameter:'d2o_hlip - volfrac solvent', value=0  (fixed) , bounds=[0.0, 1.0]>\n",
      "\n",
      "\n"
     ]
    }
   ],
   "source": [
    "print(global_objective)"
   ]
  }
 ],
 "metadata": {
  "kernelspec": {
   "display_name": "Python 3",
   "language": "python",
   "name": "python3"
  },
  "language_info": {
   "codemirror_mode": {
    "name": "ipython",
    "version": 3
   },
   "file_extension": ".py",
   "mimetype": "text/x-python",
   "name": "python",
   "nbconvert_exporter": "python",
   "pygments_lexer": "ipython3",
   "version": "3.12.4"
  }
 },
 "nbformat": 4,
 "nbformat_minor": 2
}
