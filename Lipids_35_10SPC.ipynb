{
 "cells": [
  {
   "cell_type": "markdown",
   "metadata": {},
   "source": [
    "# Neutron reflectometry analysis of lipid monolayers"
   ]
  },
  {
   "cell_type": "markdown",
   "metadata": {},
   "source": [
    "This notebook allows the co-refinement of different contrasts of lipid monolayers:\n",
    "\n",
    " - A model of 3 layers is used: tails | heads | protein\n",
    " - The possibility to include a guest molecule in heads and/or tails, a protein in this case, is implemented \n",
    " - Constraint to make sure the the surface excess of heads and tails is the same in the monolayer is applied\n",
    " - The tails SLD is fitted in order to consider tail compaction and/or loss of molecules into the bulk"
   ]
  },
  {
   "cell_type": "code",
   "execution_count": 23,
   "metadata": {},
   "outputs": [
    {
     "data": {
      "text/plain": [
       "('0.1.52', '1.14.1')"
      ]
     },
     "execution_count": 23,
     "metadata": {},
     "output_type": "execute_result"
    }
   ],
   "source": [
    "%matplotlib inline\n",
    "import matplotlib.pyplot as plt\n",
    "import numpy as np\n",
    "import os.path\n",
    "import glob\n",
    "\n",
    "\n",
    "import refnx, scipy\n",
    "\n",
    "# the analysis module contains the curvefitting engine\n",
    "from refnx.analysis import CurveFitter, Objective, Parameter, GlobalObjective, process_chain, Interval, Transform\n",
    "\n",
    "# the reflect module contains functionality relevant to reflectometry\n",
    "from refnx.reflect import SLD, ReflectModel, Structure, LipidLeaflet, Slab, create_occupancy\n",
    "\n",
    "# the ReflectDataset object will contain the data\n",
    "from refnx.dataset import ReflectDataset\n",
    "\n",
    "# version numbers used in this analysis\n",
    "refnx.version.version, scipy.version.version"
   ]
  },
  {
   "cell_type": "markdown",
   "metadata": {},
   "source": [
    "#### Loading the data"
   ]
  },
  {
   "cell_type": "code",
   "execution_count": 24,
   "metadata": {},
   "outputs": [],
   "source": [
    "pth = os.getcwd()\n",
    "\n",
    "data_dLip_acmw = ReflectDataset(os.path.join(pth, 'dLips_10SPC_ACMW_35.mft'))\n",
    "data_dLip_acmw.name = \"dLip_acmw\"\n",
    "\n",
    "data_dLip_d2o = ReflectDataset(os.path.join(pth, 'dLips_10SPC_D2O_35_checkpi.mft'))\n",
    "data_dLip_d2o.name = \"dLip_d2o\"\n",
    "\n",
    "# data_hLip_acmw = ReflectDataset(os.path.join(pth, 'hLips_10SPC_ACMW_35.mft'))\n",
    "# data_hLip_acmw.name = \"hLip_acmw\"\n",
    "\n",
    "data_hLip_d2o = ReflectDataset(os.path.join(pth, 'hLips_10SPC_D2O_35.mft'))\n",
    "data_hLip_d2o.name = \"hLip_d2o\"\n"
   ]
  },
  {
   "cell_type": "markdown",
   "metadata": {},
   "source": [
    "### Define all the necessary parameters to create the `structure` for each contrast:\n",
    "Scattering lengths, molecular volume, SLD, roughness, thickness, volume fraction of solvent"
   ]
  },
  {
   "cell_type": "code",
   "execution_count": 25,
   "metadata": {},
   "outputs": [],
   "source": [
    "air = SLD(0 + 0j, 'air')\n",
    "\n",
    "# the following represent the solvent contrasts used in the experiment\n",
    "d2o_hlip = SLD(6.15 + 0j, 'd2o_hlip')\n",
    "d2o_dlip = SLD(6.15 + 0j, 'd2o_dlip')\n",
    "acmw = SLD(0 + 0j, 'acmw')\n",
    "\n",
    "#Define molecular volumes\n",
    "vm_tail = Parameter(860.85, name=\"vm_tail\")\n",
    "vm_head = 327.1\n",
    "vm_p = 500.53\n",
    "vm_lip = vm_tail + vm_head\n",
    "\n",
    "\n",
    "# Define scattering length (SL) of tails, heads, lipid molecule and protein\n",
    "dtail_SL = 420.04\n",
    "htail_SL = -16\n",
    "d_head_d2o_SL = 95.74\n",
    "d_head_acmw_SL = 85.78\n",
    "h_head_d2o_SL = 84.16\n",
    "h_head_acmw_SL = 74.69\n",
    "\n",
    "\n",
    "d_lip_d2o_SL = dtail_SL + d_head_d2o_SL\n",
    "d_lip_acmw_SL = dtail_SL + d_head_acmw_SL\n",
    "h_lip_d2o_SL = htail_SL + h_head_d2o_SL\n",
    "h_lip_acmw_SL = htail_SL + h_head_acmw_SL\n",
    "\n",
    "spc_acmw_SLD = 1.28\n",
    "spc_d2o_SLD = 2.14\n",
    "\n",
    "#Define scattering length density (SLD)\n",
    "d_lip_d2o_SLD = 10*d_lip_d2o_SL/vm_lip\n",
    "d_lip_acmw_SLD = 10*d_lip_acmw_SL/vm_lip\n",
    "h_lip_d2o_SLD = 10*h_lip_d2o_SL/vm_lip\n",
    "h_lip_acmw_SLD = 10*h_lip_acmw_SL/vm_lip\n",
    "\n",
    "\n",
    "\n",
    "rough = Parameter(value=3.9, name='rough', vary=False, bounds=Interval(lb=3.9, ub=6))\n",
    "\n",
    "# Monolayer / tails layer\n",
    "tail_thick = Parameter(value=13, name='tail_thick', vary=True, bounds=Interval(lb=10, ub=20))\n",
    "htail_SLD = Parameter(value=10*htail_SL/vm_tail, name='htail_SLD', vary=True, bounds=Interval(lb=10*htail_SL/vm_tail, ub=1.5*10*htail_SL/vm_tail))\n",
    "dtail_SLD = Parameter(value=10*dtail_SL/vm_tail, name='dtail_SLD', vary=True, bounds=Interval(lb=10*dtail_SL/vm_tail, ub=1.5*10*dtail_SL/vm_tail))\n",
    "tail_vfsolv = Parameter(value=0.0, name='tail_vfsolv')\n",
    "\n",
    "# Monolayer / headgroups layer\n",
    "head_thick = Parameter(value=9, name='head_thick', vary=True, bounds=Interval(lb=5, ub=12))\n",
    "d_head_d2o_SLD = Parameter(value=10*d_head_d2o_SL/vm_head, name='d_head_d2o_SLD')\n",
    "d_head_acmw_SLD = Parameter(value=10*d_head_acmw_SL/vm_head, name='d_head_acmw_SLD')\n",
    "h_head_d2o_SLD = Parameter(value=10*h_head_d2o_SL/vm_head, name='h_head_d2o_SLD')\n",
    "# h_head_acmw_SLD = Parameter(value=10*h_head_acmw_SL/vm_head, name='h_head_acmw_SLD')\n",
    "head_vfsolv = Parameter(value=0.35, name='head_vfsolv', vary=True, bounds=Interval(lb=0, ub=0.7))\n",
    "\n",
    "# Monolayer / protein layer\n",
    "spc_thick = Parameter(value=9, name='spc_thick', vary=True, bounds=Interval(lb=1, ub=10))\n",
    "spc_vfsolv = Parameter(value=0.8, name='spc_vfsolv', vary=True, bounds=Interval(lb=0.1, ub=0.9))\n",
    "\n",
    "# Based on the previously defined parameters, the slabs for the different contrasts are constructed\n",
    "htail = Slab(tail_thick, htail_SLD, rough, 'tail', tail_vfsolv)\n",
    "dtail = Slab(tail_thick, dtail_SLD, rough, 'dtail', tail_vfsolv)\n",
    "d_head_d2o = Slab(head_thick, d_head_d2o_SLD, rough, 'head', head_vfsolv)\n",
    "d_head_acmw = Slab(head_thick, d_head_acmw_SLD, rough, 'head', head_vfsolv)\n",
    "h_head_d2o = Slab(head_thick, h_head_d2o_SLD, rough, 'head', head_vfsolv)\n",
    "# h_head_acmw = Slab(head_thick, h_head_acmw_SLD, rough, 'head', head_vfsolv)\n",
    "spc_acmw = Slab(spc_thick, spc_acmw_SLD, rough, 'spc_acmw', spc_vfsolv)\n",
    "spc_d2o = Slab(spc_thick, spc_d2o_SLD, rough, 'spc_d2o', spc_vfsolv)\n",
    "\n",
    "# backing_roughness = Parameter(4.5, 'backing_rough')\n",
    "\n",
    "# The following parameters define the volume fraction of the protein in heads (p_heads_vf) and tails (p_tails_vf)\n",
    "p_heads_vf = Parameter(value=0.0231, name='p_head_vfsolv', vary=False, bounds=Interval(lb=0.0, ub=1.0))\n",
    "p_tails_vf = Parameter(value=0.0231, name='p_tails_vfsolv', vary=False, bounds=Interval(lb=0.0, ub=1.0))\n",
    "\n",
    "# The surface excess and area per molecule of heads and tails in the monolayer and reservoirs is calculated\n",
    "Gamma_tails_monolayer = (tail_thick*dtail_SLD*(1 - p_tails_vf))/(dtail_SL*0.06023)\n",
    "Gamma_heads_monolayer = (head_thick*d_head_acmw_SLD*(1 - p_heads_vf - head_vfsolv))/(d_head_acmw_SL*0.06023)\n",
    "A_permolecule_tails_monolayer = 10**20/(Gamma_tails_monolayer*10**-6*6.022*10**23)\n",
    "A_permolecule_heads_monolayer =10**20/(Gamma_heads_monolayer*10**-6*6.022*10**23)"
   ]
  },
  {
   "cell_type": "markdown",
   "metadata": {},
   "source": [
    "#### Define the constraints to be applied in the fit"
   ]
  },
  {
   "cell_type": "code",
   "execution_count": 26,
   "metadata": {},
   "outputs": [],
   "source": [
    "# (1) The first constraint is ensuring that the surface excess of tails and heads in the monolayer is the same. The calculation is taking the account the\n",
    "# amount of protein in heads and/or tails that must be defined previously as p_heads_vf and/or p_tails_vf\n",
    "head_vfsolv.set_constraint(1 - p_heads_vf - ((tail_thick * ((d_head_acmw_SL * 0.06023 * dtail_SLD * (1 - p_tails_vf))))/(d_head_acmw_SLD * head_thick * 0.06023 * dtail_SL)))\n",
    "\n",
    "def calculate_heads_vf():\n",
    "    return 1 - head_vfsolv.value - p_heads_vf.value\n",
    "\n",
    "heads_vf = Parameter(name='heads_vf')\n",
    "heads_vf.set_constraint(calculate_heads_vf)\n",
    "\n",
    "# (2) A second constraint need to fit the SLD of the deuterated tails and hydrogenous tails to variate in teh same way.\n",
    "htail_SLD.set_constraint(\n",
    "    10*htail_SL/(10*dtail_SL/dtail_SLD))"
   ]
  },
  {
   "cell_type": "markdown",
   "metadata": {},
   "source": [
    "#### Define the `structure` of the different contrasts"
   ]
  },
  {
   "cell_type": "code",
   "execution_count": 27,
   "metadata": {},
   "outputs": [],
   "source": [
    "dLip_acmw = air | dtail | d_head_acmw | spc_acmw | acmw(0, rough)\n",
    "dLip_d2o = air | dtail | d_head_d2o | spc_d2o | d2o_dlip(0, rough)\n",
    "# hLip_acmw = air | htail | h_head_acmw | spc_acmw | acmw(0, rough)\n",
    "hLip_d2o = air | htail | h_head_d2o | spc_d2o | d2o_hlip(0, rough)"
   ]
  },
  {
   "cell_type": "markdown",
   "metadata": {},
   "source": [
    "#### Create a `model` for each dataset based on the `structure` previously defined"
   ]
  },
  {
   "cell_type": "code",
   "execution_count": 28,
   "metadata": {},
   "outputs": [],
   "source": [
    "scale = 1.0\n",
    "bkg = 1e-6\n",
    "name = 'model'\n",
    "dq = 7\n",
    "\n",
    "model_dLip_acmw = ReflectModel(dLip_acmw, scale, bkg, 'model_dLip_acmw', dq)\n",
    "model_dLip_d2o = ReflectModel(dLip_d2o, 0.9859, 1e-07, 'model_dLip_d2o', dq)\n",
    "# model_hLip_acmw = ReflectModel(hLip_acmw, scale, bkg, 'model_hLip_acmw', dq)\n",
    "model_hLip_d2o = ReflectModel(hLip_d2o, 0.9585, 1e-06, 'model_hLip_d2o', dq)"
   ]
  },
  {
   "cell_type": "markdown",
   "metadata": {},
   "source": [
    "#### Combine model and data into a `objective` for each contrast"
   ]
  },
  {
   "cell_type": "code",
   "execution_count": 29,
   "metadata": {},
   "outputs": [],
   "source": [
    "YX4 = Transform('YX4')\n",
    "\n",
    "objective_dLip_acmw = Objective(model_dLip_acmw, data_dLip_acmw, transform=YX4, name='dLip_acmw')\n",
    "objective_dLip_d2o = Objective(model_dLip_d2o, data_dLip_d2o, transform=YX4, name='dLip_d2o')\n",
    "# objective_hLip_acmw = Objective(model_hLip_acmw, data_hLip_acmw, transform=YX4, name='hLip_acmw')\n",
    "objective_hLip_d2o = Objective(model_hLip_d2o, data_hLip_d2o, transform=YX4, name='hLip_d2o')"
   ]
  },
  {
   "cell_type": "markdown",
   "metadata": {},
   "source": [
    "#### Combine multiple objectives into a `global objective` to corefine different contrasts"
   ]
  },
  {
   "cell_type": "code",
   "execution_count": 30,
   "metadata": {},
   "outputs": [],
   "source": [
    "objective_dLip_acmw.weighted = objective_dLip_d2o.weighted = objective_hLip_d2o.weighted = True \n",
    "global_objective = GlobalObjective([objective_dLip_acmw, objective_dLip_d2o, objective_hLip_d2o])"
   ]
  },
  {
   "cell_type": "markdown",
   "metadata": {},
   "source": [
    "#### Create and perform fitting routine"
   ]
  },
  {
   "cell_type": "code",
   "execution_count": 31,
   "metadata": {},
   "outputs": [
    {
     "name": "stderr",
     "output_type": "stream",
     "text": [
      "-5748.47946935101: : 21it [00:10,  1.96it/s]  \n"
     ]
    },
    {
     "data": {
      "text/plain": [
       "             message: Optimization terminated successfully.\n",
       "             success: True\n",
       "                 fun: -5755.563792922321\n",
       "                   x: [ 1.247e+01  4.879e+00  7.170e+00  3.035e+00\n",
       "                        1.000e-01]\n",
       "                 nit: 21\n",
       "                nfev: 1794\n",
       "          population: [[ 1.249e+01  4.886e+00 ...  3.205e+00  1.815e-01]\n",
       "                       [ 1.203e+01  4.942e+00 ...  5.661e+00  3.201e-01]\n",
       "                       ...\n",
       "                       [ 1.230e+01  4.897e+00 ...  3.945e+00  1.588e-01]\n",
       "                       [ 1.240e+01  4.897e+00 ...  3.975e+00  3.009e-01]]\n",
       " population_energies: [-5.756e+03 -5.657e+03 ... -5.728e+03 -5.737e+03]\n",
       "                 jac: [-3.638e-04  2.227e+02 -2.728e-04 -2.547e-03\n",
       "                        1.472e+01]\n",
       "               covar: [[ 4.439e-02 -1.458e-02 ...  4.603e-01  1.433e-01]\n",
       "                       [-1.458e-02  4.859e-03 ... -1.579e-01 -4.889e-02]\n",
       "                       ...\n",
       "                       [ 4.603e-01 -1.579e-01 ...  9.179e+00  2.765e+00]\n",
       "                       [ 1.433e-01 -4.889e-02 ...  2.765e+00  8.342e-01]]\n",
       "              stderr: [ 2.107e-01  6.971e-02  7.956e-01  3.030e+00\n",
       "                        9.134e-01]"
      ]
     },
     "execution_count": 31,
     "metadata": {},
     "output_type": "execute_result"
    }
   ],
   "source": [
    "fitter = CurveFitter(global_objective)\n",
    "fitter.fit(method = 'differential_evolution')"
   ]
  },
  {
   "cell_type": "markdown",
   "metadata": {},
   "source": [
    "#### Print chi2 and a summary of the fitted paremeters"
   ]
  },
  {
   "cell_type": "code",
   "execution_count": 32,
   "metadata": {},
   "outputs": [
    {
     "name": "stdout",
     "output_type": "stream",
     "text": [
      "chi2: 3.0547883325115004\n",
      "________________________________________________________________________________\n",
      "Parameters:      None      \n",
      "<Parameter: 'tail_thick'  , value=12.4726 +/- 0.211, bounds=[10.0, 20.0]>\n",
      "<Parameter:  'dtail_SLD'  , value=4.87936 +/- 0.0697, bounds=[4.8793634198757045, 7.319045129813556]>\n",
      "<Parameter: 'head_thick'  , value=7.17026 +/- 0.796, bounds=[5.0, 12.0]>\n",
      "<Parameter:  'spc_thick'  , value=3.03499 +/- 3.03 , bounds=[1.0, 10.0]>\n",
      "<Parameter: 'spc_vfsolv'  , value=0.1 +/- 0.913, bounds=[0.1, 0.9]>\n"
     ]
    }
   ],
   "source": [
    "print(f\"chi2: {global_objective.chisqr()/(global_objective.npoints - len(global_objective.varying_parameters()))}\")\n",
    "print(global_objective.parameters.varying_parameters())"
   ]
  },
  {
   "cell_type": "markdown",
   "metadata": {},
   "source": [
    "##### Print summary of the most relevant parameters"
   ]
  },
  {
   "cell_type": "code",
   "execution_count": 33,
   "metadata": {},
   "outputs": [
    {
     "name": "stdout",
     "output_type": "stream",
     "text": [
      "chi2: 3.0547883325115004\n",
      "\n",
      "<Parameter: 'tail_thick'  , value=12.4726 +/- 0.211, bounds=[10.0, 20.0]>\n",
      "<Parameter:'p_tails_vfsolv', value=0.0231  (fixed) , bounds=[0.0, 1.0]>\n",
      "<Parameter:  'dtail_SLD'  , value=4.87936 +/- 0.0697, bounds=[4.8793634198757045, 7.319045129813556]>\n",
      "dtail_SLD: 4.8793634198757045\n",
      "htail_SLD: 4.8793634198757045\n",
      "Delta %SLD: 0.19226734857709316\n",
      "\n",
      "<Parameter: 'head_thick'  , value=7.17026 +/- 0.796, bounds=[5.0, 12.0]>\n",
      "<Parameter: 'head_vfsolv' , value=0.33121          , bounds=[0.0, 0.7], constraint=<Parameter:     None      , value=0.33121  (fixed) , bounds=None>>\n",
      "<Parameter:'p_head_vfsolv', value=0.0231  (fixed) , bounds=[0.0, 1.0]>\n",
      "<Parameter:    'rough'    , value=3.9  (fixed) , bounds=[3.9, 6.0]>\n",
      "\n",
      "<Parameter:  'spc_thick'  , value=3.03499 +/- 3.03 , bounds=[1.0, 10.0]>\n",
      "<Parameter: 'spc_vfsolv'  , value=0.1 +/- 0.913, bounds=[0.1, 0.9]>\n",
      "\n",
      "Gamma_tails_monolayer: 2.3499854104910924\n",
      "Gamma_heads_monolayer: 2.349985410491093\n",
      "A_permolecule_tails_monolayer: 70.66332725681056\n",
      "A_permolecule_heads_monolayer: 70.66332725681056\n",
      "\n"
     ]
    }
   ],
   "source": [
    "print(f\"chi2: {global_objective.chisqr()/(global_objective.npoints - len(global_objective.varying_parameters()))}\")\n",
    "print()\n",
    "print(tail_thick)\n",
    "print(p_tails_vf)\n",
    "print(dtail_SLD)\n",
    "print(f\"dtail_SLD: {dtail_SLD.value}\")\n",
    "print(f\"htail_SLD: {dtail_SLD.value}\")\n",
    "print(f\"Delta %SLD: {100*(dtail_SLD.value-4.87)/4.87}\")\n",
    "print()\n",
    "print(head_thick)\n",
    "print(head_vfsolv)\n",
    "print(p_heads_vf)\n",
    "print(rough)\n",
    "print()\n",
    "print(spc_thick)\n",
    "print(spc_vfsolv)\n",
    "print()\n",
    "print(f\"Gamma_tails_monolayer: {Gamma_tails_monolayer.value}\")\n",
    "print(f\"Gamma_heads_monolayer: {Gamma_heads_monolayer.value}\")\n",
    "print(f\"A_permolecule_tails_monolayer: {A_permolecule_tails_monolayer.value}\")\n",
    "print(f\"A_permolecule_heads_monolayer: {A_permolecule_heads_monolayer.value}\")\n",
    "print()"
   ]
  },
  {
   "cell_type": "markdown",
   "metadata": {},
   "source": [
    "#### Vertification of applied constraints"
   ]
  },
  {
   "cell_type": "code",
   "execution_count": 34,
   "metadata": {},
   "outputs": [
    {
     "name": "stdout",
     "output_type": "stream",
     "text": [
      "Gamma_heads_monolayer_d_acmw: <Parameter:     None      , value=2.34999  (fixed) , bounds=None>\n",
      "Gamma_tails_monolayer_d_acmw: <Parameter:     None      , value=2.34999  (fixed) , bounds=None>\n",
      "\n",
      "Gamma_heads_monolayer_d_d2o: <Parameter:     None      , value=2.34999  (fixed) , bounds=None>\n",
      "Gamma_tails_monolayer_d_d2o: <Parameter:     None      , value=2.34999  (fixed) , bounds=None>\n",
      "\n",
      "Gamma_heads_monolayer_h_d2o: <Parameter:     None      , value=2.34999  (fixed) , bounds=None>\n",
      "Gamma_tails_monolayer_h_d2o: <Parameter:     None      , value=2.34999  (fixed) , bounds=None>\n",
      "\n"
     ]
    }
   ],
   "source": [
    "# Verify that the constraints are correctly applied across all contrasts\n",
    "\n",
    "# Constraint [Gamma_tails_monolayer = Gamma_heads_monolayer]\n",
    "print(f\"Gamma_heads_monolayer_d_acmw: {(head_thick*d_head_acmw_SLD*(1 - p_heads_vf - head_vfsolv))/(d_head_acmw_SL*0.06023)}\")\n",
    "print(f\"Gamma_tails_monolayer_d_acmw: {(tail_thick*dtail_SLD*(1 - p_tails_vf))/(dtail_SL*0.06023)}\")\n",
    "print()\n",
    "print(f\"Gamma_heads_monolayer_d_d2o: {(head_thick*d_head_d2o_SLD*(1 - p_heads_vf - head_vfsolv))/(d_head_d2o_SL*0.06023)}\")\n",
    "print(f\"Gamma_tails_monolayer_d_d2o: {(tail_thick*dtail_SLD*(1 - p_tails_vf))/(dtail_SL*0.06023)}\")\n",
    "print()\n",
    "# print(f\"Gamma_heads_monolayer_h_acmw: {(head_thick*h_head_acmw_SLD*(1 - p_heads_vf - head_vfsolv))/(h_head_acmw_SL*0.06023)}\")\n",
    "# print(f\"Gamma_tails_monolayer_h_acmw: {(tail_thick*htail_SLD*(1 - p_tails_vf))/(htail_SL*0.06023)}\")\n",
    "# print()\n",
    "print(f\"Gamma_heads_monolayer_h_d2o: {(head_thick*h_head_d2o_SLD*(1 - p_heads_vf - head_vfsolv))/(h_head_d2o_SL*0.06023)}\")\n",
    "print(f\"Gamma_tails_monolayer_h_d2o: {(tail_thick*htail_SLD*(1 - p_tails_vf))/(htail_SL*0.06023)}\")\n",
    "print()"
   ]
  },
  {
   "cell_type": "markdown",
   "metadata": {},
   "source": [
    "#### Plot the refletivity profiles and the obtained fits"
   ]
  },
  {
   "cell_type": "code",
   "execution_count": 35,
   "metadata": {},
   "outputs": [
    {
     "name": "stderr",
     "output_type": "stream",
     "text": [
      "C:\\Users\\carrascosa-tejedor\\AppData\\Local\\Temp\\ipykernel_24592\\1761923138.py:18: UserWarning: set_ticklabels() should only be used with a fixed number of ticks, i.e. after set_ticks() or using a FixedLocator.\n",
      "  ax.set_xticklabels(ax.get_xticks(), fontsize=12, fontweight='bold')\n",
      "C:\\Users\\carrascosa-tejedor\\AppData\\Local\\Temp\\ipykernel_24592\\1761923138.py:19: UserWarning: set_ticklabels() should only be used with a fixed number of ticks, i.e. after set_ticks() or using a FixedLocator.\n",
      "  ax.set_yticklabels(ax.get_yticks(), fontsize=12, fontweight='bold')\n"
     ]
    },
    {
     "name": "stdout",
     "output_type": "stream",
     "text": [
      "chi2: 3.0547883325115004\n"
     ]
    },
    {
     "data": {
      "image/png": "[encoded data removed]",
      "text/plain": [
       "<Figure size 640x480 with 1 Axes>"
      ]
     },
     "metadata": {},
     "output_type": "display_data"
    }
   ],
   "source": [
    "print(f\"chi2: {global_objective.chisqr()/(global_objective.npoints - len(global_objective.varying_parameters()))}\")\n",
    "import numpy as np\n",
    "import matplotlib.pyplot as plt\n",
    "import matplotlib.ticker as ticker\n",
    "from matplotlib.lines import Line2D\n",
    "import matplotlib.colors as mcolors\n",
    "import colorsys\n",
    "\n",
    "\n",
    "# Plot using refnx built-in function\n",
    "fig, ax = global_objective.plot()\n",
    "\n",
    "# Set axis line thickness\n",
    "for spine in ax.spines.values():\n",
    "    spine.set_linewidth(1.5)\n",
    "\n",
    "# Font size and bold labels\n",
    "ax.set_xticklabels(ax.get_xticks(), fontsize=12, fontweight='bold')\n",
    "ax.set_yticklabels(ax.get_yticks(), fontsize=12, fontweight='bold')\n",
    "\n",
    "# Axis formatting\n",
    "ax.xaxis.set_major_formatter(ticker.FormatStrFormatter('%.2f'))\n",
    "ax.yaxis.set_major_formatter(\n",
    "    ticker.FuncFormatter(lambda x, _: f\"$10^{{{int(np.log10(x))}}}$\")\n",
    ")\n",
    "\n",
    "# Axes scaling and limits\n",
    "ax.set_yscale('log')\n",
    "ax.set_xlabel(r'$\\mathbf{Q}_\\mathbf{Z}$ $\\mathbf{(\\AA}^{\\mathbf{-1}}\\mathbf{)}$', fontsize=16)\n",
    "ax.set_ylabel(r'$\\mathbf{RQ}_{\\mathbf{Z}}^{\\ \\mathbf{4}}$ $\\mathbf{(\\AA}^{\\mathbf{-4}}\\mathbf{)}$', fontsize=16)\n",
    "ax.set_xlim(0, 0.25)\n",
    "ax.set_ylim(1E-11, 1E-7)\n",
    "\n",
    "def adjust_color_lightness(color, factor):\n",
    "    \"\"\"Adjust lightness of a matplotlib color using HLS.\"\"\"\n",
    "    r, g, b = mcolors.to_rgb(color)\n",
    "    h, l, s = colorsys.rgb_to_hls(r, g, b)\n",
    "    l = np.clip(l * factor, 0, 1)\n",
    "    r, g, b = colorsys.hls_to_rgb(h, l, s)\n",
    "    return (r, g, b)\n",
    "\n",
    "light_red = adjust_color_lightness('red', 1.4)    # lighter red\n",
    "dark_red  = adjust_color_lightness('red', 0.6)    # darker red\n",
    "light_blue = adjust_color_lightness('blue', 1.4)\n",
    "dark_blue  = adjust_color_lightness('blue', 0.6)\n",
    "light_orange = adjust_color_lightness('orange', 1.4)\n",
    "dark_orange  = adjust_color_lightness('orange', 0.6)\n",
    "\n",
    "# === Define custom colors for datasets === #\n",
    "data_styles = {\n",
    "    'dLip_acmw': {'color': light_red, 'line': dark_red},\n",
    "    'dLip_d2o': {'color': light_blue, 'line': dark_blue},\n",
    "    'hLip_d2o': {'color': light_orange, 'line': dark_orange},\n",
    "}\n",
    "\n",
    "# === Apply custom styles to data and fit lines === #\n",
    "lines = ax.get_lines()\n",
    "line_idx = 0\n",
    "\n",
    "for objective in global_objective.objectives:\n",
    "    label = objective.data.name\n",
    "    if label not in data_styles:\n",
    "        continue\n",
    "\n",
    "    # --- Data line (markers) ---\n",
    "    data_line = lines[line_idx]\n",
    "    data_line.set_color(data_styles[label]['color'])\n",
    "    data_line.set_marker('o')\n",
    "    data_line.set_markersize(6)\n",
    "    data_line.set_linestyle('None')\n",
    "    data_line.set_label(label)  # For legend\n",
    "\n",
    "    line_idx += 1\n",
    "\n",
    "    # --- Fit line ---\n",
    "    fit_line = lines[line_idx]\n",
    "    fit_line.set_color(data_styles[label]['line'])\n",
    "    fit_line.set_linewidth(2.5)\n",
    "    fit_line.set_label(f\"{label} fit\")\n",
    "\n",
    "    line_idx += 1\n",
    "\n",
    "# === Fix error bar colors to match data points === #\n",
    "# ax.collections are the error bars\n",
    "for col, objective in zip(ax.collections, global_objective.objectives):\n",
    "    label = objective.data.name\n",
    "    if label in data_styles:\n",
    "        col.set_color(data_styles[label]['color'])\n",
    "\n",
    "# === Add legend === #\n",
    "# ax.legend(frameon=True, prop={'weight': 'bold', 'size': 10})\n",
    "\n",
    "# === Optional: Save figure for publication === #\n",
    "fig.savefig(\"Ref_fit_SPC_35mNm.png\", dpi=600, bbox_inches='tight')"
   ]
  },
  {
   "cell_type": "markdown",
   "metadata": {},
   "source": [
    "#### Plot SLD profiles"
   ]
  },
  {
   "cell_type": "code",
   "execution_count": 36,
   "metadata": {},
   "outputs": [
    {
     "name": "stderr",
     "output_type": "stream",
     "text": [
      "C:\\Users\\carrascosa-tejedor\\AppData\\Local\\Temp\\ipykernel_24592\\2614027390.py:11: UserWarning: set_ticklabels() should only be used with a fixed number of ticks, i.e. after set_ticks() or using a FixedLocator.\n",
      "  ax.set_xticklabels(ax.get_xticks(), fontsize=12, fontweight='bold')\n",
      "C:\\Users\\carrascosa-tejedor\\AppData\\Local\\Temp\\ipykernel_24592\\2614027390.py:12: UserWarning: set_ticklabels() should only be used with a fixed number of ticks, i.e. after set_ticks() or using a FixedLocator.\n",
      "  ax.set_yticklabels(ax.get_yticks(), fontsize=12, fontweight='bold')\n"
     ]
    },
    {
     "data": {
      "image/png": "[encoded data removed]",
      "text/plain": [
       "<Figure size 640x480 with 1 Axes>"
      ]
     },
     "metadata": {},
     "output_type": "display_data"
    }
   ],
   "source": [
    "fig, ax = plt.subplots()\n",
    "\n",
    "ax = plt.gca()  # Get the current axis\n",
    "\n",
    "# Set the thickness of each axis line\n",
    "for spine in ax.spines.values():\n",
    "    spine.set_linewidth(1.5)\n",
    "import matplotlib.pyplot as plt\n",
    "\n",
    "# Set the size of the x and y labels\n",
    "ax.set_xticklabels(ax.get_xticks(), fontsize=12, fontweight='bold')\n",
    "ax.set_yticklabels(ax.get_yticks(), fontsize=12, fontweight='bold')\n",
    "\n",
    "# To round the values of x-axis to two decimal places\n",
    "import matplotlib.ticker as ticker\n",
    "ax.xaxis.set_major_formatter(ticker.FormatStrFormatter('%.0f'))\n",
    "ax.yaxis.set_major_formatter(ticker.FormatStrFormatter('%.1f'))\n",
    "\n",
    "def adjust_color_lightness(color, factor):\n",
    "    \"\"\"Adjust lightness of a matplotlib color using HLS.\"\"\"\n",
    "    r, g, b = mcolors.to_rgb(color)\n",
    "    h, l, s = colorsys.rgb_to_hls(r, g, b)\n",
    "    l = np.clip(l * factor, 0, 1)\n",
    "    r, g, b = colorsys.hls_to_rgb(h, l, s)\n",
    "    return (r, g, b)\n",
    "\n",
    "dark_red  = adjust_color_lightness('red', 0.6)    # darker red\n",
    "dark_blue  = adjust_color_lightness('blue', 0.6)\n",
    "dark_orange  = adjust_color_lightness('orange', 0.6)\n",
    "\n",
    "ax.plot(*dLip_acmw.sld_profile(), label='dLip_acmw', color='red', linewidth=2.5)\n",
    "ax.plot(*dLip_d2o.sld_profile(), label='dLip_d2o', color='blue', linewidth=2.5)\n",
    "# ax.plot(*hLip_acmw.sld_profile(), label='hLip_acmw', color='green', linewidth=2.5)\n",
    "ax.plot(*hLip_d2o.sld_profile(), label='hLip_d2o', color='orange', linewidth=2.5)\n",
    "\n",
    "ax.set_ylabel(r\"$\\mathbf{\\rho}$ $\\mathbf{(10}^{\\mathbf{-6}} \\mathbf{\\AA}^{\\mathbf{-2}}\\mathbf{)}$\", fontsize=16)\n",
    "ax.set_xlabel(r\"$\\mathbf{z}$ $\\mathbf{(\\AA)}$\", fontsize=16)\n",
    "plt.xlim(-30, 60)\n",
    "plt.ylim(-1, 7)\n",
    "# ax.legend(frameon=True, prop={'weight': 'bold', 'size': 10});\n",
    "\n",
    "fig.savefig(\"SLDprofile_SPC_35mNm.png\", dpi=600, bbox_inches='tight')"
   ]
  },
  {
   "cell_type": "markdown",
   "metadata": {},
   "source": [
    "#### Generate and plot the volume fraction profiles"
   ]
  },
  {
   "cell_type": "code",
   "execution_count": 37,
   "metadata": {},
   "outputs": [
    {
     "name": "stderr",
     "output_type": "stream",
     "text": [
      "C:\\Users\\carrascosa-tejedor\\AppData\\Local\\Temp\\ipykernel_24592\\1637114662.py:24: UserWarning: set_ticklabels() should only be used with a fixed number of ticks, i.e. after set_ticks() or using a FixedLocator.\n",
      "  ax.set_xticklabels(ax.get_xticks(), fontsize=12, fontweight='bold')\n",
      "C:\\Users\\carrascosa-tejedor\\AppData\\Local\\Temp\\ipykernel_24592\\1637114662.py:25: UserWarning: set_ticklabels() should only be used with a fixed number of ticks, i.e. after set_ticks() or using a FixedLocator.\n",
      "  ax.set_yticklabels(ax.get_yticks(), fontsize=12, fontweight='bold')\n"
     ]
    },
    {
     "data": {
      "image/png": "[encoded data removed]",
      "text/plain": [
       "<Figure size 640x480 with 1 Axes>"
      ]
     },
     "metadata": {},
     "output_type": "display_data"
    }
   ],
   "source": [
    "import matplotlib.pyplot as plt\n",
    "import numpy as np\n",
    "import matplotlib.ticker as ticker\n",
    "\n",
    "# Define custom colors\n",
    "color_map = {\n",
    "    \"tails\": \"red\",\n",
    "    \"heads\": \"orange\",\n",
    "    \"SPC\": \"green\",\n",
    "    \"solvent\": \"blue\",\n",
    "}\n",
    "\n",
    "# Generate z and volume fraction profiles\n",
    "z, vfps = create_occupancy(dLip_acmw)\n",
    "\n",
    "# Create plot\n",
    "fig, ax = plt.subplots()\n",
    "\n",
    "# Set axis line thickness\n",
    "for spine in ax.spines.values():\n",
    "    spine.set_linewidth(1.5)\n",
    "\n",
    "# Set tick label font size and weight\n",
    "ax.set_xticklabels(ax.get_xticks(), fontsize=12, fontweight='bold')\n",
    "ax.set_yticklabels(ax.get_yticks(), fontsize=12, fontweight='bold')\n",
    "\n",
    "# Format tick labels\n",
    "ax.xaxis.set_major_formatter(ticker.FormatStrFormatter('%.0f'))\n",
    "ax.yaxis.set_major_formatter(ticker.FormatStrFormatter('%.1f'))\n",
    "\n",
    "# Plot tails, heads, and solvent\n",
    "groups = [(1,), (2,), (4,)]\n",
    "labels = [\"tails\", \"heads\", \"solvent\"]\n",
    "\n",
    "for g, label in zip(groups, labels):\n",
    "    vfp = np.take(vfps, g, axis=0)\n",
    "    if len(vfp.shape) > 1:\n",
    "        vfp = np.sum(vfp, axis=0)\n",
    "    ax.plot(z, vfp, label=label, linewidth=2.5, color=color_map[label])\n",
    "\n",
    "# Plot SPC separately: 10% of layers 1 and 2, 100% of layer 3\n",
    "vfp_spc = 0.0231 * vfps[1] + 0.0231 * vfps[2] + vfps[3]\n",
    "ax.plot(z, vfp_spc, label=\"SPC\", linewidth=2.5, color=color_map[\"SPC\"])\n",
    "\n",
    "# Final plot settings\n",
    "ax.legend(frameon=True, prop={'weight': 'bold', 'size': 10})\n",
    "ax.set_ylabel(r'$\\mathbf{V}_\\mathbf{f}$', fontsize=16)\n",
    "ax.set_xlabel(r\"$\\mathbf{z}$ $\\mathbf{(\\AA)}$\", fontsize=16)\n",
    "ax.set_xlim(-30, 60)\n",
    "ax.set_ylim(-0.1, 1.1)\n",
    "\n",
    "plt.show()\n",
    "fig.savefig(\"Vfprofile_SPC_35mNm.png\", dpi=600, bbox_inches='tight')"
   ]
  },
  {
   "cell_type": "code",
   "execution_count": 38,
   "metadata": {},
   "outputs": [
    {
     "name": "stderr",
     "output_type": "stream",
     "text": [
      "C:\\Users\\carrascosa-tejedor\\AppData\\Local\\Temp\\ipykernel_24592\\1132320053.py:23: UserWarning: set_ticklabels() should only be used with a fixed number of ticks, i.e. after set_ticks() or using a FixedLocator.\n",
      "  ax.set_xticklabels(ax.get_xticks(), fontsize=12, fontweight='bold')\n",
      "C:\\Users\\carrascosa-tejedor\\AppData\\Local\\Temp\\ipykernel_24592\\1132320053.py:24: UserWarning: set_ticklabels() should only be used with a fixed number of ticks, i.e. after set_ticks() or using a FixedLocator.\n",
      "  ax.set_yticklabels(ax.get_yticks(), fontsize=12, fontweight='bold')\n"
     ]
    },
    {
     "data": {
      "image/png": "[encoded data removed]",
      "text/plain": [
       "<Figure size 640x480 with 1 Axes>"
      ]
     },
     "metadata": {},
     "output_type": "display_data"
    }
   ],
   "source": [
    "import matplotlib.pyplot as plt\n",
    "import numpy as np\n",
    "import matplotlib.ticker as ticker\n",
    "\n",
    "# Define custom colors\n",
    "color_map = {\n",
    "    \"lipids\": \"red\",\n",
    "    \"SPC\": \"green\",\n",
    "    \"solvent\": \"blue\",\n",
    "}\n",
    "\n",
    "# Generate z and volume fraction profiles\n",
    "z, vfps = create_occupancy(dLip_acmw)\n",
    "\n",
    "# Create plot\n",
    "fig, ax = plt.subplots()\n",
    "\n",
    "# Set axis line thickness\n",
    "for spine in ax.spines.values():\n",
    "    spine.set_linewidth(1.5)\n",
    "\n",
    "# Set tick label font size and weight\n",
    "ax.set_xticklabels(ax.get_xticks(), fontsize=12, fontweight='bold')\n",
    "ax.set_yticklabels(ax.get_yticks(), fontsize=12, fontweight='bold')\n",
    "\n",
    "# Format tick labels\n",
    "ax.xaxis.set_major_formatter(ticker.FormatStrFormatter('%.0f'))\n",
    "ax.yaxis.set_major_formatter(ticker.FormatStrFormatter('%.1f'))\n",
    "\n",
    "# Plot combined lipid profile (heads + tails)\n",
    "vfp_lipids = vfps[1] + vfps[2]\n",
    "ax.plot(z, vfp_lipids, label=\"lipids\", linewidth=2.5, color=color_map[\"lipids\"])\n",
    "\n",
    "# Plot SPC: 10% of layers 1 and 2 + 100% of layer 3\n",
    "vfp_spc = 0.0231 * vfps[1] + 0.0231 * vfps[2] + vfps[3]\n",
    "ax.plot(z, vfp_spc, label=\"SPC\", linewidth=2.5, color=color_map[\"SPC\"])\n",
    "\n",
    "# Plot solvent\n",
    "vfp_solvent = vfps[4]\n",
    "ax.plot(z, vfp_solvent, label=\"solvent\", linewidth=2.5, color=color_map[\"solvent\"])\n",
    "\n",
    "# Final plot settings\n",
    "ax.legend(frameon=True, prop={'weight': 'bold', 'size': 10})\n",
    "ax.set_ylabel(r'$\\mathbf{V}_\\mathbf{f}$', fontsize=16)\n",
    "ax.set_xlabel(r\"$\\mathbf{z}$ $\\mathbf{(\\AA)}$\", fontsize=16)\n",
    "ax.set_xlim(-30, 60)\n",
    "ax.set_ylim(-0.1, 1.1)\n",
    "\n",
    "plt.show()\n"
   ]
  },
  {
   "cell_type": "markdown",
   "metadata": {},
   "source": [
    "#### Perform MCMC analysis"
   ]
  },
  {
   "cell_type": "code",
   "execution_count": 39,
   "metadata": {},
   "outputs": [
    {
     "name": "stderr",
     "output_type": "stream",
     "text": [
      "100%|██████████| 100/100 [01:47<00:00,  1.08s/it]\n"
     ]
    }
   ],
   "source": [
    "fitter.reset()\n",
    "fitter.sample(100, pool=1)\n",
    "fitter.reset()"
   ]
  },
  {
   "cell_type": "code",
   "execution_count": 40,
   "metadata": {},
   "outputs": [
    {
     "name": "stderr",
     "output_type": "stream",
     "text": [
      "100%|██████████| 1000/1000 [16:36<00:00,  1.00it/s]\n"
     ]
    }
   ],
   "source": [
    "res = fitter.sample(100, nthin=10, pool=1)"
   ]
  },
  {
   "cell_type": "markdown",
   "metadata": {},
   "source": [
    "#### List of parameters of the Global Objective"
   ]
  },
  {
   "cell_type": "code",
   "execution_count": 41,
   "metadata": {},
   "outputs": [
    {
     "name": "stdout",
     "output_type": "stream",
     "text": [
      "________________________________________________________________________________\n",
      "\n",
      "\n",
      "--Global Objective--\n",
      "________________________________________________________________________________\n",
      "Objective - dLip_acmw\n",
      "Dataset = dLip_acmw\n",
      "datapoints = 99\n",
      "chi2 = 196.50276838607644\n",
      "Weighted = True\n",
      "Transform = Transform('YX4')\n",
      "________________________________________________________________________________\n",
      "Parameters: 'model_dLip_acmw'\n",
      "________________________________________________________________________________\n",
      "Parameters: 'instrument parameters'\n",
      "<Parameter:    'scale'    , value=1  (fixed) , bounds=[-inf, inf]>\n",
      "<Parameter:     'bkg'     , value=1e-06  (fixed) , bounds=[-inf, inf]>\n",
      "<Parameter:'dq - resolution', value=7  (fixed) , bounds=[-inf, inf]>\n",
      "<Parameter:  'q_offset'   , value=0  (fixed) , bounds=[-inf, inf]>\n",
      "________________________________________________________________________________\n",
      "Parameters: 'Structure - ' \n",
      "________________________________________________________________________________\n",
      "Parameters:      'air'     \n",
      "<Parameter: 'air - thick' , value=0  (fixed) , bounds=[-inf, inf]>\n",
      "________________________________________________________________________________\n",
      "Parameters:      'air'     \n",
      "<Parameter:  'air - sld'  , value=0  (fixed) , bounds=[-inf, inf]>\n",
      "<Parameter: 'air - isld'  , value=0  (fixed) , bounds=[-inf, inf]>\n",
      "<Parameter: 'air - rough' , value=0  (fixed) , bounds=[-inf, inf]>\n",
      "<Parameter:'air - volfrac solvent', value=0  (fixed) , bounds=[0.0, 1.0]>\n",
      "________________________________________________________________________________\n",
      "Parameters:     'dtail'    \n",
      "<Parameter: 'tail_thick'  , value=12.4588 +/- 0.0284, bounds=[10.0, 20.0]>\n",
      "________________________________________________________________________________\n",
      "Parameters:       ''       \n",
      "<Parameter:  'dtail_SLD'  , value=4.88257 +/- 0.00392, bounds=[4.8793634198757045, 7.319045129813556]>\n",
      "<Parameter:   ' - isld'   , value=0  (fixed) , bounds=[-inf, inf]>\n",
      "<Parameter:    'rough'    , value=3.9  (fixed) , bounds=[3.9, 6.0]>\n",
      "<Parameter: 'tail_vfsolv' , value=0  (fixed) , bounds=[-inf, inf]>\n",
      "________________________________________________________________________________\n",
      "Parameters:     'head'     \n",
      "<Parameter: 'head_thick'  , value=7.11007 +/- 0.165, bounds=[5.0, 12.0]>\n",
      "________________________________________________________________________________\n",
      "Parameters:       ''       \n",
      "<Parameter:'d_head_acmw_SLD', value=2.62244  (fixed) , bounds=[-inf, inf]>\n",
      "<Parameter:   ' - isld'   , value=0  (fixed) , bounds=[-inf, inf]>\n",
      "<Parameter:    'rough'    , value=3.9  (fixed) , bounds=[3.9, 6.0]>\n",
      "<Parameter: 'head_vfsolv' , value=0.326034 +/- 0.0141, bounds=[0.0, 0.7], constraint=<Parameter:     None      , value=0.326034  (fixed) , bounds=None>>\n",
      "________________________________________________________________________________\n",
      "Parameters:   'spc_acmw'   \n",
      "<Parameter:  'spc_thick'  , value=3.21021 +/- 0.208, bounds=[1.0, 10.0]>\n",
      "________________________________________________________________________________\n",
      "Parameters:       ''       \n",
      "<Parameter:   ' - sld'    , value=1.28  (fixed) , bounds=[-inf, inf]>\n",
      "<Parameter:   ' - isld'   , value=0  (fixed) , bounds=[-inf, inf]>\n",
      "<Parameter:    'rough'    , value=3.9  (fixed) , bounds=[3.9, 6.0]>\n",
      "<Parameter: 'spc_vfsolv'  , value=0.142647 +/- 0.0473, bounds=[0.1, 0.9]>\n",
      "________________________________________________________________________________\n",
      "Parameters:     'acmw'     \n",
      "<Parameter:'acmw - thick' , value=0  (fixed) , bounds=[-inf, inf]>\n",
      "________________________________________________________________________________\n",
      "Parameters:     'acmw'     \n",
      "<Parameter: 'acmw - sld'  , value=0  (fixed) , bounds=[-inf, inf]>\n",
      "<Parameter: 'acmw - isld' , value=0  (fixed) , bounds=[-inf, inf]>\n",
      "<Parameter:    'rough'    , value=3.9  (fixed) , bounds=[3.9, 6.0]>\n",
      "<Parameter:'acmw - volfrac solvent', value=0  (fixed) , bounds=[0.0, 1.0]>\n",
      "\n",
      "\n",
      "________________________________________________________________________________\n",
      "Objective - dLip_d2o\n",
      "Dataset = dLip_d2o\n",
      "datapoints = 91\n",
      "chi2 = 412.64884630777243\n",
      "Weighted = True\n",
      "Transform = Transform('YX4')\n",
      "________________________________________________________________________________\n",
      "Parameters: 'model_dLip_d2o'\n",
      "________________________________________________________________________________\n",
      "Parameters: 'instrument parameters'\n",
      "<Parameter:    'scale'    , value=0.9859  (fixed) , bounds=[-inf, inf]>\n",
      "<Parameter:     'bkg'     , value=1e-07  (fixed) , bounds=[-inf, inf]>\n",
      "<Parameter:'dq - resolution', value=7  (fixed) , bounds=[-inf, inf]>\n",
      "<Parameter:  'q_offset'   , value=0  (fixed) , bounds=[-inf, inf]>\n",
      "________________________________________________________________________________\n",
      "Parameters: 'Structure - ' \n",
      "________________________________________________________________________________\n",
      "Parameters:      'air'     \n",
      "<Parameter: 'air - thick' , value=0  (fixed) , bounds=[-inf, inf]>\n",
      "________________________________________________________________________________\n",
      "Parameters:      'air'     \n",
      "<Parameter:  'air - sld'  , value=0  (fixed) , bounds=[-inf, inf]>\n",
      "<Parameter: 'air - isld'  , value=0  (fixed) , bounds=[-inf, inf]>\n",
      "<Parameter: 'air - rough' , value=0  (fixed) , bounds=[-inf, inf]>\n",
      "<Parameter:'air - volfrac solvent', value=0  (fixed) , bounds=[0.0, 1.0]>\n",
      "________________________________________________________________________________\n",
      "Parameters:     'dtail'    \n",
      "<Parameter: 'tail_thick'  , value=12.4588 +/- 0.0284, bounds=[10.0, 20.0]>\n",
      "________________________________________________________________________________\n",
      "Parameters:       ''       \n",
      "<Parameter:  'dtail_SLD'  , value=4.88257 +/- 0.00392, bounds=[4.8793634198757045, 7.319045129813556]>\n",
      "<Parameter:   ' - isld'   , value=0  (fixed) , bounds=[-inf, inf]>\n",
      "<Parameter:    'rough'    , value=3.9  (fixed) , bounds=[3.9, 6.0]>\n",
      "<Parameter: 'tail_vfsolv' , value=0  (fixed) , bounds=[-inf, inf]>\n",
      "________________________________________________________________________________\n",
      "Parameters:     'head'     \n",
      "<Parameter: 'head_thick'  , value=7.11007 +/- 0.165, bounds=[5.0, 12.0]>\n",
      "________________________________________________________________________________\n",
      "Parameters:       ''       \n",
      "<Parameter:'d_head_d2o_SLD', value=2.92693  (fixed) , bounds=[-inf, inf]>\n",
      "<Parameter:   ' - isld'   , value=0  (fixed) , bounds=[-inf, inf]>\n",
      "<Parameter:    'rough'    , value=3.9  (fixed) , bounds=[3.9, 6.0]>\n",
      "<Parameter: 'head_vfsolv' , value=0.326034 +/- 0.0141, bounds=[0.0, 0.7], constraint=<Parameter:     None      , value=0.326034  (fixed) , bounds=None>>\n",
      "________________________________________________________________________________\n",
      "Parameters:    'spc_d2o'   \n",
      "<Parameter:  'spc_thick'  , value=3.21021 +/- 0.208, bounds=[1.0, 10.0]>\n",
      "________________________________________________________________________________\n",
      "Parameters:       ''       \n",
      "<Parameter:   ' - sld'    , value=2.14  (fixed) , bounds=[-inf, inf]>\n",
      "<Parameter:   ' - isld'   , value=0  (fixed) , bounds=[-inf, inf]>\n",
      "<Parameter:    'rough'    , value=3.9  (fixed) , bounds=[3.9, 6.0]>\n",
      "<Parameter: 'spc_vfsolv'  , value=0.142647 +/- 0.0473, bounds=[0.1, 0.9]>\n",
      "________________________________________________________________________________\n",
      "Parameters:   'd2o_dlip'   \n",
      "<Parameter:'d2o_dlip - thick', value=0  (fixed) , bounds=[-inf, inf]>\n",
      "________________________________________________________________________________\n",
      "Parameters:   'd2o_dlip'   \n",
      "<Parameter:'d2o_dlip - sld', value=6.15  (fixed) , bounds=[-inf, inf]>\n",
      "<Parameter:'d2o_dlip - isld', value=0  (fixed) , bounds=[-inf, inf]>\n",
      "<Parameter:    'rough'    , value=3.9  (fixed) , bounds=[3.9, 6.0]>\n",
      "<Parameter:'d2o_dlip - volfrac solvent', value=0  (fixed) , bounds=[0.0, 1.0]>\n",
      "\n",
      "\n",
      "________________________________________________________________________________\n",
      "Objective - hLip_d2o\n",
      "Dataset = hLip_d2o\n",
      "datapoints = 90\n",
      "chi2 = 233.7123810171881\n",
      "Weighted = True\n",
      "Transform = Transform('YX4')\n",
      "________________________________________________________________________________\n",
      "Parameters: 'model_hLip_d2o'\n",
      "________________________________________________________________________________\n",
      "Parameters: 'instrument parameters'\n",
      "<Parameter:    'scale'    , value=0.9585  (fixed) , bounds=[-inf, inf]>\n",
      "<Parameter:     'bkg'     , value=1e-06  (fixed) , bounds=[-inf, inf]>\n",
      "<Parameter:'dq - resolution', value=7  (fixed) , bounds=[-inf, inf]>\n",
      "<Parameter:  'q_offset'   , value=0  (fixed) , bounds=[-inf, inf]>\n",
      "________________________________________________________________________________\n",
      "Parameters: 'Structure - ' \n",
      "________________________________________________________________________________\n",
      "Parameters:      'air'     \n",
      "<Parameter: 'air - thick' , value=0  (fixed) , bounds=[-inf, inf]>\n",
      "________________________________________________________________________________\n",
      "Parameters:      'air'     \n",
      "<Parameter:  'air - sld'  , value=0  (fixed) , bounds=[-inf, inf]>\n",
      "<Parameter: 'air - isld'  , value=0  (fixed) , bounds=[-inf, inf]>\n",
      "<Parameter: 'air - rough' , value=0  (fixed) , bounds=[-inf, inf]>\n",
      "<Parameter:'air - volfrac solvent', value=0  (fixed) , bounds=[0.0, 1.0]>\n",
      "________________________________________________________________________________\n",
      "Parameters:     'tail'     \n",
      "<Parameter: 'tail_thick'  , value=12.4588 +/- 0.0284, bounds=[10.0, 20.0]>\n",
      "________________________________________________________________________________\n",
      "Parameters:       ''       \n",
      "<Parameter:  'htail_SLD'  , value=-0.185985 +/- 0.000149, bounds=[-0.2787942150200383, -0.1858628100133589], constraint=<Parameter:     None      , value=-0.185985  (fixed) , bounds=None>>\n",
      "<Parameter:   ' - isld'   , value=0  (fixed) , bounds=[-inf, inf]>\n",
      "<Parameter:    'rough'    , value=3.9  (fixed) , bounds=[3.9, 6.0]>\n",
      "<Parameter: 'tail_vfsolv' , value=0  (fixed) , bounds=[-inf, inf]>\n",
      "________________________________________________________________________________\n",
      "Parameters:     'head'     \n",
      "<Parameter: 'head_thick'  , value=7.11007 +/- 0.165, bounds=[5.0, 12.0]>\n",
      "________________________________________________________________________________\n",
      "Parameters:       ''       \n",
      "<Parameter:'h_head_d2o_SLD', value=2.57291  (fixed) , bounds=[-inf, inf]>\n",
      "<Parameter:   ' - isld'   , value=0  (fixed) , bounds=[-inf, inf]>\n",
      "<Parameter:    'rough'    , value=3.9  (fixed) , bounds=[3.9, 6.0]>\n",
      "<Parameter: 'head_vfsolv' , value=0.326034 +/- 0.0141, bounds=[0.0, 0.7], constraint=<Parameter:     None      , value=0.326034  (fixed) , bounds=None>>\n",
      "________________________________________________________________________________\n",
      "Parameters:    'spc_d2o'   \n",
      "<Parameter:  'spc_thick'  , value=3.21021 +/- 0.208, bounds=[1.0, 10.0]>\n",
      "________________________________________________________________________________\n",
      "Parameters:       ''       \n",
      "<Parameter:   ' - sld'    , value=2.14  (fixed) , bounds=[-inf, inf]>\n",
      "<Parameter:   ' - isld'   , value=0  (fixed) , bounds=[-inf, inf]>\n",
      "<Parameter:    'rough'    , value=3.9  (fixed) , bounds=[3.9, 6.0]>\n",
      "<Parameter: 'spc_vfsolv'  , value=0.142647 +/- 0.0473, bounds=[0.1, 0.9]>\n",
      "________________________________________________________________________________\n",
      "Parameters:   'd2o_hlip'   \n",
      "<Parameter:'d2o_hlip - thick', value=0  (fixed) , bounds=[-inf, inf]>\n",
      "________________________________________________________________________________\n",
      "Parameters:   'd2o_hlip'   \n",
      "<Parameter:'d2o_hlip - sld', value=6.15  (fixed) , bounds=[-inf, inf]>\n",
      "<Parameter:'d2o_hlip - isld', value=0  (fixed) , bounds=[-inf, inf]>\n",
      "<Parameter:    'rough'    , value=3.9  (fixed) , bounds=[3.9, 6.0]>\n",
      "<Parameter:'d2o_hlip - volfrac solvent', value=0  (fixed) , bounds=[0.0, 1.0]>\n",
      "\n",
      "\n"
     ]
    }
   ],
   "source": [
    "print(global_objective)"
   ]
  },
  {
   "cell_type": "code",
   "execution_count": 43,
   "metadata": {},
   "outputs": [
    {
     "name": "stdout",
     "output_type": "stream",
     "text": [
      "chi2: 3.064959984403771\n",
      "________________________________________________________________________________\n",
      "Parameters:      None      \n",
      "<Parameter: 'tail_thick'  , value=12.4588 +/- 0.0284, bounds=[10.0, 20.0]>\n",
      "<Parameter:  'dtail_SLD'  , value=4.88257 +/- 0.00392, bounds=[4.8793634198757045, 7.319045129813556]>\n",
      "<Parameter: 'head_thick'  , value=7.11007 +/- 0.165, bounds=[5.0, 12.0]>\n",
      "<Parameter:  'spc_thick'  , value=3.21021 +/- 0.208, bounds=[1.0, 10.0]>\n",
      "<Parameter: 'spc_vfsolv'  , value=0.142647 +/- 0.0473, bounds=[0.1, 0.9]>\n"
     ]
    }
   ],
   "source": [
    "print(f\"chi2: {global_objective.chisqr()/(global_objective.npoints - len(global_objective.varying_parameters()))}\")\n",
    "print(global_objective.parameters.varying_parameters())"
   ]
  },
  {
   "cell_type": "code",
   "execution_count": 44,
   "metadata": {},
   "outputs": [
    {
     "name": "stdout",
     "output_type": "stream",
     "text": [
      "chi2: 3.064959984403771\n",
      "\n",
      "<Parameter: 'tail_thick'  , value=12.4588 +/- 0.0284, bounds=[10.0, 20.0]>\n",
      "<Parameter:'p_tails_vfsolv', value=0.0231  (fixed) , bounds=[0.0, 1.0]>\n",
      "<Parameter:  'dtail_SLD'  , value=4.88257 +/- 0.00392, bounds=[4.8793634198757045, 7.319045129813556]>\n",
      "dtail_SLD: 4.882574615987312\n",
      "htail_SLD: 4.882574615987312\n",
      "Delta %SLD: 0.25820566709058906\n",
      "\n",
      "<Parameter: 'head_thick'  , value=7.11007 +/- 0.165, bounds=[5.0, 12.0]>\n",
      "<Parameter: 'head_vfsolv' , value=0.326034 +/- 0.0141, bounds=[0.0, 0.7], constraint=<Parameter:     None      , value=0.326034  (fixed) , bounds=None>>\n",
      "<Parameter:'p_head_vfsolv', value=0.0231  (fixed) , bounds=[0.0, 1.0]>\n",
      "<Parameter:    'rough'    , value=3.9  (fixed) , bounds=[3.9, 6.0]>\n",
      "\n",
      "<Parameter:  'spc_thick'  , value=3.21021 +/- 0.208, bounds=[1.0, 10.0]>\n",
      "<Parameter: 'spc_vfsolv'  , value=0.142647 +/- 0.0473, bounds=[0.1, 0.9]>\n",
      "\n",
      "Gamma_tails_monolayer: 2.3489378682175244\n",
      "Gamma_heads_monolayer: 2.3489378682175244\n",
      "A_permolecule_tails_monolayer: 70.6948405733159\n",
      "A_permolecule_heads_monolayer: 70.6948405733159\n",
      "\n"
     ]
    }
   ],
   "source": [
    "print(f\"chi2: {global_objective.chisqr()/(global_objective.npoints - len(global_objective.varying_parameters()))}\")\n",
    "print()\n",
    "print(tail_thick)\n",
    "print(p_tails_vf)\n",
    "print(dtail_SLD)\n",
    "print(f\"dtail_SLD: {dtail_SLD.value}\")\n",
    "print(f\"htail_SLD: {dtail_SLD.value}\")\n",
    "print(f\"Delta %SLD: {100*(dtail_SLD.value-4.87)/4.87}\")\n",
    "print()\n",
    "print(head_thick)\n",
    "print(head_vfsolv)\n",
    "print(p_heads_vf)\n",
    "print(rough)\n",
    "print()\n",
    "print(spc_thick)\n",
    "print(spc_vfsolv)\n",
    "print()\n",
    "print(f\"Gamma_tails_monolayer: {Gamma_tails_monolayer.value}\")\n",
    "print(f\"Gamma_heads_monolayer: {Gamma_heads_monolayer.value}\")\n",
    "print(f\"A_permolecule_tails_monolayer: {A_permolecule_tails_monolayer.value}\")\n",
    "print(f\"A_permolecule_heads_monolayer: {A_permolecule_heads_monolayer.value}\")\n",
    "print()"
   ]
  }
 ],
 "metadata": {
  "kernelspec": {
   "display_name": "Python 3",
   "language": "python",
   "name": "python3"
  },
  "language_info": {
   "codemirror_mode": {
    "name": "ipython",
    "version": 3
   },
   "file_extension": ".py",
   "mimetype": "text/x-python",
   "name": "python",
   "nbconvert_exporter": "python",
   "pygments_lexer": "ipython3",
   "version": "3.12.4"
  }
 },
 "nbformat": 4,
 "nbformat_minor": 2
}
